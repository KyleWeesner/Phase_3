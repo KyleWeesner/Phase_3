{
 "cells": [
  {
   "cell_type": "code",
   "execution_count": 1,
   "metadata": {
    "ExecuteTime": {
     "end_time": "2022-03-10T06:32:11.918736Z",
     "start_time": "2022-03-10T06:32:11.044816Z"
    }
   },
   "outputs": [],
   "source": [
    "import pandas as pd\n",
    "import numpy as np\n",
    "import matplotlib.pyplot as plt\n",
    "import zipfile \n",
    "import sqlite3\n",
    "%matplotlib inline\n",
    "\n",
    "import seaborn as sns\n",
    "\n",
    "year_cutoff = 2000"
   ]
  },
  {
   "cell_type": "code",
   "execution_count": 2,
   "metadata": {
    "ExecuteTime": {
     "end_time": "2022-03-10T06:32:12.107173Z",
     "start_time": "2022-03-10T06:32:11.919746Z"
    },
    "scrolled": true
   },
   "outputs": [
    {
     "name": "stdout",
     "output_type": "stream",
     "text": [
      "<class 'pandas.core.frame.DataFrame'>\n",
      "RangeIndex: 54432 entries, 0 to 54431\n",
      "Data columns (total 7 columns):\n",
      " #   Column      Non-Null Count  Dtype \n",
      "---  ------      --------------  ----- \n",
      " 0   id          54432 non-null  int64 \n",
      " 1   rating      40915 non-null  object\n",
      " 2   fresh       54432 non-null  object\n",
      " 3   critic      51710 non-null  object\n",
      " 4   top_critic  54432 non-null  int64 \n",
      " 5   publisher   54432 non-null  object\n",
      " 6   fresh_flag  54432 non-null  bool  \n",
      "dtypes: bool(1), int64(2), object(4)\n",
      "memory usage: 2.5+ MB\n"
     ]
    }
   ],
   "source": [
    "#Load review info from Rotten Tomatoes\n",
    "rt_review_df = pd.read_csv('../../data/rt.reviews.tsv.gz',delimiter='\\t',encoding = 'unicode_escape')\n",
    "rt_review_df['publisher'].fillna('N/A',inplace = True)\n",
    "\n",
    "# Don't need written review. Date in this instance is review date and irrelevant\n",
    "rt_review_df.drop(columns = ['review','date'], inplace = True)\n",
    "rt_review_df['fresh_flag'] = (rt_review_df['fresh']=='fresh')\n",
    "\n",
    "rt_review_df\n",
    "rt_review_df.info()"
   ]
  },
  {
   "cell_type": "markdown",
   "metadata": {},
   "source": [
    "ID in this table is a unique movie identifier across rotten tomato datasets.\n",
    "\n",
    "A movie can have multiple reviews. Therefore, we can get the 'Fresh' rating across all review and across all 'top critics' for every ID"
   ]
  },
  {
   "cell_type": "code",
   "execution_count": 3,
   "metadata": {
    "ExecuteTime": {
     "end_time": "2022-03-10T06:32:12.123177Z",
     "start_time": "2022-03-10T06:32:12.110174Z"
    }
   },
   "outputs": [],
   "source": [
    "#Paring the data down to only the 'top critics'\n",
    "#This returns a series of tomato ratings as rated by top critics. Index by id\n",
    "top_critic_reviews_sr = rt_review_df[rt_review_df['top_critic']==1].groupby('id').mean()['fresh_flag']"
   ]
  },
  {
   "cell_type": "code",
   "execution_count": 4,
   "metadata": {
    "ExecuteTime": {
     "end_time": "2022-03-10T06:32:12.139180Z",
     "start_time": "2022-03-10T06:32:12.124177Z"
    }
   },
   "outputs": [],
   "source": [
    "#This returns a series of tomato ratings as rated by all critics. Index by id\n",
    "all_reviews_sr = rt_review_df.groupby('id').mean()['fresh_flag']"
   ]
  },
  {
   "cell_type": "code",
   "execution_count": 5,
   "metadata": {
    "ExecuteTime": {
     "end_time": "2022-03-10T06:32:12.266218Z",
     "start_time": "2022-03-10T06:32:12.140181Z"
    }
   },
   "outputs": [],
   "source": [
    "#Load movie info from Rotten Tomatoes\n",
    "rt_movie_df = pd.read_csv('../../data/rt.movie_info.tsv.gz',delimiter = '\\t')\n",
    "\n",
    "# NOTE: No movie title provided in dataset. And unique identifier 'id' cannot be matched\n",
    "# to another db.\n",
    "\n",
    "#Create list of genres for each record\n",
    "rt_movie_df['genre list'] = rt_movie_df['genre'].str.split('|')\n",
    "\n",
    "# Convert runtime to numerical data\n",
    "rt_movie_df['runtime_in_min'] = rt_movie_df['runtime'].map(lambda x: int(x[:-8]) if x is not np.nan else np.nan)\n",
    "\n",
    "# Converting theater date to datetime object and creating year column\n",
    "rt_movie_df['theater_date'] = pd.to_datetime(rt_movie_df['theater_date'])\n",
    "rt_movie_df['year'] = rt_movie_df['theater_date'].dt.year\n",
    "\n",
    "#'currency' and 'box_office' columns are about 4/5 empty. Dropping these columns. \n",
    "# Other datasets are morecomplete and this data can be gathered from there instead \n",
    "# Dropping synopsis and studio as well\n",
    "rt_movie_df.drop(columns = ['synopsis','currency','box_office','studio','runtime'],inplace=True)\n"
   ]
  },
  {
   "cell_type": "code",
   "execution_count": 6,
   "metadata": {
    "ExecuteTime": {
     "end_time": "2022-03-10T06:32:12.282010Z",
     "start_time": "2022-03-10T06:32:12.267218Z"
    }
   },
   "outputs": [
    {
     "name": "stdout",
     "output_type": "stream",
     "text": [
      "<class 'pandas.core.frame.DataFrame'>\n",
      "RangeIndex: 1560 entries, 0 to 1559\n",
      "Data columns (total 10 columns):\n",
      " #   Column          Non-Null Count  Dtype         \n",
      "---  ------          --------------  -----         \n",
      " 0   id              1560 non-null   int64         \n",
      " 1   rating          1557 non-null   object        \n",
      " 2   genre           1552 non-null   object        \n",
      " 3   director        1361 non-null   object        \n",
      " 4   writer          1111 non-null   object        \n",
      " 5   theater_date    1201 non-null   datetime64[ns]\n",
      " 6   dvd_date        1201 non-null   object        \n",
      " 7   genre list      1552 non-null   object        \n",
      " 8   runtime_in_min  1530 non-null   float64       \n",
      " 9   year            1201 non-null   float64       \n",
      "dtypes: datetime64[ns](1), float64(2), int64(1), object(6)\n",
      "memory usage: 122.0+ KB\n"
     ]
    }
   ],
   "source": [
    "rt_movie_df.info()"
   ]
  },
  {
   "cell_type": "markdown",
   "metadata": {},
   "source": [
    "Having calculated the 'Fresh' meter for each movie already we can create a column for each and add it to this master table"
   ]
  },
  {
   "cell_type": "code",
   "execution_count": 7,
   "metadata": {
    "ExecuteTime": {
     "end_time": "2022-03-10T06:32:12.298014Z",
     "start_time": "2022-03-10T06:32:12.284011Z"
    }
   },
   "outputs": [],
   "source": [
    "rt_movie_df['overall_tomato_rating'] = rt_movie_df['id'].map(lambda x: all_reviews_sr[x] if x in all_reviews_sr else np.nan)\n",
    "rt_movie_df['top_critic_tomato_rating'] = rt_movie_df['id'].map(lambda x: top_critic_reviews_sr[x] if x in top_critic_reviews_sr else np.nan)"
   ]
  },
  {
   "cell_type": "markdown",
   "metadata": {},
   "source": [
    "## Genre Performance\n",
    "Drop every record with a na in genre\n",
    "Create a boolean matrix for all different genres\n",
    "Drop unneccessary columns"
   ]
  },
  {
   "cell_type": "code",
   "execution_count": 8,
   "metadata": {
    "ExecuteTime": {
     "end_time": "2022-03-10T06:32:12.313977Z",
     "start_time": "2022-03-10T06:32:12.299014Z"
    },
    "scrolled": true
   },
   "outputs": [],
   "source": [
    "unique_genre_list = []\n",
    "for genres in rt_movie_df['genre list'].dropna().tolist():\n",
    "    for genre in genres:\n",
    "        unique_genre_list.append(genre)\n",
    "unique_genre_list =list(set(unique_genre_list))"
   ]
  },
  {
   "cell_type": "code",
   "execution_count": 9,
   "metadata": {
    "ExecuteTime": {
     "end_time": "2022-03-10T06:32:12.344223Z",
     "start_time": "2022-03-10T06:32:12.314977Z"
    },
    "scrolled": true
   },
   "outputs": [
    {
     "name": "stderr",
     "output_type": "stream",
     "text": [
      "<ipython-input-9-000dca11f742>:5: SettingWithCopyWarning: \n",
      "A value is trying to be set on a copy of a slice from a DataFrame.\n",
      "Try using .loc[row_indexer,col_indexer] = value instead\n",
      "\n",
      "See the caveats in the documentation: https://pandas.pydata.org/pandas-docs/stable/user_guide/indexing.html#returning-a-view-versus-a-copy\n",
      "  rt_movie_genre_df[genre] = rt_movie_genre_df['genre list'].map(lambda x: True if genre in x else False)\n"
     ]
    }
   ],
   "source": [
    "rt_movie_genre_df = rt_movie_df[rt_movie_df['genre list'].notna()]\n",
    "\n",
    "\n",
    "for genre in unique_genre_list:\n",
    "    rt_movie_genre_df[genre] = rt_movie_genre_df['genre list'].map(lambda x: True if genre in x else False)\n",
    "\n",
    "\n",
    "    \n"
   ]
  },
  {
   "cell_type": "code",
   "execution_count": 10,
   "metadata": {
    "ExecuteTime": {
     "end_time": "2022-03-10T06:32:12.359719Z",
     "start_time": "2022-03-10T06:32:12.345225Z"
    },
    "scrolled": false
   },
   "outputs": [],
   "source": [
    "# Get top 10 most released genres\n",
    "rt_movie_genre_temp = rt_movie_genre_df[rt_movie_genre_df['year']>year_cutoff].drop(\n",
    "    columns = ['rating','genre list','year','overall_tomato_rating','top_critic_tomato_rating',\n",
    "               'id','genre','dvd_date','runtime_in_min'])\n",
    "top_15_genres = list(rt_movie_genre_temp.sum().sort_values(ascending=False)[:15].index)\n"
   ]
  },
  {
   "cell_type": "code",
   "execution_count": 11,
   "metadata": {
    "ExecuteTime": {
     "end_time": "2022-03-10T06:32:12.375579Z",
     "start_time": "2022-03-10T06:32:12.360722Z"
    }
   },
   "outputs": [
    {
     "data": {
      "text/plain": [
       "Drama                          278\n",
       "Comedy                         176\n",
       "Action and Adventure           102\n",
       "Mystery and Suspense            98\n",
       "Art House and International     65\n",
       "Romance                         57\n",
       "Science Fiction and Fantasy     51\n",
       "Horror                          40\n",
       "Kids and Family                 35\n",
       "Documentary                     28\n",
       "Animation                       24\n",
       "Special Interest                20\n",
       "Musical and Performing Arts     19\n",
       "Television                       8\n",
       "Faith and Spirituality           7\n",
       "dtype: int64"
      ]
     },
     "execution_count": 11,
     "metadata": {},
     "output_type": "execute_result"
    }
   ],
   "source": [
    "rt_movie_genre_temp.sum().sort_values(ascending=False)[:15]"
   ]
  },
  {
   "cell_type": "code",
   "execution_count": 12,
   "metadata": {
    "ExecuteTime": {
     "end_time": "2022-03-10T06:32:12.420594Z",
     "start_time": "2022-03-10T06:32:12.379581Z"
    }
   },
   "outputs": [],
   "source": [
    "viz_data =[]\n",
    "for genre in top_15_genres:\n",
    "    grouped_df = rt_movie_genre_df[rt_movie_genre_df['year']>year_cutoff].groupby(genre).mean()\n",
    "    viz_data.append([genre,grouped_df['overall_tomato_rating'][1],grouped_df['top_critic_tomato_rating'][1]]) \n",
    "viz_data.sort(key = lambda x: x[1],reverse = True)"
   ]
  },
  {
   "cell_type": "code",
   "execution_count": 14,
   "metadata": {
    "ExecuteTime": {
     "end_time": "2022-03-10T06:32:13.218780Z",
     "start_time": "2022-03-10T06:32:12.740671Z"
    }
   },
   "outputs": [
    {
     "data": {
      "image/png": "[encoded data removed]",
      "text/plain": [
       "<Figure size 720x720 with 1 Axes>"
      ]
     },
     "metadata": {
      "needs_background": "light"
     },
     "output_type": "display_data"
    }
   ],
   "source": [
    "# Visualization\n",
    "viz_labels = [v[0] for v in viz_data]\n",
    "viz_all_ratings = [v[1]*100 for v in viz_data]\n",
    "viz_top_ratings = [v[2]*100 for v in viz_data]\n",
    "\n",
    "y = np.arange(len(viz_labels))\n",
    "h = 0.6\n",
    "\n",
    "fig, ax = plt.subplots(figsize=(10,10))\n",
    "\n",
    "\n",
    "ax.grid()\n",
    "\n",
    "ax.set_title(f'Critical Reception of various genres (post {year_cutoff}) per Rotten Tomato')\n",
    "ax.set_ylabel('Genre')\n",
    "ax.set_xlabel('Avg % Fresh')\n",
    "\n",
    "ax.barh(y-h/3, viz_all_ratings, h/1.5,color='tomato')\n",
    "ax.barh(y+h/3, viz_top_ratings, h/1.5,color='darksalmon')\n",
    "\n",
    "ax.set_xticks(np.arange(0, 90, step=5))\n",
    "\n",
    "ax.set_yticks(y)  \n",
    "ax.set_yticklabels(labels=viz_labels)\n",
    "ax.legend(['Overall Tomator Rating', 'Top Critic Tomato Rating'])\n",
    "ax.invert_yaxis()\n",
    "\n",
    "fig.savefig('../../images/PopularGenres_Critics.jpg',\n",
    "            transparent = False,bbox_inches=\"tight\");"
   ]
  },
  {
   "cell_type": "markdown",
   "metadata": {},
   "source": [
    "## Runtime Performance\n",
    "\n",
    "No corelation."
   ]
  },
  {
   "cell_type": "code",
   "execution_count": 15,
   "metadata": {
    "ExecuteTime": {
     "end_time": "2022-03-10T06:32:13.234795Z",
     "start_time": "2022-03-10T06:32:13.219780Z"
    }
   },
   "outputs": [],
   "source": [
    "rt_runtime_df = rt_movie_df.dropna(subset=['runtime_in_min','overall_tomato_rating','top_critic_tomato_rating'])"
   ]
  },
  {
   "cell_type": "markdown",
   "metadata": {},
   "source": [
    "Paring down runtime in min to the Inter quantile range"
   ]
  },
  {
   "cell_type": "code",
   "execution_count": 16,
   "metadata": {
    "ExecuteTime": {
     "end_time": "2022-03-10T06:32:13.249924Z",
     "start_time": "2022-03-10T06:32:13.236791Z"
    }
   },
   "outputs": [],
   "source": [
    "runtime_q3 = rt_runtime_df['runtime_in_min'].quantile(0.75)\n",
    "runtime_q1 = rt_runtime_df['runtime_in_min'].quantile(0.25)\n",
    "runtime_iqr = runtime_q3 - runtime_q1"
   ]
  },
  {
   "cell_type": "code",
   "execution_count": 17,
   "metadata": {
    "ExecuteTime": {
     "end_time": "2022-03-10T06:32:13.265936Z",
     "start_time": "2022-03-10T06:32:13.250926Z"
    }
   },
   "outputs": [
    {
     "data": {
      "text/plain": [
       "count      880\n",
       "unique       2\n",
       "top       True\n",
       "freq       879\n",
       "Name: runtime_in_min, dtype: object"
      ]
     },
     "execution_count": 17,
     "metadata": {},
     "output_type": "execute_result"
    }
   ],
   "source": [
    "(rt_runtime_df['runtime_in_min']>(runtime_q1 - 1.5*runtime_iqr)).describe()"
   ]
  },
  {
   "cell_type": "code",
   "execution_count": 18,
   "metadata": {
    "ExecuteTime": {
     "end_time": "2022-03-10T06:32:13.281948Z",
     "start_time": "2022-03-10T06:32:13.266937Z"
    },
    "scrolled": true
   },
   "outputs": [
    {
     "data": {
      "text/plain": [
       "count      880\n",
       "unique       2\n",
       "top       True\n",
       "freq       854\n",
       "Name: runtime_in_min, dtype: object"
      ]
     },
     "execution_count": 18,
     "metadata": {},
     "output_type": "execute_result"
    }
   ],
   "source": [
    "(rt_runtime_df['runtime_in_min']<(runtime_q3 + 1.5*runtime_iqr)).describe()"
   ]
  },
  {
   "cell_type": "code",
   "execution_count": 19,
   "metadata": {
    "ExecuteTime": {
     "end_time": "2022-03-10T06:32:13.297958Z",
     "start_time": "2022-03-10T06:32:13.282948Z"
    }
   },
   "outputs": [],
   "source": [
    "rt_runtime_df = rt_runtime_df[(rt_runtime_df['runtime_in_min']>(runtime_q1 - 1.5*runtime_iqr)) & \n",
    "              (rt_runtime_df['runtime_in_min']<(runtime_q3 + 1.5*runtime_iqr))]"
   ]
  },
  {
   "cell_type": "code",
   "execution_count": 20,
   "metadata": {
    "ExecuteTime": {
     "end_time": "2022-03-10T06:32:13.470218Z",
     "start_time": "2022-03-10T06:32:13.298959Z"
    }
   },
   "outputs": [
    {
     "data": {
      "image/png": "[encoded data removed]",
      "text/plain": [
       "<Figure size 1440x360 with 2 Axes>"
      ]
     },
     "metadata": {
      "needs_background": "light"
     },
     "output_type": "display_data"
    }
   ],
   "source": [
    "fig, ax = plt.subplots(1,2,figsize=(20,5))\n",
    "\n",
    "ax[0].scatter(x= rt_runtime_df['runtime_in_min'],y = rt_runtime_df['overall_tomato_rating']);\n",
    "ax[1].scatter(x= rt_runtime_df['runtime_in_min'],y = rt_runtime_df['top_critic_tomato_rating']);"
   ]
  }
 ],
 "metadata": {
  "kernelspec": {
   "display_name": "Python (learn-env)",
   "language": "python",
   "name": "learn-env"
  },
  "language_info": {
   "codemirror_mode": {
    "name": "ipython",
    "version": 3
   },
   "file_extension": ".py",
   "mimetype": "text/x-python",
   "name": "python",
   "nbconvert_exporter": "python",
   "pygments_lexer": "ipython3",
   "version": "3.8.5"
  }
 },
 "nbformat": 4,
 "nbformat_minor": 4
}
