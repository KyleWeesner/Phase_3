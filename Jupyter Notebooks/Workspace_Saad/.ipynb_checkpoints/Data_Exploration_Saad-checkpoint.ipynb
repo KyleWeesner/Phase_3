{
 "cells": [
  {
   "cell_type": "code",
   "execution_count": 2,
   "metadata": {
    "ExecuteTime": {
     "end_time": "2022-03-07T23:18:16.004196Z",
     "start_time": "2022-03-07T23:18:16.001203Z"
    }
   },
   "outputs": [],
   "source": [
    "import pandas as pd\n",
    "import numpy as np\n",
    "import matplotlib.pyplot as plt\n",
    "import zipfile \n",
    "import sqlite3\n",
    "%matplotlib inline"
   ]
  },
  {
   "cell_type": "code",
   "execution_count": 3,
   "metadata": {
    "ExecuteTime": {
     "end_time": "2022-03-07T23:18:16.020199Z",
     "start_time": "2022-03-07T23:18:16.005195Z"
    }
   },
   "outputs": [
    {
     "name": "stdout",
     "output_type": "stream",
     "text": [
      "<_io.TextIOWrapper name='../../data/rt.movie_info.tsv.gz' mode='r' encoding='cp1252'>\n",
      "<_io.TextIOWrapper name='../../data/rt.reviews.tsv.gz' mode='r' encoding='cp1252'>\n",
      "<_io.TextIOWrapper name='../../data/im.db.zip' mode='r' encoding='cp1252'>\n",
      "<_io.TextIOWrapper name='../../data/tmdb.movies.csv.gz' mode='r' encoding='cp1252'>\n",
      "<_io.TextIOWrapper name='../../data/tn.movie_budgets.csv.gz' mode='r' encoding='cp1252'>\n"
     ]
    }
   ],
   "source": [
    "with open('../../data/rt.movie_info.tsv.gz') as f:\n",
    "    print(f)\n",
    "with open('../../data/rt.reviews.tsv.gz') as f:\n",
    "    print(f)\n",
    "with open('../../data/im.db.zip') as f:\n",
    "    print(f)\n",
    "with open('../../data/tmdb.movies.csv.gz') as f:\n",
    "    print(f)\n",
    "with open('../../data/tn.movie_budgets.csv.gz') as f:\n",
    "    print(f)"
   ]
  },
  {
   "cell_type": "code",
   "execution_count": 4,
   "metadata": {
    "ExecuteTime": {
     "end_time": "2022-03-07T23:18:16.068215Z",
     "start_time": "2022-03-07T23:18:16.021200Z"
    },
    "scrolled": true
   },
   "outputs": [
    {
     "name": "stdout",
     "output_type": "stream",
     "text": [
      "<class 'pandas.core.frame.DataFrame'>\n",
      "RangeIndex: 1560 entries, 0 to 1559\n",
      "Data columns (total 13 columns):\n",
      " #   Column        Non-Null Count  Dtype \n",
      "---  ------        --------------  ----- \n",
      " 0   id            1560 non-null   int64 \n",
      " 1   synopsis      1498 non-null   object\n",
      " 2   rating        1557 non-null   object\n",
      " 3   genre         1552 non-null   object\n",
      " 4   director      1361 non-null   object\n",
      " 5   writer        1111 non-null   object\n",
      " 6   theater_date  1201 non-null   object\n",
      " 7   dvd_date      1201 non-null   object\n",
      " 8   currency      340 non-null    object\n",
      " 9   box_office    340 non-null    object\n",
      " 10  runtime       1530 non-null   object\n",
      " 11  studio        494 non-null    object\n",
      " 12  genre list    1552 non-null   object\n",
      "dtypes: int64(1), object(12)\n",
      "memory usage: 158.6+ KB\n"
     ]
    }
   ],
   "source": [
    "#Load movie info from Rotten Tomatoes\n",
    "rt_movie_df = pd.read_csv('../../data/rt.movie_info.tsv.gz',delimiter = '\\t')\n",
    "\n",
    "#Create list of genres for each record\n",
    "rt_movie_df['genre list'] = rt_movie_df['genre'].str.split('|')\n",
    "\n",
    "rt_movie_df.info()"
   ]
  },
  {
   "cell_type": "markdown",
   "metadata": {},
   "source": [
    "'currency' and 'box_office' columns are about 4/5 empty. Dropping these columns. Other datasets are complete and this data can be gathered from there instead"
   ]
  },
  {
   "cell_type": "code",
   "execution_count": 5,
   "metadata": {
    "ExecuteTime": {
     "end_time": "2022-03-07T23:18:16.083596Z",
     "start_time": "2022-03-07T23:18:16.070216Z"
    }
   },
   "outputs": [],
   "source": [
    "rt_movie_df.drop(columns = ['currency','box_office','studio'],inplace=True)"
   ]
  },
  {
   "cell_type": "code",
   "execution_count": 6,
   "metadata": {
    "ExecuteTime": {
     "end_time": "2022-03-07T23:18:16.099600Z",
     "start_time": "2022-03-07T23:18:16.084596Z"
    }
   },
   "outputs": [
    {
     "name": "stdout",
     "output_type": "stream",
     "text": [
      "<class 'pandas.core.frame.DataFrame'>\n",
      "RangeIndex: 1560 entries, 0 to 1559\n",
      "Data columns (total 10 columns):\n",
      " #   Column        Non-Null Count  Dtype \n",
      "---  ------        --------------  ----- \n",
      " 0   id            1560 non-null   int64 \n",
      " 1   synopsis      1498 non-null   object\n",
      " 2   rating        1557 non-null   object\n",
      " 3   genre         1552 non-null   object\n",
      " 4   director      1361 non-null   object\n",
      " 5   writer        1111 non-null   object\n",
      " 6   theater_date  1201 non-null   object\n",
      " 7   dvd_date      1201 non-null   object\n",
      " 8   runtime       1530 non-null   object\n",
      " 9   genre list    1552 non-null   object\n",
      "dtypes: int64(1), object(9)\n",
      "memory usage: 122.0+ KB\n"
     ]
    }
   ],
   "source": [
    "rt_movie_df.info()"
   ]
  },
  {
   "cell_type": "code",
   "execution_count": 7,
   "metadata": {
    "ExecuteTime": {
     "end_time": "2022-03-07T23:18:16.287946Z",
     "start_time": "2022-03-07T23:18:16.100601Z"
    }
   },
   "outputs": [
    {
     "name": "stdout",
     "output_type": "stream",
     "text": [
      "<class 'pandas.core.frame.DataFrame'>\n",
      "RangeIndex: 54432 entries, 0 to 54431\n",
      "Data columns (total 8 columns):\n",
      " #   Column      Non-Null Count  Dtype \n",
      "---  ------      --------------  ----- \n",
      " 0   id          54432 non-null  int64 \n",
      " 1   review      48869 non-null  object\n",
      " 2   rating      40915 non-null  object\n",
      " 3   fresh       54432 non-null  object\n",
      " 4   critic      51710 non-null  object\n",
      " 5   top_critic  54432 non-null  int64 \n",
      " 6   publisher   54123 non-null  object\n",
      " 7   date        54432 non-null  object\n",
      "dtypes: int64(2), object(6)\n",
      "memory usage: 3.3+ MB\n"
     ]
    }
   ],
   "source": [
    "#Load review info from Rotten Tomatoes\n",
    "rt_review_df = pd.read_csv('../../data/rt.reviews.tsv.gz',delimiter='\\t',encoding = 'unicode_escape')\n",
    "rt_review_df.info()"
   ]
  },
  {
   "cell_type": "code",
   "execution_count": 8,
   "metadata": {
    "ExecuteTime": {
     "end_time": "2022-03-07T23:18:16.955969Z",
     "start_time": "2022-03-07T23:18:16.288947Z"
    }
   },
   "outputs": [],
   "source": [
    "#Extract imdb sql DB\n",
    "with zipfile.ZipFile('../../data/im.db.zip', 'r') as zipObj:\n",
    "   # Extract all the contents of zip file in current directory\n",
    "   zipObj.extractall(path='data/')"
   ]
  },
  {
   "cell_type": "code",
   "execution_count": 9,
   "metadata": {
    "ExecuteTime": {
     "end_time": "2022-03-07T23:18:17.034977Z",
     "start_time": "2022-03-07T23:18:16.957968Z"
    }
   },
   "outputs": [
    {
     "data": {
      "text/html": [
       "<div>\n",
       "<style scoped>\n",
       "    .dataframe tbody tr th:only-of-type {\n",
       "        vertical-align: middle;\n",
       "    }\n",
       "\n",
       "    .dataframe tbody tr th {\n",
       "        vertical-align: top;\n",
       "    }\n",
       "\n",
       "    .dataframe thead th {\n",
       "        text-align: right;\n",
       "    }\n",
       "</style>\n",
       "<table border=\"1\" class=\"dataframe\">\n",
       "  <thead>\n",
       "    <tr style=\"text-align: right;\">\n",
       "      <th></th>\n",
       "      <th>type</th>\n",
       "      <th>name</th>\n",
       "      <th>tbl_name</th>\n",
       "      <th>rootpage</th>\n",
       "      <th>sql</th>\n",
       "    </tr>\n",
       "  </thead>\n",
       "  <tbody>\n",
       "    <tr>\n",
       "      <th>0</th>\n",
       "      <td>table</td>\n",
       "      <td>movie_basics</td>\n",
       "      <td>movie_basics</td>\n",
       "      <td>2</td>\n",
       "      <td>CREATE TABLE \"movie_basics\" (\\n\"movie_id\" TEXT...</td>\n",
       "    </tr>\n",
       "    <tr>\n",
       "      <th>1</th>\n",
       "      <td>table</td>\n",
       "      <td>directors</td>\n",
       "      <td>directors</td>\n",
       "      <td>3</td>\n",
       "      <td>CREATE TABLE \"directors\" (\\n\"movie_id\" TEXT,\\n...</td>\n",
       "    </tr>\n",
       "    <tr>\n",
       "      <th>2</th>\n",
       "      <td>table</td>\n",
       "      <td>known_for</td>\n",
       "      <td>known_for</td>\n",
       "      <td>4</td>\n",
       "      <td>CREATE TABLE \"known_for\" (\\n\"person_id\" TEXT,\\...</td>\n",
       "    </tr>\n",
       "    <tr>\n",
       "      <th>3</th>\n",
       "      <td>table</td>\n",
       "      <td>movie_akas</td>\n",
       "      <td>movie_akas</td>\n",
       "      <td>5</td>\n",
       "      <td>CREATE TABLE \"movie_akas\" (\\n\"movie_id\" TEXT,\\...</td>\n",
       "    </tr>\n",
       "    <tr>\n",
       "      <th>4</th>\n",
       "      <td>table</td>\n",
       "      <td>movie_ratings</td>\n",
       "      <td>movie_ratings</td>\n",
       "      <td>6</td>\n",
       "      <td>CREATE TABLE \"movie_ratings\" (\\n\"movie_id\" TEX...</td>\n",
       "    </tr>\n",
       "    <tr>\n",
       "      <th>5</th>\n",
       "      <td>table</td>\n",
       "      <td>persons</td>\n",
       "      <td>persons</td>\n",
       "      <td>7</td>\n",
       "      <td>CREATE TABLE \"persons\" (\\n\"person_id\" TEXT,\\n ...</td>\n",
       "    </tr>\n",
       "    <tr>\n",
       "      <th>6</th>\n",
       "      <td>table</td>\n",
       "      <td>principals</td>\n",
       "      <td>principals</td>\n",
       "      <td>8</td>\n",
       "      <td>CREATE TABLE \"principals\" (\\n\"movie_id\" TEXT,\\...</td>\n",
       "    </tr>\n",
       "    <tr>\n",
       "      <th>7</th>\n",
       "      <td>table</td>\n",
       "      <td>writers</td>\n",
       "      <td>writers</td>\n",
       "      <td>9</td>\n",
       "      <td>CREATE TABLE \"writers\" (\\n\"movie_id\" TEXT,\\n  ...</td>\n",
       "    </tr>\n",
       "  </tbody>\n",
       "</table>\n",
       "</div>"
      ],
      "text/plain": [
       "    type           name       tbl_name  rootpage  \\\n",
       "0  table   movie_basics   movie_basics         2   \n",
       "1  table      directors      directors         3   \n",
       "2  table      known_for      known_for         4   \n",
       "3  table     movie_akas     movie_akas         5   \n",
       "4  table  movie_ratings  movie_ratings         6   \n",
       "5  table        persons        persons         7   \n",
       "6  table     principals     principals         8   \n",
       "7  table        writers        writers         9   \n",
       "\n",
       "                                                 sql  \n",
       "0  CREATE TABLE \"movie_basics\" (\\n\"movie_id\" TEXT...  \n",
       "1  CREATE TABLE \"directors\" (\\n\"movie_id\" TEXT,\\n...  \n",
       "2  CREATE TABLE \"known_for\" (\\n\"person_id\" TEXT,\\...  \n",
       "3  CREATE TABLE \"movie_akas\" (\\n\"movie_id\" TEXT,\\...  \n",
       "4  CREATE TABLE \"movie_ratings\" (\\n\"movie_id\" TEX...  \n",
       "5  CREATE TABLE \"persons\" (\\n\"person_id\" TEXT,\\n ...  \n",
       "6  CREATE TABLE \"principals\" (\\n\"movie_id\" TEXT,\\...  \n",
       "7  CREATE TABLE \"writers\" (\\n\"movie_id\" TEXT,\\n  ...  "
      ]
     },
     "execution_count": 9,
     "metadata": {},
     "output_type": "execute_result"
    }
   ],
   "source": [
    "#Connect to IMDB DB and get schema\n",
    "con = sqlite3.connect('../../data/im.db')\n",
    "pd.read_sql(\"\"\"\n",
    "\n",
    "SELECT *\n",
    "FROM sqlite_master\n",
    "\n",
    "\"\"\",con)"
   ]
  },
  {
   "cell_type": "code",
   "execution_count": 10,
   "metadata": {
    "ExecuteTime": {
     "end_time": "2022-03-07T23:18:17.097992Z",
     "start_time": "2022-03-07T23:18:17.035978Z"
    },
    "scrolled": false
   },
   "outputs": [
    {
     "name": "stdout",
     "output_type": "stream",
     "text": [
      "<class 'pandas.core.frame.DataFrame'>\n",
      "Int64Index: 26517 entries, 0 to 26516\n",
      "Data columns (total 9 columns):\n",
      " #   Column             Non-Null Count  Dtype  \n",
      "---  ------             --------------  -----  \n",
      " 0   genre_ids          26517 non-null  object \n",
      " 1   id                 26517 non-null  int64  \n",
      " 2   original_language  26517 non-null  object \n",
      " 3   original_title     26517 non-null  object \n",
      " 4   popularity         26517 non-null  float64\n",
      " 5   release_date       26517 non-null  object \n",
      " 6   title              26517 non-null  object \n",
      " 7   vote_average       26517 non-null  float64\n",
      " 8   vote_count         26517 non-null  int64  \n",
      "dtypes: float64(2), int64(2), object(5)\n",
      "memory usage: 2.0+ MB\n"
     ]
    }
   ],
   "source": [
    "#Load 'The Movie DB' dataset\n",
    "tmdb_df = pd.read_csv('../../data/tmdb.movies.csv.gz',index_col=0)\n",
    "tmdb_df.info()"
   ]
  },
  {
   "cell_type": "code",
   "execution_count": 11,
   "metadata": {
    "ExecuteTime": {
     "end_time": "2022-03-07T23:18:17.113995Z",
     "start_time": "2022-03-07T23:18:17.098993Z"
    }
   },
   "outputs": [
    {
     "data": {
      "text/html": [
       "<div>\n",
       "<style scoped>\n",
       "    .dataframe tbody tr th:only-of-type {\n",
       "        vertical-align: middle;\n",
       "    }\n",
       "\n",
       "    .dataframe tbody tr th {\n",
       "        vertical-align: top;\n",
       "    }\n",
       "\n",
       "    .dataframe thead th {\n",
       "        text-align: right;\n",
       "    }\n",
       "</style>\n",
       "<table border=\"1\" class=\"dataframe\">\n",
       "  <thead>\n",
       "    <tr style=\"text-align: right;\">\n",
       "      <th></th>\n",
       "      <th>genre_ids</th>\n",
       "      <th>id</th>\n",
       "      <th>original_language</th>\n",
       "      <th>original_title</th>\n",
       "      <th>popularity</th>\n",
       "      <th>release_date</th>\n",
       "      <th>title</th>\n",
       "      <th>vote_average</th>\n",
       "      <th>vote_count</th>\n",
       "    </tr>\n",
       "  </thead>\n",
       "  <tbody>\n",
       "    <tr>\n",
       "      <th>0</th>\n",
       "      <td>[12, 14, 10751]</td>\n",
       "      <td>12444</td>\n",
       "      <td>en</td>\n",
       "      <td>Harry Potter and the Deathly Hallows: Part 1</td>\n",
       "      <td>33.533</td>\n",
       "      <td>2010-11-19</td>\n",
       "      <td>Harry Potter and the Deathly Hallows: Part 1</td>\n",
       "      <td>7.7</td>\n",
       "      <td>10788</td>\n",
       "    </tr>\n",
       "    <tr>\n",
       "      <th>1</th>\n",
       "      <td>[14, 12, 16, 10751]</td>\n",
       "      <td>10191</td>\n",
       "      <td>en</td>\n",
       "      <td>How to Train Your Dragon</td>\n",
       "      <td>28.734</td>\n",
       "      <td>2010-03-26</td>\n",
       "      <td>How to Train Your Dragon</td>\n",
       "      <td>7.7</td>\n",
       "      <td>7610</td>\n",
       "    </tr>\n",
       "    <tr>\n",
       "      <th>2</th>\n",
       "      <td>[12, 28, 878]</td>\n",
       "      <td>10138</td>\n",
       "      <td>en</td>\n",
       "      <td>Iron Man 2</td>\n",
       "      <td>28.515</td>\n",
       "      <td>2010-05-07</td>\n",
       "      <td>Iron Man 2</td>\n",
       "      <td>6.8</td>\n",
       "      <td>12368</td>\n",
       "    </tr>\n",
       "    <tr>\n",
       "      <th>3</th>\n",
       "      <td>[16, 35, 10751]</td>\n",
       "      <td>862</td>\n",
       "      <td>en</td>\n",
       "      <td>Toy Story</td>\n",
       "      <td>28.005</td>\n",
       "      <td>1995-11-22</td>\n",
       "      <td>Toy Story</td>\n",
       "      <td>7.9</td>\n",
       "      <td>10174</td>\n",
       "    </tr>\n",
       "    <tr>\n",
       "      <th>4</th>\n",
       "      <td>[28, 878, 12]</td>\n",
       "      <td>27205</td>\n",
       "      <td>en</td>\n",
       "      <td>Inception</td>\n",
       "      <td>27.920</td>\n",
       "      <td>2010-07-16</td>\n",
       "      <td>Inception</td>\n",
       "      <td>8.3</td>\n",
       "      <td>22186</td>\n",
       "    </tr>\n",
       "    <tr>\n",
       "      <th>...</th>\n",
       "      <td>...</td>\n",
       "      <td>...</td>\n",
       "      <td>...</td>\n",
       "      <td>...</td>\n",
       "      <td>...</td>\n",
       "      <td>...</td>\n",
       "      <td>...</td>\n",
       "      <td>...</td>\n",
       "      <td>...</td>\n",
       "    </tr>\n",
       "    <tr>\n",
       "      <th>26512</th>\n",
       "      <td>[27, 18]</td>\n",
       "      <td>488143</td>\n",
       "      <td>en</td>\n",
       "      <td>Laboratory Conditions</td>\n",
       "      <td>0.600</td>\n",
       "      <td>2018-10-13</td>\n",
       "      <td>Laboratory Conditions</td>\n",
       "      <td>0.0</td>\n",
       "      <td>1</td>\n",
       "    </tr>\n",
       "    <tr>\n",
       "      <th>26513</th>\n",
       "      <td>[18, 53]</td>\n",
       "      <td>485975</td>\n",
       "      <td>en</td>\n",
       "      <td>_EXHIBIT_84xxx_</td>\n",
       "      <td>0.600</td>\n",
       "      <td>2018-05-01</td>\n",
       "      <td>_EXHIBIT_84xxx_</td>\n",
       "      <td>0.0</td>\n",
       "      <td>1</td>\n",
       "    </tr>\n",
       "    <tr>\n",
       "      <th>26514</th>\n",
       "      <td>[14, 28, 12]</td>\n",
       "      <td>381231</td>\n",
       "      <td>en</td>\n",
       "      <td>The Last One</td>\n",
       "      <td>0.600</td>\n",
       "      <td>2018-10-01</td>\n",
       "      <td>The Last One</td>\n",
       "      <td>0.0</td>\n",
       "      <td>1</td>\n",
       "    </tr>\n",
       "    <tr>\n",
       "      <th>26515</th>\n",
       "      <td>[10751, 12, 28]</td>\n",
       "      <td>366854</td>\n",
       "      <td>en</td>\n",
       "      <td>Trailer Made</td>\n",
       "      <td>0.600</td>\n",
       "      <td>2018-06-22</td>\n",
       "      <td>Trailer Made</td>\n",
       "      <td>0.0</td>\n",
       "      <td>1</td>\n",
       "    </tr>\n",
       "    <tr>\n",
       "      <th>26516</th>\n",
       "      <td>[53, 27]</td>\n",
       "      <td>309885</td>\n",
       "      <td>en</td>\n",
       "      <td>The Church</td>\n",
       "      <td>0.600</td>\n",
       "      <td>2018-10-05</td>\n",
       "      <td>The Church</td>\n",
       "      <td>0.0</td>\n",
       "      <td>1</td>\n",
       "    </tr>\n",
       "  </tbody>\n",
       "</table>\n",
       "<p>26517 rows × 9 columns</p>\n",
       "</div>"
      ],
      "text/plain": [
       "                 genre_ids      id original_language  \\\n",
       "0          [12, 14, 10751]   12444                en   \n",
       "1      [14, 12, 16, 10751]   10191                en   \n",
       "2            [12, 28, 878]   10138                en   \n",
       "3          [16, 35, 10751]     862                en   \n",
       "4            [28, 878, 12]   27205                en   \n",
       "...                    ...     ...               ...   \n",
       "26512             [27, 18]  488143                en   \n",
       "26513             [18, 53]  485975                en   \n",
       "26514         [14, 28, 12]  381231                en   \n",
       "26515      [10751, 12, 28]  366854                en   \n",
       "26516             [53, 27]  309885                en   \n",
       "\n",
       "                                     original_title  popularity release_date  \\\n",
       "0      Harry Potter and the Deathly Hallows: Part 1      33.533   2010-11-19   \n",
       "1                          How to Train Your Dragon      28.734   2010-03-26   \n",
       "2                                        Iron Man 2      28.515   2010-05-07   \n",
       "3                                         Toy Story      28.005   1995-11-22   \n",
       "4                                         Inception      27.920   2010-07-16   \n",
       "...                                             ...         ...          ...   \n",
       "26512                         Laboratory Conditions       0.600   2018-10-13   \n",
       "26513                               _EXHIBIT_84xxx_       0.600   2018-05-01   \n",
       "26514                                  The Last One       0.600   2018-10-01   \n",
       "26515                                  Trailer Made       0.600   2018-06-22   \n",
       "26516                                    The Church       0.600   2018-10-05   \n",
       "\n",
       "                                              title  vote_average  vote_count  \n",
       "0      Harry Potter and the Deathly Hallows: Part 1           7.7       10788  \n",
       "1                          How to Train Your Dragon           7.7        7610  \n",
       "2                                        Iron Man 2           6.8       12368  \n",
       "3                                         Toy Story           7.9       10174  \n",
       "4                                         Inception           8.3       22186  \n",
       "...                                             ...           ...         ...  \n",
       "26512                         Laboratory Conditions           0.0           1  \n",
       "26513                               _EXHIBIT_84xxx_           0.0           1  \n",
       "26514                                  The Last One           0.0           1  \n",
       "26515                                  Trailer Made           0.0           1  \n",
       "26516                                    The Church           0.0           1  \n",
       "\n",
       "[26517 rows x 9 columns]"
      ]
     },
     "execution_count": 11,
     "metadata": {},
     "output_type": "execute_result"
    }
   ],
   "source": [
    "tmdb_df"
   ]
  },
  {
   "cell_type": "code",
   "execution_count": 12,
   "metadata": {
    "ExecuteTime": {
     "end_time": "2022-03-07T23:18:17.145962Z",
     "start_time": "2022-03-07T23:18:17.114996Z"
    },
    "scrolled": false
   },
   "outputs": [
    {
     "name": "stdout",
     "output_type": "stream",
     "text": [
      "<class 'pandas.core.frame.DataFrame'>\n",
      "RangeIndex: 5782 entries, 0 to 5781\n",
      "Data columns (total 6 columns):\n",
      " #   Column             Non-Null Count  Dtype \n",
      "---  ------             --------------  ----- \n",
      " 0   id                 5782 non-null   int64 \n",
      " 1   release_date       5782 non-null   object\n",
      " 2   movie              5782 non-null   object\n",
      " 3   production_budget  5782 non-null   object\n",
      " 4   domestic_gross     5782 non-null   object\n",
      " 5   worldwide_gross    5782 non-null   object\n",
      "dtypes: int64(1), object(5)\n",
      "memory usage: 271.2+ KB\n"
     ]
    }
   ],
   "source": [
    "#Load 'The Numbers' dataset\n",
    "tn_df = pd.read_csv('../../data/tn.movie_budgets.csv.gz')\n",
    "tn_df.info()"
   ]
  },
  {
   "cell_type": "code",
   "execution_count": 13,
   "metadata": {
    "ExecuteTime": {
     "end_time": "2022-03-07T23:18:17.161966Z",
     "start_time": "2022-03-07T23:18:17.146962Z"
    }
   },
   "outputs": [
    {
     "data": {
      "text/html": [
       "<div>\n",
       "<style scoped>\n",
       "    .dataframe tbody tr th:only-of-type {\n",
       "        vertical-align: middle;\n",
       "    }\n",
       "\n",
       "    .dataframe tbody tr th {\n",
       "        vertical-align: top;\n",
       "    }\n",
       "\n",
       "    .dataframe thead th {\n",
       "        text-align: right;\n",
       "    }\n",
       "</style>\n",
       "<table border=\"1\" class=\"dataframe\">\n",
       "  <thead>\n",
       "    <tr style=\"text-align: right;\">\n",
       "      <th></th>\n",
       "      <th>id</th>\n",
       "      <th>release_date</th>\n",
       "      <th>movie</th>\n",
       "      <th>production_budget</th>\n",
       "      <th>domestic_gross</th>\n",
       "      <th>worldwide_gross</th>\n",
       "    </tr>\n",
       "  </thead>\n",
       "  <tbody>\n",
       "    <tr>\n",
       "      <th>0</th>\n",
       "      <td>1</td>\n",
       "      <td>Dec 18, 2009</td>\n",
       "      <td>Avatar</td>\n",
       "      <td>$425,000,000</td>\n",
       "      <td>$760,507,625</td>\n",
       "      <td>$2,776,345,279</td>\n",
       "    </tr>\n",
       "    <tr>\n",
       "      <th>1</th>\n",
       "      <td>2</td>\n",
       "      <td>May 20, 2011</td>\n",
       "      <td>Pirates of the Caribbean: On Stranger Tides</td>\n",
       "      <td>$410,600,000</td>\n",
       "      <td>$241,063,875</td>\n",
       "      <td>$1,045,663,875</td>\n",
       "    </tr>\n",
       "  </tbody>\n",
       "</table>\n",
       "</div>"
      ],
      "text/plain": [
       "   id  release_date                                        movie  \\\n",
       "0   1  Dec 18, 2009                                       Avatar   \n",
       "1   2  May 20, 2011  Pirates of the Caribbean: On Stranger Tides   \n",
       "\n",
       "  production_budget domestic_gross worldwide_gross  \n",
       "0      $425,000,000   $760,507,625  $2,776,345,279  \n",
       "1      $410,600,000   $241,063,875  $1,045,663,875  "
      ]
     },
     "execution_count": 13,
     "metadata": {},
     "output_type": "execute_result"
    }
   ],
   "source": [
    "tn_df.head(2)"
   ]
  },
  {
   "cell_type": "markdown",
   "metadata": {},
   "source": [
    "# Creating a master revenue dataset\n",
    "### Working with dataset from 'The-Numbers.com'\n",
    " The dataset has no null values and includes columns for production_budget, domestic_gross and worldwide_gross however, they are all strings. First lets confirm that all numbers are dealing in the same currency ('$')\n"
   ]
  },
  {
   "cell_type": "code",
   "execution_count": 14,
   "metadata": {
    "ExecuteTime": {
     "end_time": "2022-03-07T23:18:17.177975Z",
     "start_time": "2022-03-07T23:18:17.162967Z"
    },
    "scrolled": true
   },
   "outputs": [
    {
     "name": "stdout",
     "output_type": "stream",
     "text": [
      "<class 'pandas.core.frame.DataFrame'>\n",
      "RangeIndex: 5782 entries, 0 to 5781\n",
      "Data columns (total 6 columns):\n",
      " #   Column             Non-Null Count  Dtype \n",
      "---  ------             --------------  ----- \n",
      " 0   id                 5782 non-null   int64 \n",
      " 1   release_date       5782 non-null   object\n",
      " 2   movie              5782 non-null   object\n",
      " 3   production_budget  5782 non-null   object\n",
      " 4   domestic_gross     5782 non-null   object\n",
      " 5   worldwide_gross    5782 non-null   object\n",
      "dtypes: int64(1), object(5)\n",
      "memory usage: 271.2+ KB\n"
     ]
    }
   ],
   "source": [
    "tn_df.info()"
   ]
  },
  {
   "cell_type": "code",
   "execution_count": 15,
   "metadata": {
    "ExecuteTime": {
     "end_time": "2022-03-07T23:18:17.192978Z",
     "start_time": "2022-03-07T23:18:17.179976Z"
    },
    "scrolled": true
   },
   "outputs": [
    {
     "name": "stdout",
     "output_type": "stream",
     "text": [
      "Is the production budget in dollars for all records?:  True\n",
      "Is the domestic gross in dollars for all records?:  True\n",
      "Is the worldwide gross in dollars for all records?:  True\n"
     ]
    }
   ],
   "source": [
    "print(\"Is the production budget in dollars for all records?: \",tn_df['worldwide_gross'].str.startswith('$').sum() == len(tn_df))\n",
    "print(\"Is the domestic gross in dollars for all records?: \",tn_df['domestic_gross'].str.startswith('$').sum() == len(tn_df))\n",
    "print(\"Is the worldwide gross in dollars for all records?: \",tn_df['worldwide_gross'].str.startswith('$').sum() == len(tn_df))"
   ]
  },
  {
   "cell_type": "markdown",
   "metadata": {},
   "source": [
    "It looks all the business related data is in dollars. We can safely convert all the numbers without having to do any currency conversions. To ensure we don't lose track, a currency column is created to include the \"$\" symbol and all numbers are then proceeded to be converted to floats"
   ]
  },
  {
   "cell_type": "code",
   "execution_count": 16,
   "metadata": {
    "ExecuteTime": {
     "end_time": "2022-03-07T23:18:17.223767Z",
     "start_time": "2022-03-07T23:18:17.193978Z"
    }
   },
   "outputs": [],
   "source": [
    "#Converting production buget, domestic gross, worldwide gross to numbers, Add currency unit column as a reminder \n",
    "#numbers are in $\n",
    "tn_df['currency'] = '$'\n",
    "tn_df['production_budget'] = tn_df['production_budget'].str.replace(',','').str.replace('$','').astype(int)\n",
    "tn_df['domestic_gross'] = tn_df['domestic_gross'].str.replace(',','').str.replace('$','').astype(int)\n",
    "tn_df['worldwide_gross'] = tn_df['worldwide_gross'].str.replace(',','').str.replace('$','').astype('int64')"
   ]
  },
  {
   "cell_type": "markdown",
   "metadata": {},
   "source": [
    "Using these we can generate overall profit a movie has made and also generate a hit/flop column for each movie\n",
    "\n",
    " Note: Worldwide gross constitutes domestic gross"
   ]
  },
  {
   "cell_type": "code",
   "execution_count": 17,
   "metadata": {
    "ExecuteTime": {
     "end_time": "2022-03-07T23:18:17.239782Z",
     "start_time": "2022-03-07T23:18:17.225768Z"
    }
   },
   "outputs": [],
   "source": [
    "#Adding net revenue column and a foreign gross column\n",
    "tn_df['foreign_gross'] = tn_df['worldwide_gross'] - tn_df['domestic_gross']\n",
    "tn_df['net_revenue'] = tn_df['worldwide_gross'] - tn_df['production_budget']"
   ]
  },
  {
   "cell_type": "markdown",
   "metadata": {},
   "source": [
    "Converting release_date to date time"
   ]
  },
  {
   "cell_type": "code",
   "execution_count": 18,
   "metadata": {
    "ExecuteTime": {
     "end_time": "2022-03-07T23:18:17.666907Z",
     "start_time": "2022-03-07T23:18:17.240783Z"
    }
   },
   "outputs": [],
   "source": [
    "tn_df['release_date'] = pd.to_datetime(tn_df['release_date'])\n",
    "tn_df['release_year'] = tn_df['release_date'].dt.year\n",
    "tn_df['release_month'] = tn_df['release_date'].dt.month\n",
    "tn_df['release_day'] = tn_df['release_date'].dt.day"
   ]
  },
  {
   "cell_type": "markdown",
   "metadata": {},
   "source": [
    "Creating a key on which joins and merges will be made. This will be a string comprising the movie title and the release year."
   ]
  },
  {
   "cell_type": "code",
   "execution_count": 19,
   "metadata": {
    "ExecuteTime": {
     "end_time": "2022-03-07T23:18:17.682588Z",
     "start_time": "2022-03-07T23:18:17.667910Z"
    }
   },
   "outputs": [],
   "source": [
    "tn_df['merge_key'] = tn_df['movie'] + \" (\"+ tn_df['release_date'].dt.year.astype(str)+\")\""
   ]
  },
  {
   "cell_type": "code",
   "execution_count": 20,
   "metadata": {
    "ExecuteTime": {
     "end_time": "2022-03-07T23:18:17.698593Z",
     "start_time": "2022-03-07T23:18:17.683591Z"
    }
   },
   "outputs": [
    {
     "name": "stdout",
     "output_type": "stream",
     "text": [
      "<class 'pandas.core.frame.DataFrame'>\n",
      "Int64Index: 1431 entries, 2 to 5780\n",
      "Data columns (total 13 columns):\n",
      " #   Column             Non-Null Count  Dtype         \n",
      "---  ------             --------------  -----         \n",
      " 0   id                 1431 non-null   int64         \n",
      " 1   release_date       1431 non-null   datetime64[ns]\n",
      " 2   movie              1431 non-null   object        \n",
      " 3   production_budget  1431 non-null   int32         \n",
      " 4   domestic_gross     1431 non-null   int32         \n",
      " 5   worldwide_gross    1431 non-null   int64         \n",
      " 6   currency           1431 non-null   object        \n",
      " 7   foreign_gross      1431 non-null   int64         \n",
      " 8   net_revenue        1431 non-null   int64         \n",
      " 9   release_year       1431 non-null   int64         \n",
      " 10  release_month      1431 non-null   int64         \n",
      " 11  release_day        1431 non-null   int64         \n",
      " 12  merge_key          1431 non-null   object        \n",
      "dtypes: datetime64[ns](1), int32(2), int64(7), object(3)\n",
      "memory usage: 145.3+ KB\n"
     ]
    }
   ],
   "source": [
    "tn_df[tn_df['release_year']>2012].info()"
   ]
  },
  {
   "cell_type": "markdown",
   "metadata": {},
   "source": [
    "Limiting data to post 2010. This will help us to value recent trends "
   ]
  },
  {
   "cell_type": "code",
   "execution_count": 21,
   "metadata": {
    "ExecuteTime": {
     "end_time": "2022-03-07T23:18:17.713600Z",
     "start_time": "2022-03-07T23:18:17.699594Z"
    }
   },
   "outputs": [],
   "source": [
    "last_10yrs_df = tn_df[tn_df['release_year']>2012]"
   ]
  },
  {
   "cell_type": "code",
   "execution_count": 22,
   "metadata": {
    "ExecuteTime": {
     "end_time": "2022-03-07T23:18:17.934347Z",
     "start_time": "2022-03-07T23:18:17.714601Z"
    },
    "scrolled": false
   },
   "outputs": [
    {
     "data": {
      "image/png": "[encoded data removed]",
      "text/plain": [
       "<Figure size 1080x360 with 2 Axes>"
      ]
     },
     "metadata": {
      "needs_background": "light"
     },
     "output_type": "display_data"
    }
   ],
   "source": [
    "fig,ax = plt.subplots(1,2,figsize = (15,5))\n",
    "\n",
    "ax[0].scatter(x = last_10yrs_df['production_budget'], y = last_10yrs_df['worldwide_gross'])\n",
    "ax[0].set_xlabel('Production Budget')\n",
    "ax[0].set_ylabel('Worldwide Gross')\n",
    "ax[0].set_title('Gross vs Production Budget post 2010');\n",
    "\n",
    "ax[1].scatter(x = last_10yrs_df['production_budget'], y = last_10yrs_df['net_revenue'])\n",
    "ax[1].set_xlabel('Production Budget')\n",
    "ax[1].set_ylabel('Profit')\n",
    "ax[1].set_title('Net vs Production Budget post 2010');"
   ]
  },
  {
   "cell_type": "markdown",
   "metadata": {},
   "source": [
    "### Best Release time of the year\n",
    "Using the revenue data we can try to ascertain the best release windows for movies. From the last 10 years, we can see major revenue being generated during the summer season (May, June, July) and again during holiday season"
   ]
  },
  {
   "cell_type": "code",
   "execution_count": 38,
   "metadata": {
    "ExecuteTime": {
     "end_time": "2022-03-08T00:15:10.599818Z",
     "start_time": "2022-03-08T00:15:10.183273Z"
    },
    "scrolled": true
   },
   "outputs": [
    {
     "data": {
      "image/png": "[encoded data removed]",
      "text/plain": [
       "<Figure size 1080x720 with 4 Axes>"
      ]
     },
     "metadata": {
      "needs_background": "light"
     },
     "output_type": "display_data"
    }
   ],
   "source": [
    "fig,ax = plt.subplots(2,2,figsize = (15,10))\n",
    "\n",
    "last_10yrs_monthly_df = last_10yrs_df.groupby('release_month')\n",
    "\n",
    "ax[0,0].bar(x = last_10yrs_monthly_df.mean()['worldwide_gross'].index, \n",
    "          height = last_10yrs_monthly_df.mean()['worldwide_gross'])\n",
    "ax[0,0].set_xlabel('Month of Release')\n",
    "ax[0,0].set_ylabel('Worldwide Gross in 100m')\n",
    "ax[0,0].set_title('Mean Gross by month of Release post 2012');\n",
    "\n",
    "ax[0,1].bar(x = last_10yrs_monthly_df.mean()['net_revenue'].index, \n",
    "          height = last_10yrs_monthly_df.mean()['net_revenue'])\n",
    "ax[0,1].set_xlabel('Month of Release')\n",
    "ax[0,1].set_ylabel('Net Revenuein 100m')\n",
    "ax[0,1].set_title('Mean Net by month of Release post 2012');\n",
    "\n",
    "\n",
    "\n",
    "\n",
    "ax[1,0].bar(x = last_10yrs_monthly_df.median()['worldwide_gross'].index, \n",
    "          height = last_10yrs_monthly_df.median()['worldwide_gross'])\n",
    "ax[1,0].set_xlabel('Month of Release')\n",
    "ax[1,0].set_ylabel('Worldwide Gross in 10m')\n",
    "ax[1,0].set_title('Median Gross by month of Release post 2012');\n",
    "\n",
    "ax[1,1].bar(x = last_10yrs_monthly_df.median()['net_revenue'].index, \n",
    "          height = last_10yrs_monthly_df.median()['net_revenue'])\n",
    "ax[1,1].set_xlabel('Month of Release')\n",
    "ax[1,1].set_ylabel('Net Revenuein 10m')\n",
    "ax[1,1].set_title('Median Net by month of Release post 2012');"
   ]
  },
  {
   "cell_type": "code",
   "execution_count": 39,
   "metadata": {
    "ExecuteTime": {
     "end_time": "2022-03-08T00:15:21.010796Z",
     "start_time": "2022-03-08T00:15:20.990792Z"
    }
   },
   "outputs": [
    {
     "data": {
      "text/html": [
       "<div>\n",
       "<style scoped>\n",
       "    .dataframe tbody tr th:only-of-type {\n",
       "        vertical-align: middle;\n",
       "    }\n",
       "\n",
       "    .dataframe tbody tr th {\n",
       "        vertical-align: top;\n",
       "    }\n",
       "\n",
       "    .dataframe thead th {\n",
       "        text-align: right;\n",
       "    }\n",
       "</style>\n",
       "<table border=\"1\" class=\"dataframe\">\n",
       "  <thead>\n",
       "    <tr style=\"text-align: right;\">\n",
       "      <th></th>\n",
       "      <th>id</th>\n",
       "      <th>production_budget</th>\n",
       "      <th>domestic_gross</th>\n",
       "      <th>worldwide_gross</th>\n",
       "      <th>foreign_gross</th>\n",
       "      <th>net_revenue</th>\n",
       "      <th>release_year</th>\n",
       "      <th>release_day</th>\n",
       "    </tr>\n",
       "    <tr>\n",
       "      <th>release_month</th>\n",
       "      <th></th>\n",
       "      <th></th>\n",
       "      <th></th>\n",
       "      <th></th>\n",
       "      <th></th>\n",
       "      <th></th>\n",
       "      <th></th>\n",
       "      <th></th>\n",
       "    </tr>\n",
       "  </thead>\n",
       "  <tbody>\n",
       "    <tr>\n",
       "      <th>1</th>\n",
       "      <td>55.0</td>\n",
       "      <td>19000000.0</td>\n",
       "      <td>18638200.0</td>\n",
       "      <td>41224421.0</td>\n",
       "      <td>16134768.0</td>\n",
       "      <td>12756035.0</td>\n",
       "      <td>2015.0</td>\n",
       "      <td>18.0</td>\n",
       "    </tr>\n",
       "    <tr>\n",
       "      <th>2</th>\n",
       "      <td>49.0</td>\n",
       "      <td>22000000.0</td>\n",
       "      <td>20157300.0</td>\n",
       "      <td>43528634.0</td>\n",
       "      <td>13304495.0</td>\n",
       "      <td>15286416.0</td>\n",
       "      <td>2015.0</td>\n",
       "      <td>13.0</td>\n",
       "    </tr>\n",
       "    <tr>\n",
       "      <th>3</th>\n",
       "      <td>50.0</td>\n",
       "      <td>13000000.0</td>\n",
       "      <td>10895295.0</td>\n",
       "      <td>19599974.0</td>\n",
       "      <td>7981499.0</td>\n",
       "      <td>7168809.0</td>\n",
       "      <td>2015.0</td>\n",
       "      <td>15.0</td>\n",
       "    </tr>\n",
       "    <tr>\n",
       "      <th>4</th>\n",
       "      <td>50.5</td>\n",
       "      <td>13150000.0</td>\n",
       "      <td>8693874.5</td>\n",
       "      <td>17478366.5</td>\n",
       "      <td>4880193.0</td>\n",
       "      <td>4164093.0</td>\n",
       "      <td>2014.0</td>\n",
       "      <td>15.0</td>\n",
       "    </tr>\n",
       "    <tr>\n",
       "      <th>5</th>\n",
       "      <td>49.5</td>\n",
       "      <td>20500000.0</td>\n",
       "      <td>29669743.0</td>\n",
       "      <td>48249489.0</td>\n",
       "      <td>20084997.5</td>\n",
       "      <td>27297387.0</td>\n",
       "      <td>2014.5</td>\n",
       "      <td>16.0</td>\n",
       "    </tr>\n",
       "    <tr>\n",
       "      <th>6</th>\n",
       "      <td>51.0</td>\n",
       "      <td>19000000.0</td>\n",
       "      <td>19021803.5</td>\n",
       "      <td>38952463.5</td>\n",
       "      <td>9351013.5</td>\n",
       "      <td>12372058.0</td>\n",
       "      <td>2014.5</td>\n",
       "      <td>15.0</td>\n",
       "    </tr>\n",
       "    <tr>\n",
       "      <th>7</th>\n",
       "      <td>52.0</td>\n",
       "      <td>19100000.0</td>\n",
       "      <td>32000304.0</td>\n",
       "      <td>61449135.0</td>\n",
       "      <td>25777838.0</td>\n",
       "      <td>30849941.0</td>\n",
       "      <td>2014.0</td>\n",
       "      <td>17.0</td>\n",
       "    </tr>\n",
       "    <tr>\n",
       "      <th>8</th>\n",
       "      <td>56.5</td>\n",
       "      <td>18000000.0</td>\n",
       "      <td>21220359.0</td>\n",
       "      <td>40585745.5</td>\n",
       "      <td>15135478.5</td>\n",
       "      <td>14899617.5</td>\n",
       "      <td>2014.0</td>\n",
       "      <td>17.0</td>\n",
       "    </tr>\n",
       "    <tr>\n",
       "      <th>9</th>\n",
       "      <td>49.0</td>\n",
       "      <td>14000000.0</td>\n",
       "      <td>8005586.0</td>\n",
       "      <td>21970000.0</td>\n",
       "      <td>7551757.0</td>\n",
       "      <td>1653715.0</td>\n",
       "      <td>2014.0</td>\n",
       "      <td>18.0</td>\n",
       "    </tr>\n",
       "    <tr>\n",
       "      <th>10</th>\n",
       "      <td>51.0</td>\n",
       "      <td>12500000.0</td>\n",
       "      <td>7002261.0</td>\n",
       "      <td>15505922.0</td>\n",
       "      <td>6292180.0</td>\n",
       "      <td>3015686.0</td>\n",
       "      <td>2014.0</td>\n",
       "      <td>17.0</td>\n",
       "    </tr>\n",
       "    <tr>\n",
       "      <th>11</th>\n",
       "      <td>43.0</td>\n",
       "      <td>20000000.0</td>\n",
       "      <td>27298285.0</td>\n",
       "      <td>51695362.0</td>\n",
       "      <td>27949213.0</td>\n",
       "      <td>24227490.0</td>\n",
       "      <td>2015.0</td>\n",
       "      <td>15.0</td>\n",
       "    </tr>\n",
       "    <tr>\n",
       "      <th>12</th>\n",
       "      <td>54.0</td>\n",
       "      <td>13000000.0</td>\n",
       "      <td>216678.0</td>\n",
       "      <td>9664824.0</td>\n",
       "      <td>4307656.0</td>\n",
       "      <td>-86697.5</td>\n",
       "      <td>2014.0</td>\n",
       "      <td>25.0</td>\n",
       "    </tr>\n",
       "  </tbody>\n",
       "</table>\n",
       "</div>"
      ],
      "text/plain": [
       "                 id  production_budget  domestic_gross  worldwide_gross  \\\n",
       "release_month                                                             \n",
       "1              55.0         19000000.0      18638200.0       41224421.0   \n",
       "2              49.0         22000000.0      20157300.0       43528634.0   \n",
       "3              50.0         13000000.0      10895295.0       19599974.0   \n",
       "4              50.5         13150000.0       8693874.5       17478366.5   \n",
       "5              49.5         20500000.0      29669743.0       48249489.0   \n",
       "6              51.0         19000000.0      19021803.5       38952463.5   \n",
       "7              52.0         19100000.0      32000304.0       61449135.0   \n",
       "8              56.5         18000000.0      21220359.0       40585745.5   \n",
       "9              49.0         14000000.0       8005586.0       21970000.0   \n",
       "10             51.0         12500000.0       7002261.0       15505922.0   \n",
       "11             43.0         20000000.0      27298285.0       51695362.0   \n",
       "12             54.0         13000000.0        216678.0        9664824.0   \n",
       "\n",
       "               foreign_gross  net_revenue  release_year  release_day  \n",
       "release_month                                                         \n",
       "1                 16134768.0   12756035.0        2015.0         18.0  \n",
       "2                 13304495.0   15286416.0        2015.0         13.0  \n",
       "3                  7981499.0    7168809.0        2015.0         15.0  \n",
       "4                  4880193.0    4164093.0        2014.0         15.0  \n",
       "5                 20084997.5   27297387.0        2014.5         16.0  \n",
       "6                  9351013.5   12372058.0        2014.5         15.0  \n",
       "7                 25777838.0   30849941.0        2014.0         17.0  \n",
       "8                 15135478.5   14899617.5        2014.0         17.0  \n",
       "9                  7551757.0    1653715.0        2014.0         18.0  \n",
       "10                 6292180.0    3015686.0        2014.0         17.0  \n",
       "11                27949213.0   24227490.0        2015.0         15.0  \n",
       "12                 4307656.0     -86697.5        2014.0         25.0  "
      ]
     },
     "execution_count": 39,
     "metadata": {},
     "output_type": "execute_result"
    }
   ],
   "source": [
    "last_10yrs_monthly_df = last_10yrs_df.groupby('release_month')\n",
    "last_10yrs_monthly_df.median()"
   ]
  },
  {
   "cell_type": "code",
   "execution_count": 24,
   "metadata": {
    "ExecuteTime": {
     "end_time": "2022-03-07T23:18:21.737205Z",
     "start_time": "2022-03-07T23:18:21.724203Z"
    },
    "scrolled": true
   },
   "outputs": [
    {
     "name": "stdout",
     "output_type": "stream",
     "text": [
      "<class 'pandas.core.frame.DataFrame'>\n",
      "RangeIndex: 5782 entries, 0 to 5781\n",
      "Data columns (total 13 columns):\n",
      " #   Column             Non-Null Count  Dtype         \n",
      "---  ------             --------------  -----         \n",
      " 0   id                 5782 non-null   int64         \n",
      " 1   release_date       5782 non-null   datetime64[ns]\n",
      " 2   movie              5782 non-null   object        \n",
      " 3   production_budget  5782 non-null   int32         \n",
      " 4   domestic_gross     5782 non-null   int32         \n",
      " 5   worldwide_gross    5782 non-null   int64         \n",
      " 6   currency           5782 non-null   object        \n",
      " 7   foreign_gross      5782 non-null   int64         \n",
      " 8   net_revenue        5782 non-null   int64         \n",
      " 9   release_year       5782 non-null   int64         \n",
      " 10  release_month      5782 non-null   int64         \n",
      " 11  release_day        5782 non-null   int64         \n",
      " 12  merge_key          5782 non-null   object        \n",
      "dtypes: datetime64[ns](1), int32(2), int64(7), object(3)\n",
      "memory usage: 542.2+ KB\n"
     ]
    }
   ],
   "source": [
    "tn_df.info()"
   ]
  },
  {
   "cell_type": "markdown",
   "metadata": {},
   "source": [
    "### Working with the BoxOfficeMojo dataset\n",
    "Loading the boxofficemojo.com dataset"
   ]
  },
  {
   "cell_type": "code",
   "execution_count": 26,
   "metadata": {
    "ExecuteTime": {
     "end_time": "2022-03-07T23:35:03.522150Z",
     "start_time": "2022-03-07T23:35:03.496149Z"
    }
   },
   "outputs": [
    {
     "name": "stdout",
     "output_type": "stream",
     "text": [
      "<class 'pandas.core.frame.DataFrame'>\n",
      "RangeIndex: 3387 entries, 0 to 3386\n",
      "Data columns (total 5 columns):\n",
      " #   Column          Non-Null Count  Dtype  \n",
      "---  ------          --------------  -----  \n",
      " 0   title           3387 non-null   object \n",
      " 1   studio          3382 non-null   object \n",
      " 2   domestic_gross  3359 non-null   float64\n",
      " 3   foreign_gross   2037 non-null   object \n",
      " 4   year            3387 non-null   int64  \n",
      "dtypes: float64(1), int64(1), object(3)\n",
      "memory usage: 132.4+ KB\n"
     ]
    }
   ],
   "source": [
    "box_office_df = pd.read_csv('../../data/bom.movie_gross.csv.gz')\n",
    "box_office_df.info()"
   ]
  },
  {
   "cell_type": "markdown",
   "metadata": {},
   "source": [
    "There are a few empty values in the studio column. Filling these with 'Unknown'."
   ]
  },
  {
   "cell_type": "code",
   "execution_count": 27,
   "metadata": {
    "ExecuteTime": {
     "end_time": "2022-03-07T23:35:08.178613Z",
     "start_time": "2022-03-07T23:35:08.174613Z"
    }
   },
   "outputs": [],
   "source": [
    "box_office_df['studio'] = box_office_df['studio'].fillna('Unknown') "
   ]
  },
  {
   "cell_type": "markdown",
   "metadata": {},
   "source": [
    "Note there are a few empty values in the domestic and foreign gross columns. We'll have to employ slightly different approaches to these datas. \n",
    "\n",
    "Create new columns to prevent writing over data.\n",
    "na values in domestic gross will be replaced with 0\n",
    "na values in foreign gross will be replaced with 0 as well. Note however that numbers in foreign sometimes include a ','. Specifically 5 records hold such values. "
   ]
  },
  {
   "cell_type": "code",
   "execution_count": 28,
   "metadata": {
    "ExecuteTime": {
     "end_time": "2022-03-07T23:35:08.475429Z",
     "start_time": "2022-03-07T23:35:08.462427Z"
    },
    "scrolled": true
   },
   "outputs": [
    {
     "data": {
      "text/html": [
       "<div>\n",
       "<style scoped>\n",
       "    .dataframe tbody tr th:only-of-type {\n",
       "        vertical-align: middle;\n",
       "    }\n",
       "\n",
       "    .dataframe tbody tr th {\n",
       "        vertical-align: top;\n",
       "    }\n",
       "\n",
       "    .dataframe thead th {\n",
       "        text-align: right;\n",
       "    }\n",
       "</style>\n",
       "<table border=\"1\" class=\"dataframe\">\n",
       "  <thead>\n",
       "    <tr style=\"text-align: right;\">\n",
       "      <th></th>\n",
       "      <th>title</th>\n",
       "      <th>studio</th>\n",
       "      <th>domestic_gross</th>\n",
       "      <th>foreign_gross</th>\n",
       "      <th>year</th>\n",
       "    </tr>\n",
       "  </thead>\n",
       "  <tbody>\n",
       "    <tr>\n",
       "      <th>1872</th>\n",
       "      <td>Star Wars: The Force Awakens</td>\n",
       "      <td>BV</td>\n",
       "      <td>936700000.0</td>\n",
       "      <td>1,131.6</td>\n",
       "      <td>2015</td>\n",
       "    </tr>\n",
       "    <tr>\n",
       "      <th>1873</th>\n",
       "      <td>Jurassic World</td>\n",
       "      <td>Uni.</td>\n",
       "      <td>652300000.0</td>\n",
       "      <td>1,019.4</td>\n",
       "      <td>2015</td>\n",
       "    </tr>\n",
       "    <tr>\n",
       "      <th>1874</th>\n",
       "      <td>Furious 7</td>\n",
       "      <td>Uni.</td>\n",
       "      <td>353000000.0</td>\n",
       "      <td>1,163.0</td>\n",
       "      <td>2015</td>\n",
       "    </tr>\n",
       "    <tr>\n",
       "      <th>2760</th>\n",
       "      <td>The Fate of the Furious</td>\n",
       "      <td>Uni.</td>\n",
       "      <td>226000000.0</td>\n",
       "      <td>1,010.0</td>\n",
       "      <td>2017</td>\n",
       "    </tr>\n",
       "    <tr>\n",
       "      <th>3079</th>\n",
       "      <td>Avengers: Infinity War</td>\n",
       "      <td>BV</td>\n",
       "      <td>678800000.0</td>\n",
       "      <td>1,369.5</td>\n",
       "      <td>2018</td>\n",
       "    </tr>\n",
       "  </tbody>\n",
       "</table>\n",
       "</div>"
      ],
      "text/plain": [
       "                             title studio  domestic_gross foreign_gross  year\n",
       "1872  Star Wars: The Force Awakens     BV     936700000.0       1,131.6  2015\n",
       "1873                Jurassic World   Uni.     652300000.0       1,019.4  2015\n",
       "1874                     Furious 7   Uni.     353000000.0       1,163.0  2015\n",
       "2760       The Fate of the Furious   Uni.     226000000.0       1,010.0  2017\n",
       "3079        Avengers: Infinity War     BV     678800000.0       1,369.5  2018"
      ]
     },
     "execution_count": 28,
     "metadata": {},
     "output_type": "execute_result"
    }
   ],
   "source": [
    "box_office_df[box_office_df['foreign_gross'].fillna('0').str.contains(',')]"
   ]
  },
  {
   "cell_type": "markdown",
   "metadata": {
    "ExecuteTime": {
     "end_time": "2022-03-07T03:09:22.264368Z",
     "start_time": "2022-03-07T03:09:22.257374Z"
    }
   },
   "source": [
    "These values will need to be multiplied by 10^6 to match with the rest of the revenue data"
   ]
  },
  {
   "cell_type": "code",
   "execution_count": 29,
   "metadata": {
    "ExecuteTime": {
     "end_time": "2022-03-07T23:35:08.742266Z",
     "start_time": "2022-03-07T23:35:08.726765Z"
    }
   },
   "outputs": [],
   "source": [
    "box_office_df['domestic_gross'] = box_office_df['domestic_gross'].fillna(0) \n",
    "box_office_df['foreign_gross'] = box_office_df['foreign_gross'].fillna('0')\n",
    "box_office_df['foreign_gross'] = box_office_df['foreign_gross'].map(lambda x: \n",
    "                                                                            float(x) if ',' not in x\n",
    "                                                                            else float(x.replace(',',''))*1000000).astype(int)"
   ]
  },
  {
   "cell_type": "code",
   "execution_count": 30,
   "metadata": {
    "ExecuteTime": {
     "end_time": "2022-03-07T23:35:08.879766Z",
     "start_time": "2022-03-07T23:35:08.861762Z"
    }
   },
   "outputs": [
    {
     "data": {
      "text/plain": [
       "0"
      ]
     },
     "execution_count": 30,
     "metadata": {},
     "output_type": "execute_result"
    }
   ],
   "source": [
    "len(box_office_df[box_office_df['domestic_gross'].isna() & box_office_df['foreign_gross'].isna()])"
   ]
  },
  {
   "cell_type": "code",
   "execution_count": 31,
   "metadata": {
    "ExecuteTime": {
     "end_time": "2022-03-07T23:35:09.003772Z",
     "start_time": "2022-03-07T23:35:08.998771Z"
    }
   },
   "outputs": [],
   "source": [
    "box_office_df.rename(columns={'domestic_gross':'domestic_gross_bom','foreign_gross':'foreign_gross_bom',},inplace=True)"
   ]
  },
  {
   "cell_type": "markdown",
   "metadata": {},
   "source": [
    "Creating a key on which joins and merges will be made. This will be a string comprising the movie title and the release year."
   ]
  },
  {
   "cell_type": "code",
   "execution_count": 32,
   "metadata": {
    "ExecuteTime": {
     "end_time": "2022-03-07T23:35:09.700444Z",
     "start_time": "2022-03-07T23:35:09.686441Z"
    }
   },
   "outputs": [],
   "source": [
    "box_office_df['merge_key'] = box_office_df['title'] + \" (\"+ box_office_df['year'].astype(str)+\")\""
   ]
  },
  {
   "cell_type": "code",
   "execution_count": 33,
   "metadata": {
    "ExecuteTime": {
     "end_time": "2022-03-07T23:35:10.430028Z",
     "start_time": "2022-03-07T23:35:10.422026Z"
    }
   },
   "outputs": [
    {
     "data": {
      "text/plain": [
       "0                                      Toy Story 3 (2010)\n",
       "1                       Alice in Wonderland (2010) (2010)\n",
       "2       Harry Potter and the Deathly Hallows Part 1 (2...\n",
       "3                                        Inception (2010)\n",
       "4                              Shrek Forever After (2010)\n",
       "                              ...                        \n",
       "3382                                     The Quake (2018)\n",
       "3383                   Edward II (2018 re-release) (2018)\n",
       "3384                                      El Pacto (2018)\n",
       "3385                                      The Swan (2018)\n",
       "3386                             An Actor Prepares (2018)\n",
       "Name: merge_key, Length: 3387, dtype: object"
      ]
     },
     "execution_count": 33,
     "metadata": {},
     "output_type": "execute_result"
    }
   ],
   "source": [
    "box_office_df['merge_key']"
   ]
  },
  {
   "cell_type": "code",
   "execution_count": 34,
   "metadata": {
    "ExecuteTime": {
     "end_time": "2022-03-07T23:35:10.955925Z",
     "start_time": "2022-03-07T23:35:10.942919Z"
    },
    "scrolled": false
   },
   "outputs": [
    {
     "name": "stdout",
     "output_type": "stream",
     "text": [
      "<class 'pandas.core.frame.DataFrame'>\n",
      "RangeIndex: 3387 entries, 0 to 3386\n",
      "Data columns (total 6 columns):\n",
      " #   Column              Non-Null Count  Dtype  \n",
      "---  ------              --------------  -----  \n",
      " 0   title               3387 non-null   object \n",
      " 1   studio              3387 non-null   object \n",
      " 2   domestic_gross_bom  3387 non-null   float64\n",
      " 3   foreign_gross_bom   3387 non-null   int32  \n",
      " 4   year                3387 non-null   int64  \n",
      " 5   merge_key           3387 non-null   object \n",
      "dtypes: float64(1), int32(1), int64(1), object(3)\n",
      "memory usage: 145.7+ KB\n"
     ]
    }
   ],
   "source": [
    "box_office_df.info()"
   ]
  },
  {
   "cell_type": "markdown",
   "metadata": {},
   "source": [
    "## Making a master DF for revenue\n",
    "### Merging datasets from the-numbers.com and boxofficemojo.com"
   ]
  },
  {
   "cell_type": "code",
   "execution_count": 35,
   "metadata": {
    "ExecuteTime": {
     "end_time": "2022-03-07T23:35:12.717838Z",
     "start_time": "2022-03-07T23:35:12.710836Z"
    },
    "scrolled": true
   },
   "outputs": [],
   "source": [
    "tn_df.rename(columns={'production_budget':'budget_thenum','domestic_gross':'domestic_gross_thenum',\n",
    "                      'worldwide_gross':'worldwide_gross_thenum',\n",
    "                     'foreign_gross':'foreign_gross_thenum','net_revenue':'net_revenue_thenum'},inplace=True)"
   ]
  },
  {
   "cell_type": "code",
   "execution_count": 36,
   "metadata": {
    "ExecuteTime": {
     "end_time": "2022-03-07T23:35:14.196941Z",
     "start_time": "2022-03-07T23:35:14.174134Z"
    }
   },
   "outputs": [],
   "source": [
    "final = tn_df.merge(box_office_df, how='left', left_on = 'merge_key',right_on = 'merge_key',suffixes = ('_thenum', '_bom'))"
   ]
  },
  {
   "cell_type": "code",
   "execution_count": 37,
   "metadata": {
    "ExecuteTime": {
     "end_time": "2022-03-07T23:35:15.336537Z",
     "start_time": "2022-03-07T23:35:15.326544Z"
    }
   },
   "outputs": [
    {
     "name": "stdout",
     "output_type": "stream",
     "text": [
      "<class 'pandas.core.frame.DataFrame'>\n",
      "Int64Index: 5782 entries, 0 to 5781\n",
      "Data columns (total 18 columns):\n",
      " #   Column                  Non-Null Count  Dtype         \n",
      "---  ------                  --------------  -----         \n",
      " 0   id                      5782 non-null   int64         \n",
      " 1   release_date            5782 non-null   datetime64[ns]\n",
      " 2   movie                   5782 non-null   object        \n",
      " 3   budget_thenum           5782 non-null   int32         \n",
      " 4   domestic_gross_thenum   5782 non-null   int32         \n",
      " 5   worldwide_gross_thenum  5782 non-null   int64         \n",
      " 6   currency                5782 non-null   object        \n",
      " 7   foreign_gross_thenum    5782 non-null   int64         \n",
      " 8   net_revenue_thenum      5782 non-null   int64         \n",
      " 9   release_year            5782 non-null   int64         \n",
      " 10  release_month           5782 non-null   int64         \n",
      " 11  release_day             5782 non-null   int64         \n",
      " 12  merge_key               5782 non-null   object        \n",
      " 13  title                   1215 non-null   object        \n",
      " 14  studio                  1215 non-null   object        \n",
      " 15  domestic_gross_bom      1215 non-null   float64       \n",
      " 16  foreign_gross_bom       1215 non-null   float64       \n",
      " 17  year                    1215 non-null   float64       \n",
      "dtypes: datetime64[ns](1), float64(3), int32(2), int64(7), object(5)\n",
      "memory usage: 813.1+ KB\n"
     ]
    }
   ],
   "source": [
    "final.info()"
   ]
  },
  {
   "cell_type": "code",
   "execution_count": null,
   "metadata": {
    "ExecuteTime": {
     "end_time": "2022-03-07T23:12:47.150170Z",
     "start_time": "2022-03-07T23:12:46.428Z"
    }
   },
   "outputs": [],
   "source": [
    "final['year'].max()"
   ]
  },
  {
   "cell_type": "code",
   "execution_count": null,
   "metadata": {
    "ExecuteTime": {
     "end_time": "2022-03-07T15:29:40.227613Z",
     "start_time": "2022-03-07T15:29:40.214610Z"
    }
   },
   "outputs": [],
   "source": [
    "final[(final['domestic_gross_thenum']==0) & (final['domestic_gross_bom']!=0)][['movie','domestic_gross_thenum','domestic_gross_bom',\n",
    "                                                                              'foreign_gross_thenum','foreign_gross_bom',\n",
    "                                                                              'worldwide_gross_thenum']]"
   ]
  }
 ],
 "metadata": {
  "kernelspec": {
   "display_name": "Python (learn-env)",
   "language": "python",
   "name": "learn-env"
  },
  "language_info": {
   "codemirror_mode": {
    "name": "ipython",
    "version": 3
   },
   "file_extension": ".py",
   "mimetype": "text/x-python",
   "name": "python",
   "nbconvert_exporter": "python",
   "pygments_lexer": "ipython3",
   "version": "3.8.5"
  }
 },
 "nbformat": 4,
 "nbformat_minor": 4
}
