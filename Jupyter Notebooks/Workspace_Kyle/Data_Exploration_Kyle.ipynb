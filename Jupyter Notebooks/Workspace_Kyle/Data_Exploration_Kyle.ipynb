{
 "cells": [
  {
   "cell_type": "markdown",
   "metadata": {},
   "source": [
    "# Phase 1 Project"
   ]
  },
  {
   "cell_type": "markdown",
   "metadata": {},
   "source": [
    "## Importing Libraries"
   ]
  },
  {
   "cell_type": "code",
   "execution_count": null,
   "metadata": {},
   "outputs": [],
   "source": [
    "import pandas as pd\n",
    "import numpy as np\n",
    "import sqlite3\n",
    "import matplotlib.pyplot as plt\n",
    "%matplotlib inline\n",
    "import datetime"
   ]
  },
  {
   "cell_type": "markdown",
   "metadata": {},
   "source": [
    "## Importing Files"
   ]
  },
  {
   "cell_type": "markdown",
   "metadata": {},
   "source": [
    "### Importing Box Office Mojo Movie  Gross"
   ]
  },
  {
   "cell_type": "code",
   "execution_count": null,
   "metadata": {},
   "outputs": [],
   "source": [
    "BOM_df = pd.read_csv('../../data/bom.movie_gross.csv.gz')\n",
    "BOM_df.head(1)"
   ]
  },
  {
   "cell_type": "markdown",
   "metadata": {},
   "source": [
    "### Importing IMDB"
   ]
  },
  {
   "cell_type": "code",
   "execution_count": null,
   "metadata": {},
   "outputs": [],
   "source": []
  },
  {
   "cell_type": "markdown",
   "metadata": {},
   "source": [
    "### Importing Rotten Tomatoes"
   ]
  },
  {
   "cell_type": "markdown",
   "metadata": {},
   "source": [
    "#### Rotten Tomatoes info"
   ]
  },
  {
   "cell_type": "code",
   "execution_count": null,
   "metadata": {},
   "outputs": [],
   "source": [
    "rt_movies_df = pd.read_csv('../../data/rt.movie_info.tsv.gz', delimiter = \"\\t\")\n",
    "rt_movies_df.head(1)"
   ]
  },
  {
   "cell_type": "markdown",
   "metadata": {},
   "source": [
    "#### Rotten Tomatoes Reviews"
   ]
  },
  {
   "cell_type": "code",
   "execution_count": null,
   "metadata": {},
   "outputs": [],
   "source": [
    "rt_review_df = pd.read_csv('../../data/rt.reviews.tsv.gz',delimiter='\\t',encoding = 'cp1252')\n",
    "rt_review_df.head(1)"
   ]
  },
  {
   "cell_type": "markdown",
   "metadata": {},
   "source": [
    "### Importing TheMovieDB (I look Over)"
   ]
  },
  {
   "cell_type": "code",
   "execution_count": null,
   "metadata": {
    "scrolled": true
   },
   "outputs": [],
   "source": [
    "tmdb_df = pd.read_csv('../../data/tmdb.movies.csv.gz', index_col = 0)"
   ]
  },
  {
   "cell_type": "code",
   "execution_count": null,
   "metadata": {
    "scrolled": true
   },
   "outputs": [],
   "source": [
    "tmdb_df.head(1)"
   ]
  },
  {
   "cell_type": "markdown",
   "metadata": {},
   "source": [
    "Analyzing TheMovieDB to determine if we as a group want to use the data frame.\n",
    "Conclusion: Do not want to do furter analysis or use data in project."
   ]
  },
  {
   "cell_type": "code",
   "execution_count": null,
   "metadata": {
    "scrolled": false
   },
   "outputs": [],
   "source": [
    "tmdb_df.info()"
   ]
  },
  {
   "cell_type": "code",
   "execution_count": null,
   "metadata": {},
   "outputs": [],
   "source": [
    "tmdb_df.describe()"
   ]
  },
  {
   "cell_type": "code",
   "execution_count": null,
   "metadata": {
    "scrolled": true
   },
   "outputs": [],
   "source": [
    "#Filtered data fram to contain values only containing movies released in the past decade\n",
    "past_decade_df = tmdb_df.loc[(tmdb_df['release_date'] >= '2012-01-01')]\n",
    "past_decade_df.head()"
   ]
  },
  {
   "cell_type": "code",
   "execution_count": null,
   "metadata": {},
   "outputs": [],
   "source": [
    "past_decade_df['original_language'].value_counts()"
   ]
  },
  {
   "cell_type": "code",
   "execution_count": null,
   "metadata": {
    "scrolled": true
   },
   "outputs": [],
   "source": [
    "past_decade_df['vote_count'].sort_values(ascending=False)"
   ]
  },
  {
   "cell_type": "code",
   "execution_count": null,
   "metadata": {},
   "outputs": [],
   "source": [
    "past_decade_df.info()"
   ]
  },
  {
   "cell_type": "code",
   "execution_count": null,
   "metadata": {
    "scrolled": true
   },
   "outputs": [],
   "source": [
    "past_decade = past_decade_df['popularity'].sort_values(ascending=False)\n",
    "past_decade"
   ]
  },
  {
   "cell_type": "code",
   "execution_count": null,
   "metadata": {
    "scrolled": true
   },
   "outputs": [],
   "source": [
    "past_decade.value_counts()"
   ]
  },
  {
   "cell_type": "code",
   "execution_count": null,
   "metadata": {
    "scrolled": false
   },
   "outputs": [],
   "source": [
    "fig, ax=plt.subplots()\n",
    "ax.hist(x=past_decade, bins=100);"
   ]
  },
  {
   "cell_type": "code",
   "execution_count": null,
   "metadata": {},
   "outputs": [],
   "source": [
    "past_decade_no_lows = []\n",
    "for value  in past_decade.value_counts():\n",
    "    if value <70:\n",
    "        past_decade_no_lows.append(value)\n",
    "    else:\n",
    "        continue\n",
    "len(past_decade_no_lows)"
   ]
  },
  {
   "cell_type": "code",
   "execution_count": null,
   "metadata": {},
   "outputs": [],
   "source": [
    "fig, ax=plt.subplots()\n",
    "ax.hist(x=past_decade_no_lows, bins=100);"
   ]
  },
  {
   "cell_type": "code",
   "execution_count": null,
   "metadata": {},
   "outputs": [],
   "source": [
    "past_decade.value_counts()"
   ]
  },
  {
   "cell_type": "code",
   "execution_count": null,
   "metadata": {},
   "outputs": [],
   "source": [
    "fig, ax=plt.subplots()\n",
    "ax.hist(x=past_decade_df['vote_count'], bins=50);"
   ]
  },
  {
   "cell_type": "code",
   "execution_count": null,
   "metadata": {},
   "outputs": [],
   "source": []
  },
  {
   "cell_type": "code",
   "execution_count": null,
   "metadata": {},
   "outputs": [],
   "source": [
    "fig, ax=plt.subplots()\n",
    "ax.hist(x=past_decade_df['popularity'], bins=50);"
   ]
  },
  {
   "cell_type": "code",
   "execution_count": null,
   "metadata": {},
   "outputs": [],
   "source": []
  },
  {
   "cell_type": "markdown",
   "metadata": {},
   "source": [
    "### Importing TheNumbers"
   ]
  },
  {
   "cell_type": "code",
   "execution_count": null,
   "metadata": {},
   "outputs": [],
   "source": [
    "df_th = pd.read_csv('../../data/tn.movie_budgets.csv.gz')\n",
    "df_th.head(1)"
   ]
  },
  {
   "cell_type": "code",
   "execution_count": null,
   "metadata": {},
   "outputs": [],
   "source": [
    "df_th.info()"
   ]
  },
  {
   "cell_type": "markdown",
   "metadata": {},
   "source": [
    "# Exploring what types of films are currently doing the best at the box office"
   ]
  },
  {
   "cell_type": "markdown",
   "metadata": {},
   "source": [
    "I started looking at information within this data base before consulting with team.  \n",
    "We decided not to use this data set for our project.  "
   ]
  },
  {
   "cell_type": "code",
   "execution_count": null,
   "metadata": {
    "scrolled": true
   },
   "outputs": [],
   "source": [
    "BOM_df.head()"
   ]
  },
  {
   "cell_type": "code",
   "execution_count": null,
   "metadata": {},
   "outputs": [],
   "source": [
    "BOM_df.info()"
   ]
  },
  {
   "cell_type": "code",
   "execution_count": null,
   "metadata": {},
   "outputs": [],
   "source": [
    "BOM_df['domestic_gross'].values"
   ]
  },
  {
   "cell_type": "code",
   "execution_count": null,
   "metadata": {},
   "outputs": [],
   "source": [
    "BOM_df.isna().sum()"
   ]
  },
  {
   "cell_type": "code",
   "execution_count": null,
   "metadata": {},
   "outputs": [],
   "source": [
    "BOM_df[BOM_df['domestic_gross'].isna() == True].head()"
   ]
  },
  {
   "cell_type": "code",
   "execution_count": null,
   "metadata": {
    "scrolled": true
   },
   "outputs": [],
   "source": [
    "BOM_nona_domestic = BOM_df.dropna(subset = ['domestic_gross'])"
   ]
  },
  {
   "cell_type": "code",
   "execution_count": null,
   "metadata": {},
   "outputs": [],
   "source": [
    "BOM_nona_domestic['domestic_gross'].sort_values(ascending=False)"
   ]
  },
  {
   "cell_type": "markdown",
   "metadata": {},
   "source": [
    "# Pulling data from WIKI"
   ]
  },
  {
   "cell_type": "markdown",
   "metadata": {},
   "source": [
    "Observing Microsoft IPs with the gaming companies"
   ]
  },
  {
   "cell_type": "code",
   "execution_count": null,
   "metadata": {},
   "outputs": [],
   "source": [
    "#importing libraries for web scraping.  Grabbed single charts from Wiki\n",
    "import requests\n",
    "from bs4 import BeautifulSoup"
   ]
  },
  {
   "cell_type": "code",
   "execution_count": null,
   "metadata": {},
   "outputs": [],
   "source": [
    "r = requests.get('https://en.wikipedia.org/wiki/List_of_mergers_and_acquisitions_by_Microsoft')"
   ]
  },
  {
   "cell_type": "code",
   "execution_count": null,
   "metadata": {},
   "outputs": [],
   "source": [
    "soup = BeautifulSoup(r.text)"
   ]
  },
  {
   "cell_type": "code",
   "execution_count": null,
   "metadata": {
    "scrolled": true
   },
   "outputs": [],
   "source": [
    "table = soup.find('table', {'class': \"wikitable sortable\"})"
   ]
  },
  {
   "cell_type": "code",
   "execution_count": null,
   "metadata": {},
   "outputs": [],
   "source": [
    "len(table.find_all('tr')) #length matches the table on Wiki"
   ]
  },
  {
   "cell_type": "code",
   "execution_count": null,
   "metadata": {},
   "outputs": [],
   "source": [
    "Microsoft_Acquisitions_df = pd.read_html(table.prettify())[0]\n",
    "Microsoft_Acquisitions_df.head()"
   ]
  },
  {
   "cell_type": "code",
   "execution_count": null,
   "metadata": {},
   "outputs": [],
   "source": [
    "Microsoft_Acquisitions_df.info()"
   ]
  },
  {
   "cell_type": "code",
   "execution_count": null,
   "metadata": {},
   "outputs": [],
   "source": [
    "Microsoft_Acquisitions_df['Business'].value_counts() #~10% of of acquisitions by Microsoft according to this chart were in the \n",
    "                                                        #videa gaming sector"
   ]
  },
  {
   "cell_type": "code",
   "execution_count": null,
   "metadata": {},
   "outputs": [],
   "source": [
    "Microsoft_Video_Games_df = Microsoft_Acquisitions_df[Microsoft_Acquisitions_df['Business'] == \"Video games\"]\n",
    "Microsoft_Video_Games_df #Filtered only businesses that were video games from the Microsoft acquisitions table"
   ]
  },
  {
   "cell_type": "markdown",
   "metadata": {},
   "source": [
    "# Couldn't import this chart "
   ]
  },
  {
   "cell_type": "markdown",
   "metadata": {},
   "source": [
    "Note: Ask group members if I should load chart and if so need help!"
   ]
  },
  {
   "cell_type": "code",
   "execution_count": null,
   "metadata": {},
   "outputs": [],
   "source": [
    "r1 = requests.get('https://en.wikipedia.org/wiki/Xbox_Game_Studios')"
   ]
  },
  {
   "cell_type": "code",
   "execution_count": null,
   "metadata": {},
   "outputs": [],
   "source": [
    "soup1 = BeautifulSoup(r1.text)"
   ]
  },
  {
   "cell_type": "code",
   "execution_count": null,
   "metadata": {},
   "outputs": [],
   "source": [
    "table1 = soup1.find('table', {'class': \"wikitable sortable jquery-tablesorter\"})"
   ]
  },
  {
   "cell_type": "code",
   "execution_count": null,
   "metadata": {},
   "outputs": [],
   "source": [
    "table1"
   ]
  },
  {
   "cell_type": "markdown",
   "metadata": {},
   "source": [
    "# Kaggle Video Game Data"
   ]
  },
  {
   "cell_type": "code",
   "execution_count": null,
   "metadata": {
    "scrolled": true
   },
   "outputs": [],
   "source": [
    "#url = https://www.kaggle.com/coffeepot/videogame-sales/data\n",
    "#creator of db = RYANCOX\n",
    "video_game_df = pd.read_csv('../../data/Video_Games_Sales_as_at_22_Dec_2016.csv.zip')\n",
    "video_game_df.info()"
   ]
  },
  {
   "cell_type": "code",
   "execution_count": null,
   "metadata": {},
   "outputs": [],
   "source": [
    "plt.bar(x=video_game_df['Publisher'].value_counts().index, height=video_game_df['Publisher'].value_counts())\n",
    "#Just want to see the distribution of Publishers.  Dont need to pull names"
   ]
  },
  {
   "cell_type": "code",
   "execution_count": null,
   "metadata": {
    "scrolled": true
   },
   "outputs": [],
   "source": [
    "# Isolating Microsoft Game Studios, Activision, Bethesda Softworks (2 branches of microsoft + Activision)\n",
    "# Did Ind. first to test and see individual publishers stats\n",
    "Activision_df = video_game_df.loc[(video_game_df['Publisher'] == \"Activision\")]\n",
    "Activision_df.head(1)"
   ]
  },
  {
   "cell_type": "code",
   "execution_count": null,
   "metadata": {},
   "outputs": [],
   "source": [
    "Activision_df.info()"
   ]
  },
  {
   "cell_type": "code",
   "execution_count": null,
   "metadata": {
    "scrolled": true
   },
   "outputs": [],
   "source": [
    "Activision_df.describe()"
   ]
  },
  {
   "cell_type": "code",
   "execution_count": null,
   "metadata": {},
   "outputs": [],
   "source": [
    "MGS_df = video_game_df.loc[(video_game_df['Publisher'] == \"Microsoft Game Studios\")]\n",
    "MGS_df.head(1)"
   ]
  },
  {
   "cell_type": "code",
   "execution_count": null,
   "metadata": {},
   "outputs": [],
   "source": [
    "MGS_df.info()"
   ]
  },
  {
   "cell_type": "code",
   "execution_count": null,
   "metadata": {},
   "outputs": [],
   "source": [
    "MGS_df.describe()"
   ]
  },
  {
   "cell_type": "code",
   "execution_count": null,
   "metadata": {},
   "outputs": [],
   "source": [
    "BS_df = video_game_df.loc[(video_game_df['Publisher'] == \"Bethesda Softworks\")]\n",
    "BS_df.head(1)"
   ]
  },
  {
   "cell_type": "code",
   "execution_count": null,
   "metadata": {},
   "outputs": [],
   "source": [
    "BS_df.info()"
   ]
  },
  {
   "cell_type": "code",
   "execution_count": null,
   "metadata": {},
   "outputs": [],
   "source": [
    "BS_df.describe()\n",
    "# Critic columns are missing roughly 33% of data, so probably wont use"
   ]
  },
  {
   "cell_type": "code",
   "execution_count": null,
   "metadata": {
    "scrolled": true
   },
   "outputs": [],
   "source": [
    "Total_Microsoft_Df = video_game_df.loc[(video_game_df['Publisher'].str.contains(\"Bethesda\")) | \n",
    "                                       (video_game_df['Publisher'].str.contains(\"Activision\"))|\n",
    "                                      (video_game_df['Publisher'].str.contains(\"Microsoft\"))]\n",
    "Total_Microsoft_Df['Publisher'].value_counts() # Data frame containing Microsoft Game Studios, Activision, & Bethesda Softworks"
   ]
  },
  {
   "cell_type": "code",
   "execution_count": null,
   "metadata": {},
   "outputs": [],
   "source": [
    "Top_20_GS = Total_Microsoft_Df.sort_values(by= 'Global_Sales', ascending = False).head(20)\n",
    "Top_20_GS"
   ]
  },
  {
   "cell_type": "code",
   "execution_count": null,
   "metadata": {},
   "outputs": [],
   "source": [
    "Top_20_NAS = Total_Microsoft_Df.sort_values(by=\"NA_Sales\", ascending = False).head(20)\n",
    "Top_20_NAS"
   ]
  },
  {
   "cell_type": "code",
   "execution_count": null,
   "metadata": {},
   "outputs": [],
   "source": [
    "Top_20_EUS = Total_Microsoft_Df.sort_values(by=\"EU_Sales\", ascending = False).head(20)\n",
    "Top_20_EUS"
   ]
  },
  {
   "cell_type": "code",
   "execution_count": null,
   "metadata": {},
   "outputs": [],
   "source": [
    "Top_20_JPS = Total_Microsoft_Df.sort_values(by=\"JP_Sales\", ascending = False).head(20)\n",
    "Top_20_JPS"
   ]
  },
  {
   "cell_type": "code",
   "execution_count": null,
   "metadata": {},
   "outputs": [],
   "source": [
    "Top_20_Names = []\n",
    "for name in Top_20_GS['Name']:\n",
    "    Top_20_Names.append(str(name))\n",
    "    \n",
    "Top_20_Names"
   ]
  },
  {
   "cell_type": "code",
   "execution_count": null,
   "metadata": {
    "scrolled": true
   },
   "outputs": [],
   "source": [
    "fig, ax = plt.subplots(figsize = (15,10))\n",
    "\n",
    "ax.bar(x=Top_20_GS['Name'],\n",
    "       height=Top_20_GS['Global_Sales'],\n",
    "       color='purple')\n",
    "ax.set_title(\"\"\"Top 20 Global Sales in 2016 by Publishers currently owned by Microsoft\"\"\")\n",
    "ax.set_xlabel(\"Name of Game\")\n",
    "ax.set_ylabel(\"Global Sales in millions of units\")\n",
    "plt.xticks(rotation=75);"
   ]
  },
  {
   "cell_type": "code",
   "execution_count": null,
   "metadata": {
    "scrolled": true
   },
   "outputs": [],
   "source": [
    "fig, ax = plt.subplots(figsize = (15,10))\n",
    "\n",
    "ax.bar(x=Top_20_NAS['Name'],\n",
    "       height=Top_20_NAS['NA_Sales'],\n",
    "       color='purple')\n",
    "ax.set_title(\"\"\"Top 20 NA Sales in 2016 by Publishers currently owned by Microsoft\"\"\")\n",
    "ax.set_xlabel(\"Name of Game\")\n",
    "ax.set_ylabel(\"Global Sales in millions of units\")\n",
    "plt.xticks(rotation=75);"
   ]
  },
  {
   "cell_type": "code",
   "execution_count": null,
   "metadata": {
    "scrolled": true
   },
   "outputs": [],
   "source": [
    "fig, ax = plt.subplots(figsize = (15,10))\n",
    "\n",
    "ax.bar(x=Top_20_EUS['Name'],\n",
    "       height=Top_20_EUS['EU_Sales'],\n",
    "       color='purple')\n",
    "ax.set_title(\"\"\"Top 20 NA Sales in 2016 by Publishers currently owned by Microsoft\"\"\")\n",
    "ax.set_xlabel(\"Name of Game\")\n",
    "ax.set_ylabel(\"Global Sales in millions of units\")\n",
    "plt.xticks(rotation=75);"
   ]
  },
  {
   "cell_type": "code",
   "execution_count": null,
   "metadata": {
    "scrolled": true
   },
   "outputs": [],
   "source": [
    "fig, ax = plt.subplots(figsize = (15,10))\n",
    "\n",
    "ax.bar(x=Top_20_JPS['Name'],\n",
    "       height=Top_20_JPS['JP_Sales'],\n",
    "       color='purple')\n",
    "ax.set_title(\"\"\"Top 20 NA Sales in 2016 by Publishers currently owned by Microsoft\"\"\")\n",
    "ax.set_xlabel(\"Name of Game\")\n",
    "ax.set_ylabel(\"Global Sales in millions of units\")\n",
    "plt.xticks(rotation=75);"
   ]
  },
  {
   "cell_type": "code",
   "execution_count": null,
   "metadata": {},
   "outputs": [],
   "source": [
    "Total_Microsoft_Df.sort_values(by= 'JP_Sales', ascending = False).head(20)"
   ]
  },
  {
   "cell_type": "code",
   "execution_count": null,
   "metadata": {},
   "outputs": [],
   "source": []
  }
 ],
 "metadata": {
  "kernelspec": {
   "display_name": "Python (learn-env)",
   "language": "python",
   "name": "learn-env"
  },
  "language_info": {
   "codemirror_mode": {
    "name": "ipython",
    "version": 3
   },
   "file_extension": ".py",
   "mimetype": "text/x-python",
   "name": "python",
   "nbconvert_exporter": "python",
   "pygments_lexer": "ipython3",
   "version": "3.8.5"
  }
 },
 "nbformat": 4,
 "nbformat_minor": 4
}
