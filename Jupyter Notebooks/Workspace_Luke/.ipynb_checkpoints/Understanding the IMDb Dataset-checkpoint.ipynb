{
 "cells": [
  {
   "cell_type": "markdown",
   "metadata": {},
   "source": [
    "# Understanding the IMDb Dataset"
   ]
  },
  {
   "cell_type": "markdown",
   "metadata": {},
   "source": [
    "First, we'll need to set up our notebook to be able to process this data."
   ]
  },
  {
   "cell_type": "code",
   "execution_count": 2,
   "metadata": {},
   "outputs": [],
   "source": [
    "# Import necessary libraries and packages\n",
    "import pandas as pd\n",
    "import numpy as np\n",
    "import sqlite3\n",
    "import zipfile\n",
    "import matplotlib.pyplot as plt\n",
    "\n",
    "%matplotlib inline"
   ]
  },
  {
   "cell_type": "code",
   "execution_count": 3,
   "metadata": {},
   "outputs": [],
   "source": [
    "# Extract IMDb SQL .db file\n",
    "with zipfile.ZipFile('../../data/im.db.zip') as zipObj:\n",
    "    # Extract all contents of .zip file into current directory\n",
    "    zipObj.extractall(path='../../data/')\n",
    "    \n",
    "# Create connection to IMDb DB\n",
    "con = sqlite3.connect('../../data/im.db')"
   ]
  },
  {
   "cell_type": "markdown",
   "metadata": {},
   "source": [
    "Let's take a look at what this dataset actually *contains*, i.e. the names of the tables"
   ]
  },
  {
   "cell_type": "code",
   "execution_count": 4,
   "metadata": {
    "scrolled": false
   },
   "outputs": [
    {
     "data": {
      "text/html": [
       "<div>\n",
       "<style scoped>\n",
       "    .dataframe tbody tr th:only-of-type {\n",
       "        vertical-align: middle;\n",
       "    }\n",
       "\n",
       "    .dataframe tbody tr th {\n",
       "        vertical-align: top;\n",
       "    }\n",
       "\n",
       "    .dataframe thead th {\n",
       "        text-align: right;\n",
       "    }\n",
       "</style>\n",
       "<table border=\"1\" class=\"dataframe\">\n",
       "  <thead>\n",
       "    <tr style=\"text-align: right;\">\n",
       "      <th></th>\n",
       "      <th>type</th>\n",
       "      <th>name</th>\n",
       "      <th>tbl_name</th>\n",
       "      <th>rootpage</th>\n",
       "      <th>sql</th>\n",
       "    </tr>\n",
       "  </thead>\n",
       "  <tbody>\n",
       "    <tr>\n",
       "      <th>0</th>\n",
       "      <td>table</td>\n",
       "      <td>movie_basics</td>\n",
       "      <td>movie_basics</td>\n",
       "      <td>2</td>\n",
       "      <td>CREATE TABLE \"movie_basics\" (\\n\"movie_id\" TEXT...</td>\n",
       "    </tr>\n",
       "    <tr>\n",
       "      <th>1</th>\n",
       "      <td>table</td>\n",
       "      <td>directors</td>\n",
       "      <td>directors</td>\n",
       "      <td>3</td>\n",
       "      <td>CREATE TABLE \"directors\" (\\n\"movie_id\" TEXT,\\n...</td>\n",
       "    </tr>\n",
       "    <tr>\n",
       "      <th>2</th>\n",
       "      <td>table</td>\n",
       "      <td>known_for</td>\n",
       "      <td>known_for</td>\n",
       "      <td>4</td>\n",
       "      <td>CREATE TABLE \"known_for\" (\\n\"person_id\" TEXT,\\...</td>\n",
       "    </tr>\n",
       "    <tr>\n",
       "      <th>3</th>\n",
       "      <td>table</td>\n",
       "      <td>movie_akas</td>\n",
       "      <td>movie_akas</td>\n",
       "      <td>5</td>\n",
       "      <td>CREATE TABLE \"movie_akas\" (\\n\"movie_id\" TEXT,\\...</td>\n",
       "    </tr>\n",
       "    <tr>\n",
       "      <th>4</th>\n",
       "      <td>table</td>\n",
       "      <td>movie_ratings</td>\n",
       "      <td>movie_ratings</td>\n",
       "      <td>6</td>\n",
       "      <td>CREATE TABLE \"movie_ratings\" (\\n\"movie_id\" TEX...</td>\n",
       "    </tr>\n",
       "    <tr>\n",
       "      <th>5</th>\n",
       "      <td>table</td>\n",
       "      <td>persons</td>\n",
       "      <td>persons</td>\n",
       "      <td>7</td>\n",
       "      <td>CREATE TABLE \"persons\" (\\n\"person_id\" TEXT,\\n ...</td>\n",
       "    </tr>\n",
       "    <tr>\n",
       "      <th>6</th>\n",
       "      <td>table</td>\n",
       "      <td>principals</td>\n",
       "      <td>principals</td>\n",
       "      <td>8</td>\n",
       "      <td>CREATE TABLE \"principals\" (\\n\"movie_id\" TEXT,\\...</td>\n",
       "    </tr>\n",
       "    <tr>\n",
       "      <th>7</th>\n",
       "      <td>table</td>\n",
       "      <td>writers</td>\n",
       "      <td>writers</td>\n",
       "      <td>9</td>\n",
       "      <td>CREATE TABLE \"writers\" (\\n\"movie_id\" TEXT,\\n  ...</td>\n",
       "    </tr>\n",
       "  </tbody>\n",
       "</table>\n",
       "</div>"
      ],
      "text/plain": [
       "    type           name       tbl_name  rootpage  \\\n",
       "0  table   movie_basics   movie_basics         2   \n",
       "1  table      directors      directors         3   \n",
       "2  table      known_for      known_for         4   \n",
       "3  table     movie_akas     movie_akas         5   \n",
       "4  table  movie_ratings  movie_ratings         6   \n",
       "5  table        persons        persons         7   \n",
       "6  table     principals     principals         8   \n",
       "7  table        writers        writers         9   \n",
       "\n",
       "                                                 sql  \n",
       "0  CREATE TABLE \"movie_basics\" (\\n\"movie_id\" TEXT...  \n",
       "1  CREATE TABLE \"directors\" (\\n\"movie_id\" TEXT,\\n...  \n",
       "2  CREATE TABLE \"known_for\" (\\n\"person_id\" TEXT,\\...  \n",
       "3  CREATE TABLE \"movie_akas\" (\\n\"movie_id\" TEXT,\\...  \n",
       "4  CREATE TABLE \"movie_ratings\" (\\n\"movie_id\" TEX...  \n",
       "5  CREATE TABLE \"persons\" (\\n\"person_id\" TEXT,\\n ...  \n",
       "6  CREATE TABLE \"principals\" (\\n\"movie_id\" TEXT,\\...  \n",
       "7  CREATE TABLE \"writers\" (\\n\"movie_id\" TEXT,\\n  ...  "
      ]
     },
     "execution_count": 4,
     "metadata": {},
     "output_type": "execute_result"
    }
   ],
   "source": [
    "pd.read_sql(\"\"\"\n",
    "\n",
    "SELECT *\n",
    "FROM sqlite_master\n",
    "\n",
    "\"\"\",con)"
   ]
  },
  {
   "cell_type": "markdown",
   "metadata": {},
   "source": [
    "For starters, let's take a look at the ```movie_basics``` and ```movie_ratings``` tables."
   ]
  },
  {
   "cell_type": "code",
   "execution_count": 5,
   "metadata": {
    "scrolled": true
   },
   "outputs": [
    {
     "name": "stdout",
     "output_type": "stream",
     "text": [
      "<class 'pandas.core.frame.DataFrame'>\n",
      "RangeIndex: 146144 entries, 0 to 146143\n",
      "Data columns (total 6 columns):\n",
      " #   Column           Non-Null Count   Dtype  \n",
      "---  ------           --------------   -----  \n",
      " 0   movie_id         146144 non-null  object \n",
      " 1   primary_title    146144 non-null  object \n",
      " 2   original_title   146123 non-null  object \n",
      " 3   start_year       146144 non-null  int64  \n",
      " 4   runtime_minutes  114405 non-null  float64\n",
      " 5   genres           140736 non-null  object \n",
      "dtypes: float64(1), int64(1), object(4)\n",
      "memory usage: 6.7+ MB\n"
     ]
    }
   ],
   "source": [
    "basics_query = \"\"\"SELECT * FROM movie_basics\"\"\"\n",
    "\n",
    "pd.read_sql(basics_query,con).info()"
   ]
  },
  {
   "cell_type": "markdown",
   "metadata": {},
   "source": [
    "146,144 entries - that's a **lot** of movies!\n",
    "\n",
    "We have a few columns with null values: ```original_title```, ```runtime_minutes```, and ```genres```. We'll have to figure out how to deal with those in due time, but first, let's get a closer look at what's actually contained in the table."
   ]
  },
  {
   "cell_type": "code",
   "execution_count": 6,
   "metadata": {},
   "outputs": [
    {
     "data": {
      "text/html": [
       "<div>\n",
       "<style scoped>\n",
       "    .dataframe tbody tr th:only-of-type {\n",
       "        vertical-align: middle;\n",
       "    }\n",
       "\n",
       "    .dataframe tbody tr th {\n",
       "        vertical-align: top;\n",
       "    }\n",
       "\n",
       "    .dataframe thead th {\n",
       "        text-align: right;\n",
       "    }\n",
       "</style>\n",
       "<table border=\"1\" class=\"dataframe\">\n",
       "  <thead>\n",
       "    <tr style=\"text-align: right;\">\n",
       "      <th></th>\n",
       "      <th>movie_id</th>\n",
       "      <th>primary_title</th>\n",
       "      <th>original_title</th>\n",
       "      <th>start_year</th>\n",
       "      <th>runtime_minutes</th>\n",
       "      <th>genres</th>\n",
       "    </tr>\n",
       "  </thead>\n",
       "  <tbody>\n",
       "    <tr>\n",
       "      <th>0</th>\n",
       "      <td>tt0063540</td>\n",
       "      <td>Sunghursh</td>\n",
       "      <td>Sunghursh</td>\n",
       "      <td>2013</td>\n",
       "      <td>175.0</td>\n",
       "      <td>Action,Crime,Drama</td>\n",
       "    </tr>\n",
       "    <tr>\n",
       "      <th>1</th>\n",
       "      <td>tt0066787</td>\n",
       "      <td>One Day Before the Rainy Season</td>\n",
       "      <td>Ashad Ka Ek Din</td>\n",
       "      <td>2019</td>\n",
       "      <td>114.0</td>\n",
       "      <td>Biography,Drama</td>\n",
       "    </tr>\n",
       "    <tr>\n",
       "      <th>2</th>\n",
       "      <td>tt0069049</td>\n",
       "      <td>The Other Side of the Wind</td>\n",
       "      <td>The Other Side of the Wind</td>\n",
       "      <td>2018</td>\n",
       "      <td>122.0</td>\n",
       "      <td>Drama</td>\n",
       "    </tr>\n",
       "    <tr>\n",
       "      <th>3</th>\n",
       "      <td>tt0069204</td>\n",
       "      <td>Sabse Bada Sukh</td>\n",
       "      <td>Sabse Bada Sukh</td>\n",
       "      <td>2018</td>\n",
       "      <td>NaN</td>\n",
       "      <td>Comedy,Drama</td>\n",
       "    </tr>\n",
       "    <tr>\n",
       "      <th>4</th>\n",
       "      <td>tt0100275</td>\n",
       "      <td>The Wandering Soap Opera</td>\n",
       "      <td>La Telenovela Errante</td>\n",
       "      <td>2017</td>\n",
       "      <td>80.0</td>\n",
       "      <td>Comedy,Drama,Fantasy</td>\n",
       "    </tr>\n",
       "    <tr>\n",
       "      <th>5</th>\n",
       "      <td>tt0111414</td>\n",
       "      <td>A Thin Life</td>\n",
       "      <td>A Thin Life</td>\n",
       "      <td>2018</td>\n",
       "      <td>75.0</td>\n",
       "      <td>Comedy</td>\n",
       "    </tr>\n",
       "    <tr>\n",
       "      <th>6</th>\n",
       "      <td>tt0112502</td>\n",
       "      <td>Bigfoot</td>\n",
       "      <td>Bigfoot</td>\n",
       "      <td>2017</td>\n",
       "      <td>NaN</td>\n",
       "      <td>Horror,Thriller</td>\n",
       "    </tr>\n",
       "    <tr>\n",
       "      <th>7</th>\n",
       "      <td>tt0137204</td>\n",
       "      <td>Joe Finds Grace</td>\n",
       "      <td>Joe Finds Grace</td>\n",
       "      <td>2017</td>\n",
       "      <td>83.0</td>\n",
       "      <td>Adventure,Animation,Comedy</td>\n",
       "    </tr>\n",
       "    <tr>\n",
       "      <th>8</th>\n",
       "      <td>tt0139613</td>\n",
       "      <td>O Silêncio</td>\n",
       "      <td>O Silêncio</td>\n",
       "      <td>2012</td>\n",
       "      <td>NaN</td>\n",
       "      <td>Documentary,History</td>\n",
       "    </tr>\n",
       "    <tr>\n",
       "      <th>9</th>\n",
       "      <td>tt0144449</td>\n",
       "      <td>Nema aviona za Zagreb</td>\n",
       "      <td>Nema aviona za Zagreb</td>\n",
       "      <td>2012</td>\n",
       "      <td>82.0</td>\n",
       "      <td>Biography</td>\n",
       "    </tr>\n",
       "  </tbody>\n",
       "</table>\n",
       "</div>"
      ],
      "text/plain": [
       "    movie_id                    primary_title              original_title  \\\n",
       "0  tt0063540                        Sunghursh                   Sunghursh   \n",
       "1  tt0066787  One Day Before the Rainy Season             Ashad Ka Ek Din   \n",
       "2  tt0069049       The Other Side of the Wind  The Other Side of the Wind   \n",
       "3  tt0069204                  Sabse Bada Sukh             Sabse Bada Sukh   \n",
       "4  tt0100275         The Wandering Soap Opera       La Telenovela Errante   \n",
       "5  tt0111414                      A Thin Life                 A Thin Life   \n",
       "6  tt0112502                          Bigfoot                     Bigfoot   \n",
       "7  tt0137204                  Joe Finds Grace             Joe Finds Grace   \n",
       "8  tt0139613                       O Silêncio                  O Silêncio   \n",
       "9  tt0144449            Nema aviona za Zagreb       Nema aviona za Zagreb   \n",
       "\n",
       "   start_year  runtime_minutes                      genres  \n",
       "0        2013            175.0          Action,Crime,Drama  \n",
       "1        2019            114.0             Biography,Drama  \n",
       "2        2018            122.0                       Drama  \n",
       "3        2018              NaN                Comedy,Drama  \n",
       "4        2017             80.0        Comedy,Drama,Fantasy  \n",
       "5        2018             75.0                      Comedy  \n",
       "6        2017              NaN             Horror,Thriller  \n",
       "7        2017             83.0  Adventure,Animation,Comedy  \n",
       "8        2012              NaN         Documentary,History  \n",
       "9        2012             82.0                   Biography  "
      ]
     },
     "execution_count": 6,
     "metadata": {},
     "output_type": "execute_result"
    }
   ],
   "source": [
    "pd.read_sql(basics_query,con).head(10)"
   ]
  },
  {
   "cell_type": "markdown",
   "metadata": {},
   "source": [
    "Since most of the movies in the dataset have the same `primary_title` and `original_title`, and because `primary_title` is often an English-translated title, we can probably drop `original_title` when we join these tables.\n",
    "\n",
    "We also have a primary key: `movie_id`.\n",
    "\n",
    "Okay, what about the table `movie_ratings`?"
   ]
  },
  {
   "cell_type": "code",
   "execution_count": 7,
   "metadata": {},
   "outputs": [
    {
     "data": {
      "text/html": [
       "<div>\n",
       "<style scoped>\n",
       "    .dataframe tbody tr th:only-of-type {\n",
       "        vertical-align: middle;\n",
       "    }\n",
       "\n",
       "    .dataframe tbody tr th {\n",
       "        vertical-align: top;\n",
       "    }\n",
       "\n",
       "    .dataframe thead th {\n",
       "        text-align: right;\n",
       "    }\n",
       "</style>\n",
       "<table border=\"1\" class=\"dataframe\">\n",
       "  <thead>\n",
       "    <tr style=\"text-align: right;\">\n",
       "      <th></th>\n",
       "      <th>movie_id</th>\n",
       "      <th>averagerating</th>\n",
       "      <th>numvotes</th>\n",
       "    </tr>\n",
       "  </thead>\n",
       "  <tbody>\n",
       "    <tr>\n",
       "      <th>0</th>\n",
       "      <td>tt10356526</td>\n",
       "      <td>8.3</td>\n",
       "      <td>31</td>\n",
       "    </tr>\n",
       "    <tr>\n",
       "      <th>1</th>\n",
       "      <td>tt10384606</td>\n",
       "      <td>8.9</td>\n",
       "      <td>559</td>\n",
       "    </tr>\n",
       "    <tr>\n",
       "      <th>2</th>\n",
       "      <td>tt1042974</td>\n",
       "      <td>6.4</td>\n",
       "      <td>20</td>\n",
       "    </tr>\n",
       "    <tr>\n",
       "      <th>3</th>\n",
       "      <td>tt1043726</td>\n",
       "      <td>4.2</td>\n",
       "      <td>50352</td>\n",
       "    </tr>\n",
       "    <tr>\n",
       "      <th>4</th>\n",
       "      <td>tt1060240</td>\n",
       "      <td>6.5</td>\n",
       "      <td>21</td>\n",
       "    </tr>\n",
       "    <tr>\n",
       "      <th>5</th>\n",
       "      <td>tt1069246</td>\n",
       "      <td>6.2</td>\n",
       "      <td>326</td>\n",
       "    </tr>\n",
       "    <tr>\n",
       "      <th>6</th>\n",
       "      <td>tt1094666</td>\n",
       "      <td>7.0</td>\n",
       "      <td>1613</td>\n",
       "    </tr>\n",
       "    <tr>\n",
       "      <th>7</th>\n",
       "      <td>tt1130982</td>\n",
       "      <td>6.4</td>\n",
       "      <td>571</td>\n",
       "    </tr>\n",
       "    <tr>\n",
       "      <th>8</th>\n",
       "      <td>tt1156528</td>\n",
       "      <td>7.2</td>\n",
       "      <td>265</td>\n",
       "    </tr>\n",
       "    <tr>\n",
       "      <th>9</th>\n",
       "      <td>tt1161457</td>\n",
       "      <td>4.2</td>\n",
       "      <td>148</td>\n",
       "    </tr>\n",
       "  </tbody>\n",
       "</table>\n",
       "</div>"
      ],
      "text/plain": [
       "     movie_id  averagerating  numvotes\n",
       "0  tt10356526            8.3        31\n",
       "1  tt10384606            8.9       559\n",
       "2   tt1042974            6.4        20\n",
       "3   tt1043726            4.2     50352\n",
       "4   tt1060240            6.5        21\n",
       "5   tt1069246            6.2       326\n",
       "6   tt1094666            7.0      1613\n",
       "7   tt1130982            6.4       571\n",
       "8   tt1156528            7.2       265\n",
       "9   tt1161457            4.2       148"
      ]
     },
     "execution_count": 7,
     "metadata": {},
     "output_type": "execute_result"
    }
   ],
   "source": [
    "ratings_query = \"\"\"SELECT * FROM movie_ratings\"\"\"\n",
    "\n",
    "pd.read_sql(ratings_query,con).head(10)"
   ]
  },
  {
   "cell_type": "markdown",
   "metadata": {},
   "source": [
    "That table is easy enough to read, but it only gives us **alphanumeric values** to identify what movie is associated with a given row's `averagerating` and `numvotes`. We will address that when we join the tables.\n",
    "\n",
    "Let's take a more bird's-eye view of the `movie_ratings` table using `.info()`."
   ]
  },
  {
   "cell_type": "code",
   "execution_count": 8,
   "metadata": {
    "scrolled": true
   },
   "outputs": [
    {
     "name": "stdout",
     "output_type": "stream",
     "text": [
      "<class 'pandas.core.frame.DataFrame'>\n",
      "RangeIndex: 73856 entries, 0 to 73855\n",
      "Data columns (total 3 columns):\n",
      " #   Column         Non-Null Count  Dtype  \n",
      "---  ------         --------------  -----  \n",
      " 0   movie_id       73856 non-null  object \n",
      " 1   averagerating  73856 non-null  float64\n",
      " 2   numvotes       73856 non-null  int64  \n",
      "dtypes: float64(1), int64(1), object(1)\n",
      "memory usage: 1.7+ MB\n"
     ]
    }
   ],
   "source": [
    "pd.read_sql(ratings_query,con).info()"
   ]
  },
  {
   "cell_type": "markdown",
   "metadata": {},
   "source": [
    "No null values in any of the three columns! But `movie_ratings`, with 73,856 rows, has only *half* as many entries as `movie_basics` - that means there are a lot of entries in `movie_basics` without an associated rating.\n",
    "\n",
    "The two tables have `movie_id` in common, so we'll join them on that column.\n",
    "\n",
    "Which column should we investigate first in order to get a sense of what movies (and what kinds of movies) are popular: `averagerating` or `numvotes`?\n",
    "\n",
    "The values in the column `averagerating` provide us an idea of what *scores* IMDb users have assigned a movie (i.e. users' *evaluations* of a movie's quality), but `numvotes` tells us *how many* IMDb users have rated the movie, which likely gives us a better idea of a movie's **reach**. Let's order our data by `numvotes` to start."
   ]
  },
  {
   "cell_type": "code",
   "execution_count": 9,
   "metadata": {
    "scrolled": false
   },
   "outputs": [],
   "source": [
    "# Creating new query: Joining movie_basics and\n",
    "# movie_ratings, ordering by total # of ratings\n",
    "\n",
    "votes_query = \"\"\"\n",
    "    SELECT\n",
    "        -- Importing columns from movie_basics\n",
    "        mb.primary_title AS \"Title\",\n",
    "        mb.start_year AS \"Release Year\",\n",
    "        -- Importing columns from movie_ratings\n",
    "        mr.averagerating AS \"Avg. Rating\",\n",
    "        mr.numvotes AS \"# of Ratings\"\n",
    "    FROM\n",
    "        movie_basics AS mb\n",
    "        JOIN movie_ratings AS mr\n",
    "            ON mb.movie_id = mr.movie_id\n",
    "    WHERE\n",
    "        -- Looking at movies only from 2010-2019 (most recent\n",
    "        -- year in dataset) for last ten years' of data\n",
    "        mb.start_year >= 2010\n",
    "    ORDER BY\n",
    "        mr.numvotes DESC\n",
    "\"\"\"\n",
    "\n",
    "# Creating new dataframe based on votes_query\n",
    "sample_df = pd.read_sql(votes_query,con)"
   ]
  },
  {
   "cell_type": "code",
   "execution_count": 10,
   "metadata": {},
   "outputs": [
    {
     "data": {
      "image/png": "[encoded data removed]",
      "text/plain": [
       "<Figure size 720x432 with 1 Axes>"
      ]
     },
     "metadata": {
      "needs_background": "light"
     },
     "output_type": "display_data"
    }
   ],
   "source": [
    "# Assigning the values from '# of Ratings' column to\n",
    "# new variable ratings_counts\n",
    "ratings_counts = sample_df['# of Ratings']\n",
    "\n",
    "# Plotting ratings_counts as a boxplot\n",
    "fig, ax = plt.subplots(figsize=(10,6))\n",
    "\n",
    "plt.tick_params(\n",
    "    axis='y',\n",
    "    which='both',\n",
    "    left=False,\n",
    "    labelleft=False)\n",
    "\n",
    "ax.boxplot(ratings_counts, vert=False)\n",
    "ax.set_title(\"Count of User Ratings for Movies on IMDb\")\n",
    "ax.set_xlabel(\"# of Ratings (in millions)\");"
   ]
  },
  {
   "cell_type": "markdown",
   "metadata": {},
   "source": [
    "That is a very skewed boxplot - it's hard to even make any sense of it. Let's look at the descriptive statistics for the `# of Ratings` column."
   ]
  },
  {
   "cell_type": "code",
   "execution_count": 11,
   "metadata": {
    "scrolled": true
   },
   "outputs": [
    {
     "data": {
      "text/plain": [
       "count      73856.000000\n",
       "mean        3523.662167\n",
       "std        30294.022971\n",
       "min            5.000000\n",
       "25%           14.000000\n",
       "50%           49.000000\n",
       "75%          282.000000\n",
       "max      1841066.000000\n",
       "Name: # of Ratings, dtype: object"
      ]
     },
     "execution_count": 11,
     "metadata": {},
     "output_type": "execute_result"
    }
   ],
   "source": [
    "ratings_counts.describe().apply(lambda x: format(x, 'f'))"
   ]
  },
  {
   "cell_type": "markdown",
   "metadata": {},
   "source": [
    "(The function to convert the output of `ratings_counts.describe()` from scientific notation to the above notation was provided by [Ash Upadhyay](https://stackoverflow.com/posts/47207283/revisions).)\n",
    "\n",
    "Wow... not only is our ```mean``` well above the ```50%``` value (the median), but it's **more than ten times larger** than the ```75%``` value! The most popular movie on the site is represented by `max` and has 1,841,066 ratings. \n",
    "\n",
    "From a business perspective, it probably doesn't make a lot of sense to home in on movies with low numbers of user ratings. In the SQL query below, we order by `numvotes`/`# of Ratings` once again, but we limit our output to 500. This yields a dataframe with information about the 500 movies with the greatest number of user ratings - not only is it more manageable than working with thousands of records, we're also only working movies that are verifiably **popular** with IMDb users."
   ]
  },
  {
   "cell_type": "code",
   "execution_count": 12,
   "metadata": {
    "scrolled": false
   },
   "outputs": [
    {
     "name": "stdout",
     "output_type": "stream",
     "text": [
      "<class 'pandas.core.frame.DataFrame'>\n",
      "RangeIndex: 500 entries, 0 to 499\n",
      "Data columns (total 6 columns):\n",
      " #   Column        Non-Null Count  Dtype  \n",
      "---  ------        --------------  -----  \n",
      " 0   Title         500 non-null    object \n",
      " 1   Release Year  500 non-null    int64  \n",
      " 2   genres        500 non-null    object \n",
      " 3   Runtime       500 non-null    float64\n",
      " 4   Avg. Rating   500 non-null    float64\n",
      " 5   # of Ratings  500 non-null    int64  \n",
      "dtypes: float64(2), int64(2), object(2)\n",
      "memory usage: 23.6+ KB\n",
      "None\n"
     ]
    }
   ],
   "source": [
    "imdb_df_sample = pd.read_sql(\"\"\"\n",
    "    SELECT\n",
    "        -- Importing columns from movie_basics\n",
    "        mb.primary_title AS \"Title\",\n",
    "        mb.start_year AS \"Release Year\",\n",
    "        mb.genres AS \"genres\",\n",
    "        mb.runtime_minutes AS \"Runtime\",\n",
    "        -- Importing columns from movie_ratings\n",
    "        mr.averagerating AS \"Avg. Rating\",\n",
    "        mr.numvotes AS \"# of Ratings\"\n",
    "    FROM\n",
    "        movie_basics AS mb\n",
    "        JOIN movie_ratings AS mr\n",
    "            ON mb.movie_id = mr.movie_id\n",
    "    WHERE\n",
    "        -- Looking at movies only with more than 100,000\n",
    "        -- user ratings\n",
    "        mr.numvotes >= 100000 AND\n",
    "        -- Looking at movies only from 2010-2019 (most recent\n",
    "        -- year in dataset)\n",
    "        mb.start_year >= 2010\n",
    "    ORDER BY\n",
    "        mr.numvotes DESC\n",
    "    LIMIT 500\n",
    "\"\"\",con)\n",
    "\n",
    "print(imdb_df_sample.info())"
   ]
  },
  {
   "cell_type": "markdown",
   "metadata": {},
   "source": [
    "Okay, so we've got a sample of 500 movies, each of which has been rated *at least* 100,000 times by IMDb users (though we cannot guarantee these are all unique users.) This sample represents the 500 movies on the site with the greatest number of user ratings."
   ]
  },
  {
   "cell_type": "code",
   "execution_count": 13,
   "metadata": {
    "scrolled": true
   },
   "outputs": [
    {
     "data": {
      "text/html": [
       "<div>\n",
       "<style scoped>\n",
       "    .dataframe tbody tr th:only-of-type {\n",
       "        vertical-align: middle;\n",
       "    }\n",
       "\n",
       "    .dataframe tbody tr th {\n",
       "        vertical-align: top;\n",
       "    }\n",
       "\n",
       "    .dataframe thead th {\n",
       "        text-align: right;\n",
       "    }\n",
       "</style>\n",
       "<table border=\"1\" class=\"dataframe\">\n",
       "  <thead>\n",
       "    <tr style=\"text-align: right;\">\n",
       "      <th></th>\n",
       "      <th>Title</th>\n",
       "      <th>Release Year</th>\n",
       "      <th>genres</th>\n",
       "      <th>Runtime</th>\n",
       "      <th>Avg. Rating</th>\n",
       "      <th># of Ratings</th>\n",
       "    </tr>\n",
       "  </thead>\n",
       "  <tbody>\n",
       "    <tr>\n",
       "      <th>0</th>\n",
       "      <td>Inception</td>\n",
       "      <td>2010</td>\n",
       "      <td>[Action, Adventure, Sci-Fi]</td>\n",
       "      <td>148.0</td>\n",
       "      <td>8.8</td>\n",
       "      <td>1841066</td>\n",
       "    </tr>\n",
       "    <tr>\n",
       "      <th>1</th>\n",
       "      <td>The Dark Knight Rises</td>\n",
       "      <td>2012</td>\n",
       "      <td>[Action, Thriller]</td>\n",
       "      <td>164.0</td>\n",
       "      <td>8.4</td>\n",
       "      <td>1387769</td>\n",
       "    </tr>\n",
       "    <tr>\n",
       "      <th>2</th>\n",
       "      <td>Interstellar</td>\n",
       "      <td>2014</td>\n",
       "      <td>[Adventure, Drama, Sci-Fi]</td>\n",
       "      <td>169.0</td>\n",
       "      <td>8.6</td>\n",
       "      <td>1299334</td>\n",
       "    </tr>\n",
       "    <tr>\n",
       "      <th>3</th>\n",
       "      <td>Django Unchained</td>\n",
       "      <td>2012</td>\n",
       "      <td>[Drama, Western]</td>\n",
       "      <td>165.0</td>\n",
       "      <td>8.4</td>\n",
       "      <td>1211405</td>\n",
       "    </tr>\n",
       "    <tr>\n",
       "      <th>4</th>\n",
       "      <td>The Avengers</td>\n",
       "      <td>2012</td>\n",
       "      <td>[Action, Adventure, Sci-Fi]</td>\n",
       "      <td>143.0</td>\n",
       "      <td>8.1</td>\n",
       "      <td>1183655</td>\n",
       "    </tr>\n",
       "    <tr>\n",
       "      <th>5</th>\n",
       "      <td>The Wolf of Wall Street</td>\n",
       "      <td>2013</td>\n",
       "      <td>[Biography, Crime, Drama]</td>\n",
       "      <td>180.0</td>\n",
       "      <td>8.2</td>\n",
       "      <td>1035358</td>\n",
       "    </tr>\n",
       "    <tr>\n",
       "      <th>6</th>\n",
       "      <td>Shutter Island</td>\n",
       "      <td>2010</td>\n",
       "      <td>[Mystery, Thriller]</td>\n",
       "      <td>138.0</td>\n",
       "      <td>8.1</td>\n",
       "      <td>1005960</td>\n",
       "    </tr>\n",
       "    <tr>\n",
       "      <th>7</th>\n",
       "      <td>Guardians of the Galaxy</td>\n",
       "      <td>2014</td>\n",
       "      <td>[Action, Adventure, Comedy]</td>\n",
       "      <td>121.0</td>\n",
       "      <td>8.1</td>\n",
       "      <td>948394</td>\n",
       "    </tr>\n",
       "    <tr>\n",
       "      <th>8</th>\n",
       "      <td>Deadpool</td>\n",
       "      <td>2016</td>\n",
       "      <td>[Action, Adventure, Comedy]</td>\n",
       "      <td>108.0</td>\n",
       "      <td>8.0</td>\n",
       "      <td>820847</td>\n",
       "    </tr>\n",
       "    <tr>\n",
       "      <th>9</th>\n",
       "      <td>The Hunger Games</td>\n",
       "      <td>2012</td>\n",
       "      <td>[Action, Adventure, Sci-Fi]</td>\n",
       "      <td>142.0</td>\n",
       "      <td>7.2</td>\n",
       "      <td>795227</td>\n",
       "    </tr>\n",
       "  </tbody>\n",
       "</table>\n",
       "</div>"
      ],
      "text/plain": [
       "                     Title  Release Year                       genres  \\\n",
       "0                Inception          2010  [Action, Adventure, Sci-Fi]   \n",
       "1    The Dark Knight Rises          2012           [Action, Thriller]   \n",
       "2             Interstellar          2014   [Adventure, Drama, Sci-Fi]   \n",
       "3         Django Unchained          2012             [Drama, Western]   \n",
       "4             The Avengers          2012  [Action, Adventure, Sci-Fi]   \n",
       "5  The Wolf of Wall Street          2013    [Biography, Crime, Drama]   \n",
       "6           Shutter Island          2010          [Mystery, Thriller]   \n",
       "7  Guardians of the Galaxy          2014  [Action, Adventure, Comedy]   \n",
       "8                 Deadpool          2016  [Action, Adventure, Comedy]   \n",
       "9         The Hunger Games          2012  [Action, Adventure, Sci-Fi]   \n",
       "\n",
       "   Runtime  Avg. Rating  # of Ratings  \n",
       "0    148.0          8.8       1841066  \n",
       "1    164.0          8.4       1387769  \n",
       "2    169.0          8.6       1299334  \n",
       "3    165.0          8.4       1211405  \n",
       "4    143.0          8.1       1183655  \n",
       "5    180.0          8.2       1035358  \n",
       "6    138.0          8.1       1005960  \n",
       "7    121.0          8.1        948394  \n",
       "8    108.0          8.0        820847  \n",
       "9    142.0          7.2        795227  "
      ]
     },
     "execution_count": 13,
     "metadata": {},
     "output_type": "execute_result"
    }
   ],
   "source": [
    "# Database column 'genres' gives us multiple genres separated\n",
    "# by commas -- using split() to create a LIST of genres\n",
    "imdb_df_sample['genres'] = imdb_df_sample['genres'].str.split(',')\n",
    "\n",
    "# Let's look at the 10 movies with the highest # of user ratings\n",
    "imdb_df_sample.head(10)"
   ]
  },
  {
   "cell_type": "markdown",
   "metadata": {},
   "source": [
    "It looks like we have a pretty wide range of runtimes, and several of the movies with the highest average ratings on the site clock in at **over 2.5 hours!** Given the lack of correlation between a movie's runtime and its performance with critics we observed in the RottenTomatoes data, we can safely drop ```runtime_minutes``` / ```Runtime``` and focus on the other columns instead."
   ]
  },
  {
   "cell_type": "code",
   "execution_count": 14,
   "metadata": {
    "scrolled": true
   },
   "outputs": [],
   "source": [
    "imdb_df_sample.drop(columns=['Runtime'], inplace=True)"
   ]
  },
  {
   "cell_type": "markdown",
   "metadata": {},
   "source": [
    "Let's get a closer look at the `genres` column so that we can figure out what genres occur most frequently in this set of movies with 100,000+ user ratings."
   ]
  },
  {
   "cell_type": "code",
   "execution_count": 15,
   "metadata": {
    "scrolled": true
   },
   "outputs": [
    {
     "data": {
      "text/plain": [
       "0      [Action, Adventure, Sci-Fi]\n",
       "1               [Action, Thriller]\n",
       "2       [Adventure, Drama, Sci-Fi]\n",
       "3                 [Drama, Western]\n",
       "4      [Action, Adventure, Sci-Fi]\n",
       "                  ...             \n",
       "495               [Drama, Romance]\n",
       "496          [Drama, Mystery, War]\n",
       "497              [Crime, Thriller]\n",
       "498                [Comedy, Drama]\n",
       "499     [Drama, Mystery, Thriller]\n",
       "Name: genres, Length: 500, dtype: object"
      ]
     },
     "execution_count": 15,
     "metadata": {},
     "output_type": "execute_result"
    }
   ],
   "source": [
    "imdb_df_sample['genres']"
   ]
  },
  {
   "cell_type": "markdown",
   "metadata": {},
   "source": [
    "Looks like the ```genres``` column has a *list* of genres for each entry. We're going to need to split those lists up in order to get accurate value counts for each genre. (Credit for this function goes to [Max Hilsdorf](https://towardsdatascience.com/dealing-with-list-values-in-pandas-dataframes-a177e534f173).)"
   ]
  },
  {
   "cell_type": "code",
   "execution_count": 16,
   "metadata": {},
   "outputs": [],
   "source": [
    "def to_1D(series):\n",
    "    return pd.Series([x for _list in series for x in _list])\n",
    "\n",
    "# Top ten most frequently occurring genres\n",
    "top_genres = to_1D(imdb_df_sample['genres']).value_counts().head(10)"
   ]
  },
  {
   "cell_type": "code",
   "execution_count": 17,
   "metadata": {
    "scrolled": false
   },
   "outputs": [
    {
     "data": {
      "image/png": "[encoded data removed]",
      "text/plain": [
       "<Figure size 792x432 with 1 Axes>"
      ]
     },
     "metadata": {
      "needs_background": "light"
     },
     "output_type": "display_data"
    }
   ],
   "source": [
    "# Plotting top ten genres\n",
    "genres_fig, ax = plt.subplots(figsize = (11, 6))\n",
    "\n",
    "ax.invert_yaxis()\n",
    "ax.barh(y=top_genres.index,\n",
    "       width=top_genres,\n",
    "       color='purple',)\n",
    "ax.set_title(\"\"\"Popular Genres w/ IMDb Users, 2010-2019\n",
    "(Movies with >100,000 User Ratings)\"\"\")\n",
    "ax.set_xlabel(\"# of Movies with 100,000 or more Votes\")\n",
    "ax.set_ylabel(\"Genre\");"
   ]
  },
  {
   "cell_type": "markdown",
   "metadata": {},
   "source": [
    "Interesting. It looks like `Action` is the most popular genre, with nearly **half** of the 500 most-frequently-rated movies containing `Action` in their list of genres!\n",
    "\n",
    "`Drama` and `Adventure` sit in the second and third place slots, respectively, with `Comedy` in fourth place; this lends credence to the interpretation that `Drama` films reach a wider swath of moviegoers, though `Comedy` remains very popular. `Thriller` movies round out the top five.\n",
    "\n",
    "If we subset our data so that we're only looking at the most recent five years' worth of data, do these trends change at all? Let's find out."
   ]
  },
  {
   "cell_type": "code",
   "execution_count": 18,
   "metadata": {},
   "outputs": [
    {
     "data": {
      "image/png": "[encoded data removed]",
      "text/plain": [
       "<Figure size 792x864 with 2 Axes>"
      ]
     },
     "metadata": {
      "needs_background": "light"
     },
     "output_type": "display_data"
    }
   ],
   "source": [
    "# Obtaining a dataframe of only movies released 2015-2019\n",
    "late_decade_df = imdb_df_sample[imdb_df_sample['Release Year'] >= 2015]\n",
    "\n",
    "# Creating another list of top ten genres\n",
    "genres2 = to_1D(late_decade_df['genres']).value_counts().head(10)\n",
    "\n",
    "# Creating a second graph\n",
    "genres_fig2, ax = plt.subplots(2, figsize = (11, 12))\n",
    "\n",
    "ax[0].invert_yaxis()\n",
    "ax[0].barh(y=genres2.index,\n",
    "       width=genres2,\n",
    "       color='orange')\n",
    "ax[0].set_title(\"\"\"Popular Genres w/ IMDb Users, 2015-2019 only \n",
    "(Movies with >100,000 User Ratings)\"\"\")\n",
    "ax[0].set_xlabel(\"# of Movies with 100,000 or more Votes\")\n",
    "ax[0].set_ylabel(\"Genre\")\n",
    "\n",
    "ax[1].invert_yaxis()\n",
    "ax[1].barh(y=top_genres.index,\n",
    "       width=top_genres,\n",
    "       color='purple',)\n",
    "ax[1].set_title(\"\"\"Popular Genres w/ IMDb Users, 2010-2019\n",
    "(Movies with >100,000 User Ratings)\"\"\")\n",
    "ax[1].set_xlabel(\"# of Movies with 100,000 or more Votes\")\n",
    "ax[1].set_ylabel(\"Genre\")\n",
    "genres_fig2.tight_layout(pad=3.0)\n",
    "genres_fig2.savefig('../../images/Popular Genres with IMDb Users.jpg',\n",
    "            transparent=False,bbox_inches=\"tight\");"
   ]
  },
  {
   "cell_type": "markdown",
   "metadata": {},
   "source": [
    "These graphs are pretty comparable, both in their shapes and in their distributions of genres. We can observe an uptick in the popularity of `Sci-Fi` in the latter half of the 2010s, slightly eclipsing the popularity of `Thriller` movies (`Thriller` drops to 8<sup>th</sup> place, below `Crime` and `Fantasy`). The differences between the graphs are not profound or significant, but we can definitely comment on the increased profile of `Sci-Fi` films in the last five years' of data."
   ]
  },
  {
   "cell_type": "markdown",
   "metadata": {},
   "source": [
    "# Working code -- currently not intended for use in final notebook"
   ]
  },
  {
   "cell_type": "code",
   "execution_count": 19,
   "metadata": {},
   "outputs": [],
   "source": [
    "# Trying to figure out what to do with directors\n",
    "# and persons\n",
    "pd.read_sql(\"\"\"\n",
    "    SELECT\n",
    "        prsn.primary_name AS \"Name\",\n",
    "        COUNT() AS \"Number of Movies\"\n",
    "    FROM\n",
    "        persons AS prsn\n",
    "        JOIN directors AS drs\n",
    "            on prsn.person_id = drs.person_id\n",
    "    GROUP BY\n",
    "        \"Name\"\n",
    "    ORDER BY\n",
    "        \"Number of Movies\" DESC\n",
    "    LIMIT 200\n",
    "\"\"\",con);"
   ]
  }
 ],
 "metadata": {
  "kernelspec": {
   "display_name": "Python (learn-env)",
   "language": "python",
   "name": "learn-env"
  },
  "language_info": {
   "codemirror_mode": {
    "name": "ipython",
    "version": 3
   },
   "file_extension": ".py",
   "mimetype": "text/x-python",
   "name": "python",
   "nbconvert_exporter": "python",
   "pygments_lexer": "ipython3",
   "version": "3.8.5"
  }
 },
 "nbformat": 4,
 "nbformat_minor": 4
}
