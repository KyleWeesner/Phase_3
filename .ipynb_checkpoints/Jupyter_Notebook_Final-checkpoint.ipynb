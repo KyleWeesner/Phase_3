{
 "cells": [
  {
   "cell_type": "markdown",
   "metadata": {},
   "source": [
    "# Creating a master revenue dataset"
   ]
  },
  {
   "cell_type": "markdown",
   "metadata": {},
   "source": [
    "## Working with dataset from 'The-Numbers.com'"
   ]
  },
  {
   "cell_type": "code",
   "execution_count": 1,
   "metadata": {},
   "outputs": [],
   "source": [
    "import pandas as pd\n",
    "import numpy as np\n",
    "import matplotlib.pyplot as plt\n",
    "import zipfile \n",
    "import sqlite3\n",
    "%matplotlib inline\n",
    "import seaborn as sns\n",
    "from matplotlib import ticker\n",
    "\n",
    "import matplotlib.dates as mdates\n",
    "\n",
    "year_cutoff = 2012"
   ]
  },
  {
   "cell_type": "code",
   "execution_count": null,
   "metadata": {},
   "outputs": [],
   "source": [
    "#Load 'The Numbers' dataset\n",
    "tn_df = pd.read_csv('../../data/tn.movie_budgets.csv.gz')\n",
    "tn_df.info()"
   ]
  },
  {
   "cell_type": "markdown",
   "metadata": {},
   "source": [
    "The dataset has no null values and includes columns for production_budget, domestic_gross and worldwide_gross however, they are all strings. First lets confirm that all numbers are dealing in the same currency ('$')"
   ]
  },
  {
   "cell_type": "code",
   "execution_count": null,
   "metadata": {},
   "outputs": [],
   "source": [
    "print(\"Is the production budget in dollars for all records?: \",tn_df['worldwide_gross'].str.startswith('$').sum() == len(tn_df))\n",
    "print(\"Is the domestic gross in dollars for all records?: \",tn_df['domestic_gross'].str.startswith('$').sum() == len(tn_df))\n",
    "print(\"Is the worldwide gross in dollars for all records?: \",tn_df['worldwide_gross'].str.startswith('$').sum() == len(tn_df))"
   ]
  },
  {
   "cell_type": "markdown",
   "metadata": {},
   "source": [
    "It looks all the business related data is in dollars. We can safely convert all the numbers without having to do any currency conversions. To ensure we don't lose track, a currency column is created to include the \"$\" symbol and all numbers are then proceeded to be converted to numbers"
   ]
  },
  {
   "cell_type": "code",
   "execution_count": null,
   "metadata": {},
   "outputs": [],
   "source": [
    "#Converting production buget, domestic gross, worldwide gross to numbers, Add currency unit column as a reminder \n",
    "#numbers are in $\n",
    "tn_df['currency'] = '$'\n",
    "tn_df['production_budget'] = tn_df['production_budget'].str.replace(',','').str.replace('$','').astype(int)\n",
    "tn_df['domestic_gross'] = tn_df['domestic_gross'].str.replace(',','').str.replace('$','').astype(int)\n",
    "tn_df['worldwide_gross'] = tn_df['worldwide_gross'].str.replace(',','').str.replace('$','').astype('int64')"
   ]
  },
  {
   "cell_type": "markdown",
   "metadata": {},
   "source": [
    "Using these we can calculate the net revenue a movie generated"
   ]
  },
  {
   "cell_type": "markdown",
   "metadata": {},
   "source": [
    "Note: Worldwide gross constitutes domestic gross. Therefore Foreign Gross = World Wide Gross - Domestic Gross"
   ]
  },
  {
   "cell_type": "code",
   "execution_count": null,
   "metadata": {},
   "outputs": [],
   "source": [
    "#Adding net revenue column and a foreign gross column\n",
    "tn_df['foreign_gross'] = tn_df['worldwide_gross'] - tn_df['domestic_gross']\n",
    "tn_df['net_revenue'] = tn_df['worldwide_gross'] - tn_df['production_budget']"
   ]
  },
  {
   "cell_type": "markdown",
   "metadata": {},
   "source": [
    "Converting release_date to date time and appending month and year columns"
   ]
  },
  {
   "cell_type": "code",
   "execution_count": null,
   "metadata": {},
   "outputs": [],
   "source": [
    "tn_df['release_date'] = pd.to_datetime(tn_df['release_date'])\n",
    "tn_df['release_year'] = tn_df['release_date'].dt.year\n",
    "tn_df['release_month'] = tn_df['release_date'].dt.month"
   ]
  },
  {
   "cell_type": "markdown",
   "metadata": {},
   "source": [
    "## Creating a unique key to allow cross referencing our different datasets"
   ]
  },
  {
   "cell_type": "markdown",
   "metadata": {},
   "source": [
    "Multiple movies have the same title. Having a unique key that we can employ accross our datasets is (pardon the pun) key. We will use this key to join/merge/search against. This will be a string comprising the movie title and the release year."
   ]
  },
  {
   "cell_type": "code",
   "execution_count": null,
   "metadata": {},
   "outputs": [],
   "source": [
    "tn_df['key_ID'] = tn_df['movie'] + \" (\"+ tn_df['release_date'].dt.year.astype(str)+\")\""
   ]
  },
  {
   "cell_type": "markdown",
   "metadata": {},
   "source": [
    "Limiting data to post Insert cut off year or essentially last 10 years worth of data. This will help us to emphasize more recent trends. For te purpose of visualization we will be using world wide earnings. Dropping records with no world wide earnings data"
   ]
  },
  {
   "cell_type": "code",
   "execution_count": null,
   "metadata": {},
   "outputs": [],
   "source": [
    "# Paring down the dataset by a cutoff year to ascertain more recent trends focusing on worldwide revenue\n",
    "reduced_df = tn_df[tn_df['release_year']>=year_cutoff]\n",
    "reduced_df_worldwide = reduced_df.drop(reduced_df[reduced_df['worldwide_gross']==0].index)"
   ]
  },
  {
   "cell_type": "markdown",
   "metadata": {},
   "source": [
    "# Why should Microsoft get into movies?"
   ]
  },
  {
   "cell_type": "markdown",
   "metadata": {},
   "source": [
    "Aside from owning IPs that lend itself to making good visual content, we can ascertain whether there is a business reason to get into movie making.Lets look at gross and net revenue performance of the box office by the year for the last 20 years"
   ]
  },
  {
   "cell_type": "code",
   "execution_count": null,
   "metadata": {},
   "outputs": [],
   "source": [
    "# Trend data for gross and net revenue across a time spread\n",
    "trend_viz_df = tn_df[(tn_df['worldwide_gross']!=0)&(tn_df['net_revenue']!=0)] #remove entries with 0 for revenue and gross\n",
    "trend_viz_df = trend_viz_df[(trend_viz_df['release_year']>=2000) & (trend_viz_df['release_year']<=2018)] #limit table release years\n",
    "trend_viz_df = trend_viz_df.groupby('release_year').mean().reset_index() #get mean gross and revenue for each year"
   ]
  },
  {
   "cell_type": "code",
   "execution_count": null,
   "metadata": {},
   "outputs": [],
   "source": [
    "fig, ax = plt.subplots(figsize=(10,8))\n",
    "\n",
    "ax.plot(list(trend_viz_df['release_year']), list(trend_viz_df['worldwide_gross']))\n",
    "ax.plot(list(trend_viz_df['release_year']), list(trend_viz_df['net_revenue']))\n",
    "\n",
    "ax.set_xlabel('Time')\n",
    "ax.set_xticks(np.arange(2000,2020,2))\n",
    "ax.get_yaxis().set_major_formatter(ticker.StrMethodFormatter('{x:,}$'))\n",
    "\n",
    "ax.set_title('Avg annual performance of the movies at the box office (post 2000)')\n",
    "ax.legend(['Worldwide Gross','Net Revenue'])\n",
    "ax.grid(c='k',ls= '-.',alpha = 0.2);"
   ]
  },
  {
   "cell_type": "markdown",
   "metadata": {},
   "source": [
    "## Best Release time of the year"
   ]
  },
  {
   "cell_type": "markdown",
   "metadata": {},
   "source": [
    "Using the revenue data we can try to ascertain the best release windows for movies. From the last 10 years, we can see major revenue being generated during the summer season (May, June, July) and again during holiday season"
   ]
  },
  {
   "cell_type": "code",
   "execution_count": null,
   "metadata": {},
   "outputs": [],
   "source": [
    "#Plot avg performance at the box office\n",
    "\n",
    "fig,ax = plt.subplots(figsize = (15,8))\n",
    "\n",
    "df = reduced_df_worldwide.groupby('release_month').mean()\n",
    "\n",
    "#Graphs for mean gross/net revenue by the month\n",
    "x = df['worldwide_gross'].index\n",
    "w = 0.4\n",
    "\n",
    "ax.set_title(f'Performance by month of Release post {year_cutoff}')\n",
    "\n",
    "ax.bar(x-w/2, df['worldwide_gross'], w,color = 'teal')\n",
    "ax.bar(x+w/2, df['net_revenue'], w,color = 'limegreen')\n",
    "\n",
    "ax.set_xticks(np.arange(1,13,step=1))\n",
    "ax.set_xlabel('Month of Release')\n",
    "\n",
    "ax.get_yaxis().set_major_formatter(ticker.StrMethodFormatter('{x:,}$'))\n",
    "ax.legend(['Gross Revenue', 'Net Revenue'])\n",
    "ax.grid(c='k',ls= '-.',alpha = 0.2);"
   ]
  },
  {
   "cell_type": "code",
   "execution_count": null,
   "metadata": {},
   "outputs": [],
   "source": []
  },
  {
   "cell_type": "code",
   "execution_count": null,
   "metadata": {},
   "outputs": [],
   "source": []
  },
  {
   "cell_type": "markdown",
   "metadata": {},
   "source": [
    "# Rotten_Tomatoes_dataset.ipynb"
   ]
  },
  {
   "cell_type": "code",
   "execution_count": null,
   "metadata": {},
   "outputs": [],
   "source": [
    "#Load review info from Rotten Tomatoes\n",
    "rt_review_df = pd.read_csv('../../data/rt.reviews.tsv.gz',delimiter='\\t',encoding = 'unicode_escape')\n",
    "rt_review_df['publisher'].fillna('N/A',inplace = True)\n",
    "\n",
    "# Don't need written review. Date in this instance is review date and irrelevant\n",
    "rt_review_df.drop(columns = ['review','date'], inplace = True)\n",
    "rt_review_df['fresh_flag'] = (rt_review_df['fresh']=='fresh')\n",
    "\n",
    "rt_review_df\n",
    "rt_review_df.info()"
   ]
  },
  {
   "cell_type": "markdown",
   "metadata": {},
   "source": [
    "ID in this table is a unique movie identifier across rotten tomato datasets."
   ]
  },
  {
   "cell_type": "markdown",
   "metadata": {},
   "source": [
    "A movie can have multiple reviews. Therefore, we can get the 'Fresh' rating across all review and across all 'top critics' for every ID"
   ]
  },
  {
   "cell_type": "code",
   "execution_count": null,
   "metadata": {},
   "outputs": [],
   "source": [
    "#Paring the data down to only the 'top critics'\n",
    "#This returns a series of tomato ratings as rated by top critics. Index by id\n",
    "top_critic_reviews_sr = rt_review_df[rt_review_df['top_critic']==1].groupby('id').mean()['fresh_flag']"
   ]
  },
  {
   "cell_type": "code",
   "execution_count": null,
   "metadata": {},
   "outputs": [],
   "source": [
    "#This returns a series of tomato ratings as rated by all critics. Index by id\n",
    "all_reviews_sr = rt_review_df.groupby('id').mean()['fresh_flag']"
   ]
  },
  {
   "cell_type": "code",
   "execution_count": null,
   "metadata": {},
   "outputs": [],
   "source": [
    "#Load movie info from Rotten Tomatoes\n",
    "rt_movie_df = pd.read_csv('../../data/rt.movie_info.tsv.gz',delimiter = '\\t')\n",
    "\n",
    "# NOTE: No movie title provided in dataset. And unique identifier 'id' cannot be matched\n",
    "# to another db.\n",
    "\n",
    "#Create list of genres for each record\n",
    "rt_movie_df['genre list'] = rt_movie_df['genre'].str.split('|')\n",
    "\n",
    "# Convert runtime to numerical data\n",
    "rt_movie_df['runtime_in_min'] = rt_movie_df['runtime'].map(lambda x: int(x[:-8]) if x is not np.nan else np.nan)\n",
    "\n",
    "# Converting theater date to datetime object and creating year column\n",
    "rt_movie_df['theater_date'] = pd.to_datetime(rt_movie_df['theater_date'])\n",
    "rt_movie_df['year'] = rt_movie_df['theater_date'].dt.year\n",
    "\n",
    "#'currency' and 'box_office' columns are about 4/5 empty. Dropping these columns. \n",
    "# Other datasets are morecomplete and this data can be gathered from there instead \n",
    "# Dropping synopsis and studio as well\n",
    "rt_movie_df.drop(columns = ['synopsis','currency','box_office','studio','runtime'],inplace=True)"
   ]
  },
  {
   "cell_type": "code",
   "execution_count": null,
   "metadata": {},
   "outputs": [],
   "source": [
    "rt_movie_df.info()"
   ]
  },
  {
   "cell_type": "markdown",
   "metadata": {},
   "source": [
    "Having calculated the 'Fresh' meter for each movie already we can create a column for each and add it to this master table"
   ]
  },
  {
   "cell_type": "code",
   "execution_count": null,
   "metadata": {},
   "outputs": [],
   "source": [
    "rt_movie_df['overall_tomato_rating'] = rt_movie_df['id'].map(lambda x: all_reviews_sr[x] if x in all_reviews_sr else np.nan)\n",
    "rt_movie_df['top_critic_tomato_rating'] = rt_movie_df['id'].map(lambda x: top_critic_reviews_sr[x] if x in top_critic_reviews_sr else np.nan)"
   ]
  },
  {
   "cell_type": "markdown",
   "metadata": {},
   "source": [
    "## Genre Performance"
   ]
  },
  {
   "cell_type": "markdown",
   "metadata": {},
   "source": [
    "Drop every record with a na in genre Create a boolean matrix for all different genres Drop unneccessary columns"
   ]
  },
  {
   "cell_type": "code",
   "execution_count": null,
   "metadata": {},
   "outputs": [],
   "source": [
    "unique_genre_list = []\n",
    "for genres in rt_movie_df['genre list'].dropna().tolist():\n",
    "    for genre in genres:\n",
    "        unique_genre_list.append(genre)\n",
    "unique_genre_list =list(set(unique_genre_list))"
   ]
  },
  {
   "cell_type": "code",
   "execution_count": null,
   "metadata": {},
   "outputs": [],
   "source": [
    "rt_movie_genre_df = rt_movie_df[rt_movie_df['genre list'].notna()]\n",
    "\n",
    "\n",
    "for genre in unique_genre_list:\n",
    "    rt_movie_genre_df[genre] = rt_movie_genre_df['genre list'].map(lambda x: True if genre in x else False)"
   ]
  },
  {
   "cell_type": "markdown",
   "metadata": {},
   "source": [
    "See the caveats in the documentation: https://pandas.pydata.org/pandas-docs/stable/user_guide/indexing.html#returning-a-view-versus-a-copy\n",
    "  rt_movie_genre_df[genre] = rt_movie_genre_df['genre list'].map(lambda x: True if genre in x else False)"
   ]
  },
  {
   "cell_type": "code",
   "execution_count": 4,
   "metadata": {},
   "outputs": [],
   "source": [
    "#IGNORE\n",
    "\n",
    "#to get 10 most review movies\n",
    "# rt_movie_genre_temp = rt_movie_genre_df.drop(columns = ['id','genre','director','writer', \n",
    "#                                                         'theater_date','dvd_date','runtime_in_min'])\n",
    "# genre_fresh_rating_map = {} \n",
    "# for genre in unique_genre_list:\n",
    "#     genre_fresh_rating_map[genre] = rt_movie_genre_temp[rt_movie_genre_temp[genre]==True].dropna().mean()['overall_tomato_rating']\n",
    "\n",
    "# genre_fresh_rating_map = {k: v for k, v in sorted(genre_fresh_rating_map.items(), key=lambda item: item[1], reverse=True)}"
   ]
  },
  {
   "cell_type": "code",
   "execution_count": null,
   "metadata": {},
   "outputs": [],
   "source": [
    "# Get top 10 most released genres\n",
    "rt_movie_genre_temp = rt_movie_genre_df[rt_movie_genre_df['year']>year_cutoff].drop(\n",
    "    columns = ['rating','genre list','year','overall_tomato_rating','top_critic_tomato_rating',\n",
    "               'id','genre','dvd_date','runtime_in_min'])\n",
    "top_15_genres = list(rt_movie_genre_temp.sum().sort_values(ascending=False)[:15].index)"
   ]
  },
  {
   "cell_type": "code",
   "execution_count": null,
   "metadata": {},
   "outputs": [],
   "source": [
    "rt_movie_genre_temp.sum().sort_values(ascending=False)[:15]"
   ]
  },
  {
   "cell_type": "code",
   "execution_count": null,
   "metadata": {},
   "outputs": [],
   "source": [
    "viz_data =[]\n",
    "for genre in top_15_genres:\n",
    "    grouped_df = rt_movie_genre_df[rt_movie_genre_df['year']>year_cutoff].groupby(genre).mean()\n",
    "    viz_data.append([genre,grouped_df['overall_tomato_rating'][1],grouped_df['top_critic_tomato_rating'][1]]) \n",
    "viz_data.sort(key = lambda x: x[1],reverse = True)"
   ]
  },
  {
   "cell_type": "code",
   "execution_count": null,
   "metadata": {},
   "outputs": [],
   "source": [
    "# Visualization\n",
    "viz_labels = [v[0] for v in viz_data]\n",
    "viz_all_ratings = [v[1] for v in viz_data]\n",
    "viz_top_ratings = [v[2] for v in viz_data]\n",
    "\n",
    "x = np.arange(len(viz_labels))\n",
    "w = 0.6\n",
    "\n",
    "fig, ax = plt.subplots(figsize=(20,10))\n",
    "\n",
    "\n",
    "ax.grid()\n",
    "ax.bar(x-w/2, viz_all_ratings, w)\n",
    "ax.bar(x+w/4, viz_top_ratings, w/2)     \n",
    "ax.set_xticks(x)  \n",
    "ax.set_xticklabels(labels=viz_labels,rotation = 45,horizontalalignment = 'right')\n",
    "ax.set_yticks(np.arange(0, 1, step=0.05))\n",
    "ax.set_title(f'Critical Reception of various genres (post {year_cutoff}) per Rotten Tomato')\n",
    "ax.set_xlabel('Genre')\n",
    "ax.set_ylabel('Avg % Fresh')\n",
    "ax.legend(['Overall Tomator Rating', 'Top Critic Tomato Rating']);"
   ]
  },
  {
   "cell_type": "code",
   "execution_count": null,
   "metadata": {},
   "outputs": [],
   "source": []
  }
 ],
 "metadata": {
  "kernelspec": {
   "display_name": "Python (learn-env)",
   "language": "python",
   "name": "learn-env"
  },
  "language_info": {
   "codemirror_mode": {
    "name": "ipython",
    "version": 3
   },
   "file_extension": ".py",
   "mimetype": "text/x-python",
   "name": "python",
   "nbconvert_exporter": "python",
   "pygments_lexer": "ipython3",
   "version": "3.8.5"
  }
 },
 "nbformat": 4,
 "nbformat_minor": 4
}
