{
 "cells": [
  {
   "cell_type": "markdown",
   "metadata": {},
   "source": [
    "# Jupyter_Notebook_Final_Draft"
   ]
  },
  {
   "cell_type": "markdown",
   "metadata": {},
   "source": [
    "### Outline"
   ]
  },
  {
   "cell_type": "markdown",
   "metadata": {},
   "source": [
    "- Workign with dataset from TheNumbers\n",
    "- Rotten Tomatoes Data Set\n",
    "- Understanding The IMBD Data Set\n",
    "- Exploring Microsofts IPs within the Gaming Industry"
   ]
  },
  {
   "cell_type": "markdown",
   "metadata": {},
   "source": [
    "Imported All Libraries Used"
   ]
  },
  {
   "cell_type": "code",
   "execution_count": 1,
   "metadata": {},
   "outputs": [],
   "source": [
    "import pandas as pd\n",
    "import numpy as np\n",
    "import matplotlib.pyplot as plt\n",
    "import zipfile \n",
    "import sqlite3\n",
    "%matplotlib inline\n",
    "import seaborn as sns\n",
    "from matplotlib import ticker\n",
    "import matplotlib.dates as mdates\n",
    "import requests\n",
    "from bs4 import BeautifulSoup\n",
    "import warnings\n",
    "warnings.filterwarnings(\"ignore\")\n",
    "year_cutoff = 2012"
   ]
  },
  {
   "cell_type": "markdown",
   "metadata": {},
   "source": [
    "# Creating a master revenue dataset"
   ]
  },
  {
   "cell_type": "markdown",
   "metadata": {},
   "source": [
    "## Working with dataset from 'The-Numbers.com'"
   ]
  },
  {
   "cell_type": "code",
   "execution_count": 2,
   "metadata": {},
   "outputs": [
    {
     "name": "stdout",
     "output_type": "stream",
     "text": [
      "<class 'pandas.core.frame.DataFrame'>\n",
      "RangeIndex: 5782 entries, 0 to 5781\n",
      "Data columns (total 6 columns):\n",
      " #   Column             Non-Null Count  Dtype \n",
      "---  ------             --------------  ----- \n",
      " 0   id                 5782 non-null   int64 \n",
      " 1   release_date       5782 non-null   object\n",
      " 2   movie              5782 non-null   object\n",
      " 3   production_budget  5782 non-null   object\n",
      " 4   domestic_gross     5782 non-null   object\n",
      " 5   worldwide_gross    5782 non-null   object\n",
      "dtypes: int64(1), object(5)\n",
      "memory usage: 271.2+ KB\n"
     ]
    }
   ],
   "source": [
    "#Load 'The Numbers' dataset\n",
    "tn_df = pd.read_csv('./data/tn.movie_budgets.csv.gz')\n",
    "tn_df.info()"
   ]
  },
  {
   "cell_type": "markdown",
   "metadata": {},
   "source": [
    "The dataset has no null values and includes columns for production_budget, domestic_gross and worldwide_gross however, they are all strings. First lets confirm that all numbers are dealing in the same currency ('$')"
   ]
  },
  {
   "cell_type": "code",
   "execution_count": 3,
   "metadata": {},
   "outputs": [
    {
     "name": "stdout",
     "output_type": "stream",
     "text": [
      "Is the production budget in dollars for all records?:  True\n",
      "Is the domestic gross in dollars for all records?:  True\n",
      "Is the worldwide gross in dollars for all records?:  True\n"
     ]
    }
   ],
   "source": [
    "print(\"Is the production budget in dollars for all records?: \",tn_df['worldwide_gross'].str.startswith('$').sum() == len(tn_df))\n",
    "print(\"Is the domestic gross in dollars for all records?: \",tn_df['domestic_gross'].str.startswith('$').sum() == len(tn_df))\n",
    "print(\"Is the worldwide gross in dollars for all records?: \",tn_df['worldwide_gross'].str.startswith('$').sum() == len(tn_df))"
   ]
  },
  {
   "cell_type": "markdown",
   "metadata": {},
   "source": [
    "It looks all the business related data is in dollars. We can safely convert all the numbers without having to do any currency conversions. To ensure we don't lose track, a currency column is created to include the \"$\" symbol and all numbers are then proceeded to be converted to numbers"
   ]
  },
  {
   "cell_type": "code",
   "execution_count": 4,
   "metadata": {},
   "outputs": [],
   "source": [
    "#Converting production buget, domestic gross, worldwide gross to numbers, Add currency unit column as a reminder \n",
    "#numbers are in $\n",
    "tn_df['currency'] = '$'\n",
    "tn_df['production_budget'] = tn_df['production_budget'].str.replace(',','').str.replace('$','').astype(int)\n",
    "tn_df['domestic_gross'] = tn_df['domestic_gross'].str.replace(',','').str.replace('$','').astype(int)\n",
    "tn_df['worldwide_gross'] = tn_df['worldwide_gross'].str.replace(',','').str.replace('$','').astype('int64')"
   ]
  },
  {
   "cell_type": "markdown",
   "metadata": {},
   "source": [
    "Using these we can calculate the net revenue a movie generated"
   ]
  },
  {
   "cell_type": "markdown",
   "metadata": {},
   "source": [
    "Note: Worldwide gross constitutes domestic gross. Therefore Foreign Gross = World Wide Gross - Domestic Gross"
   ]
  },
  {
   "cell_type": "code",
   "execution_count": 5,
   "metadata": {},
   "outputs": [],
   "source": [
    "#Adding net revenue column and a foreign gross column\n",
    "tn_df['foreign_gross'] = tn_df['worldwide_gross'] - tn_df['domestic_gross']\n",
    "tn_df['net_revenue'] = tn_df['worldwide_gross'] - tn_df['production_budget']"
   ]
  },
  {
   "cell_type": "markdown",
   "metadata": {},
   "source": [
    "Converting release_date to date time and appending month and year columns"
   ]
  },
  {
   "cell_type": "code",
   "execution_count": 6,
   "metadata": {},
   "outputs": [],
   "source": [
    "tn_df['release_date'] = pd.to_datetime(tn_df['release_date'])\n",
    "tn_df['release_year'] = tn_df['release_date'].dt.year\n",
    "tn_df['release_month'] = tn_df['release_date'].dt.month"
   ]
  },
  {
   "cell_type": "markdown",
   "metadata": {},
   "source": [
    "## Creating a unique key to allow cross referencing our different datasets"
   ]
  },
  {
   "cell_type": "markdown",
   "metadata": {},
   "source": [
    "Multiple movies have the same title. Having a unique key that we can employ accross our datasets is (pardon the pun) key. We will use this key to join/merge/search against. This will be a string comprising the movie title and the release year."
   ]
  },
  {
   "cell_type": "code",
   "execution_count": 7,
   "metadata": {},
   "outputs": [],
   "source": [
    "tn_df['key_ID'] = tn_df['movie'] + \" (\"+ tn_df['release_date'].dt.year.astype(str)+\")\""
   ]
  },
  {
   "cell_type": "markdown",
   "metadata": {},
   "source": [
    "Limiting data to post Insert cut off year or essentially last 10 years worth of data. This will help us to emphasize more recent trends. For te purpose of visualization we will be using world wide earnings. Dropping records with no world wide earnings data"
   ]
  },
  {
   "cell_type": "code",
   "execution_count": 8,
   "metadata": {},
   "outputs": [],
   "source": [
    "# Paring down the dataset by a cutoff year to ascertain more recent trends focusing on worldwide revenue\n",
    "reduced_df = tn_df[tn_df['release_year']>=year_cutoff]\n",
    "reduced_df_worldwide = reduced_df.drop(reduced_df[reduced_df['worldwide_gross']==0].index)"
   ]
  },
  {
   "cell_type": "markdown",
   "metadata": {},
   "source": [
    "## Why should Microsoft get into movies?"
   ]
  },
  {
   "cell_type": "markdown",
   "metadata": {},
   "source": [
    "Aside from owning IPs that lend itself to making good visual content, we can ascertain whether there is a business reason to get into movie making.Lets look at gross and net revenue performance of the box office by the year for the last 20 years"
   ]
  },
  {
   "cell_type": "code",
   "execution_count": 9,
   "metadata": {},
   "outputs": [],
   "source": [
    "# Trend data for gross and net revenue across a time spread\n",
    "trend_viz_df = tn_df[(tn_df['worldwide_gross']!=0)&(tn_df['net_revenue']!=0)] #remove entries with 0 for revenue and gross\n",
    "trend_viz_df = trend_viz_df[(trend_viz_df['release_year']>=2000) & (trend_viz_df['release_year']<=2018)] #limit table release years\n",
    "trend_viz_df = trend_viz_df.groupby('release_year').mean().reset_index() #get mean gross and revenue for each year"
   ]
  },
  {
   "cell_type": "code",
   "execution_count": 10,
   "metadata": {},
   "outputs": [
    {
     "data": {
      "image/png": "[encoded data removed]",
      "text/plain": [
       "<Figure size 720x576 with 1 Axes>"
      ]
     },
     "metadata": {
      "needs_background": "light"
     },
     "output_type": "display_data"
    }
   ],
   "source": [
    "fig, ax = plt.subplots(figsize=(10,8))\n",
    "\n",
    "ax.plot(list(trend_viz_df['release_year']), list(trend_viz_df['worldwide_gross']))\n",
    "ax.plot(list(trend_viz_df['release_year']), list(trend_viz_df['net_revenue']))\n",
    "\n",
    "ax.set_xlabel('Time')\n",
    "ax.set_xticks(np.arange(2000,2020,2))\n",
    "ax.get_yaxis().set_major_formatter(ticker.StrMethodFormatter('{x:,}$'))\n",
    "\n",
    "ax.set_title('Avg annual performance of the movies at the box office (post 2000)')\n",
    "ax.legend(['Worldwide Gross','Net Revenue'])\n",
    "ax.grid(c='k',ls= '-.',alpha = 0.2);"
   ]
  },
  {
   "cell_type": "markdown",
   "metadata": {},
   "source": [
    "## Best Release time of the year"
   ]
  },
  {
   "cell_type": "markdown",
   "metadata": {},
   "source": [
    "Using the revenue data we can try to ascertain the best release windows for movies. From the last 10 years, we can see major revenue being generated during the summer season (May, June, July) and again during holiday season"
   ]
  },
  {
   "cell_type": "code",
   "execution_count": 11,
   "metadata": {},
   "outputs": [
    {
     "data": {
      "image/png": "[encoded data removed]",
      "text/plain": [
       "<Figure size 1080x576 with 1 Axes>"
      ]
     },
     "metadata": {
      "needs_background": "light"
     },
     "output_type": "display_data"
    }
   ],
   "source": [
    "#Plot avg performance at the box office\n",
    "\n",
    "fig,ax = plt.subplots(figsize = (15,8))\n",
    "\n",
    "df = reduced_df_worldwide.groupby('release_month').mean()\n",
    "\n",
    "#Graphs for mean gross/net revenue by the month\n",
    "x = df['worldwide_gross'].index\n",
    "w = 0.4\n",
    "\n",
    "ax.set_title(f'Performance by month of Release post {year_cutoff}')\n",
    "\n",
    "ax.bar(x-w/2, df['worldwide_gross'], w,color = 'teal')\n",
    "ax.bar(x+w/2, df['net_revenue'], w,color = 'limegreen')\n",
    "\n",
    "ax.set_xticks(np.arange(1,13,step=1))\n",
    "ax.set_xlabel('Month of Release')\n",
    "\n",
    "ax.get_yaxis().set_major_formatter(ticker.StrMethodFormatter('{x:,}$'))\n",
    "ax.legend(['Gross Revenue', 'Net Revenue'])\n",
    "ax.grid(c='k',ls= '-.',alpha = 0.2);"
   ]
  },
  {
   "cell_type": "markdown",
   "metadata": {},
   "source": [
    "."
   ]
  },
  {
   "cell_type": "markdown",
   "metadata": {},
   "source": [
    "."
   ]
  },
  {
   "cell_type": "markdown",
   "metadata": {},
   "source": [
    "."
   ]
  },
  {
   "cell_type": "markdown",
   "metadata": {},
   "source": [
    "# Rotten_Tomatoes_dataset"
   ]
  },
  {
   "cell_type": "code",
   "execution_count": 12,
   "metadata": {},
   "outputs": [
    {
     "name": "stdout",
     "output_type": "stream",
     "text": [
      "<class 'pandas.core.frame.DataFrame'>\n",
      "RangeIndex: 54432 entries, 0 to 54431\n",
      "Data columns (total 7 columns):\n",
      " #   Column      Non-Null Count  Dtype \n",
      "---  ------      --------------  ----- \n",
      " 0   id          54432 non-null  int64 \n",
      " 1   rating      40915 non-null  object\n",
      " 2   fresh       54432 non-null  object\n",
      " 3   critic      51710 non-null  object\n",
      " 4   top_critic  54432 non-null  int64 \n",
      " 5   publisher   54432 non-null  object\n",
      " 6   fresh_flag  54432 non-null  bool  \n",
      "dtypes: bool(1), int64(2), object(4)\n",
      "memory usage: 2.5+ MB\n"
     ]
    }
   ],
   "source": [
    "#Load review info from Rotten Tomatoes\n",
    "rt_review_df = pd.read_csv('./data/rt.reviews.tsv.gz',delimiter='\\t',encoding = 'unicode_escape')\n",
    "rt_review_df['publisher'].fillna('N/A',inplace = True)\n",
    "\n",
    "# Don't need written review. Date in this instance is review date and irrelevant\n",
    "rt_review_df.drop(columns = ['review','date'], inplace = True)\n",
    "rt_review_df['fresh_flag'] = (rt_review_df['fresh']=='fresh')\n",
    "\n",
    "rt_review_df\n",
    "rt_review_df.info()"
   ]
  },
  {
   "cell_type": "markdown",
   "metadata": {},
   "source": [
    "ID in this table is a unique movie identifier across rotten tomato datasets."
   ]
  },
  {
   "cell_type": "markdown",
   "metadata": {},
   "source": [
    "A movie can have multiple reviews. Therefore, we can get the 'Fresh' rating across all review and across all 'top critics' for every ID"
   ]
  },
  {
   "cell_type": "code",
   "execution_count": 13,
   "metadata": {},
   "outputs": [],
   "source": [
    "#Paring the data down to only the 'top critics'\n",
    "#This returns a series of tomato ratings as rated by top critics. Index by id\n",
    "top_critic_reviews_sr = rt_review_df[rt_review_df['top_critic']==1].groupby('id').mean()['fresh_flag']"
   ]
  },
  {
   "cell_type": "code",
   "execution_count": 14,
   "metadata": {},
   "outputs": [],
   "source": [
    "#This returns a series of tomato ratings as rated by all critics. Index by id\n",
    "all_reviews_sr = rt_review_df.groupby('id').mean()['fresh_flag']"
   ]
  },
  {
   "cell_type": "code",
   "execution_count": 15,
   "metadata": {},
   "outputs": [],
   "source": [
    "#Load movie info from Rotten Tomatoes\n",
    "rt_movie_df = pd.read_csv('./data/rt.movie_info.tsv.gz',delimiter = '\\t')\n",
    "\n",
    "# NOTE: No movie title provided in dataset. And unique identifier 'id' cannot be matched\n",
    "# to another db.\n",
    "\n",
    "#Create list of genres for each record\n",
    "rt_movie_df['genre list'] = rt_movie_df['genre'].str.split('|')\n",
    "\n",
    "# Convert runtime to numerical data\n",
    "rt_movie_df['runtime_in_min'] = rt_movie_df['runtime'].map(lambda x: int(x[:-8]) if x is not np.nan else np.nan)\n",
    "\n",
    "# Converting theater date to datetime object and creating year column\n",
    "rt_movie_df['theater_date'] = pd.to_datetime(rt_movie_df['theater_date'])\n",
    "rt_movie_df['year'] = rt_movie_df['theater_date'].dt.year\n",
    "\n",
    "#'currency' and 'box_office' columns are about 4/5 empty. Dropping these columns. \n",
    "# Other datasets are morecomplete and this data can be gathered from there instead \n",
    "# Dropping synopsis and studio as well\n",
    "rt_movie_df.drop(columns = ['synopsis','currency','box_office','studio','runtime'],inplace=True)"
   ]
  },
  {
   "cell_type": "code",
   "execution_count": 16,
   "metadata": {},
   "outputs": [
    {
     "name": "stdout",
     "output_type": "stream",
     "text": [
      "<class 'pandas.core.frame.DataFrame'>\n",
      "RangeIndex: 1560 entries, 0 to 1559\n",
      "Data columns (total 10 columns):\n",
      " #   Column          Non-Null Count  Dtype         \n",
      "---  ------          --------------  -----         \n",
      " 0   id              1560 non-null   int64         \n",
      " 1   rating          1557 non-null   object        \n",
      " 2   genre           1552 non-null   object        \n",
      " 3   director        1361 non-null   object        \n",
      " 4   writer          1111 non-null   object        \n",
      " 5   theater_date    1201 non-null   datetime64[ns]\n",
      " 6   dvd_date        1201 non-null   object        \n",
      " 7   genre list      1552 non-null   object        \n",
      " 8   runtime_in_min  1530 non-null   float64       \n",
      " 9   year            1201 non-null   float64       \n",
      "dtypes: datetime64[ns](1), float64(2), int64(1), object(6)\n",
      "memory usage: 122.0+ KB\n"
     ]
    }
   ],
   "source": [
    "rt_movie_df.info()"
   ]
  },
  {
   "cell_type": "markdown",
   "metadata": {},
   "source": [
    "Having calculated the 'Fresh' meter for each movie already we can create a column for each and add it to this master table"
   ]
  },
  {
   "cell_type": "code",
   "execution_count": 17,
   "metadata": {},
   "outputs": [],
   "source": [
    "rt_movie_df['overall_tomato_rating'] = rt_movie_df['id'].map(lambda x: all_reviews_sr[x] if x in all_reviews_sr else np.nan)\n",
    "rt_movie_df['top_critic_tomato_rating'] = rt_movie_df['id'].map(lambda x: top_critic_reviews_sr[x] if x in top_critic_reviews_sr else np.nan)"
   ]
  },
  {
   "cell_type": "markdown",
   "metadata": {},
   "source": [
    "## Genre Performance"
   ]
  },
  {
   "cell_type": "markdown",
   "metadata": {},
   "source": [
    "Drop every record with a na in genre Create a boolean matrix for all different genres Drop unneccessary columns"
   ]
  },
  {
   "cell_type": "code",
   "execution_count": 18,
   "metadata": {},
   "outputs": [],
   "source": [
    "unique_genre_list = []\n",
    "for genres in rt_movie_df['genre list'].dropna().tolist():\n",
    "    for genre in genres:\n",
    "        unique_genre_list.append(genre)\n",
    "unique_genre_list =list(set(unique_genre_list))"
   ]
  },
  {
   "cell_type": "code",
   "execution_count": 19,
   "metadata": {},
   "outputs": [],
   "source": [
    "rt_movie_genre_df = rt_movie_df[rt_movie_df['genre list'].notna()]\n",
    "\n",
    "\n",
    "for genre in unique_genre_list:\n",
    "    rt_movie_genre_df[genre] = rt_movie_genre_df['genre list'].map(lambda x: True if genre in x else False)"
   ]
  },
  {
   "cell_type": "markdown",
   "metadata": {},
   "source": [
    "See the caveats in the documentation: https://pandas.pydata.org/pandas-docs/stable/user_guide/indexing.html#returning-a-view-versus-a-copy\n",
    "  rt_movie_genre_df[genre] = rt_movie_genre_df['genre list'].map(lambda x: True if genre in x else False)"
   ]
  },
  {
   "cell_type": "code",
   "execution_count": 20,
   "metadata": {},
   "outputs": [],
   "source": [
    "#IGNORE\n",
    "\n",
    "#to get 10 most review movies\n",
    "# rt_movie_genre_temp = rt_movie_genre_df.drop(columns = ['id','genre','director','writer', \n",
    "#                                                         'theater_date','dvd_date','runtime_in_min'])\n",
    "# genre_fresh_rating_map = {} \n",
    "# for genre in unique_genre_list:\n",
    "#     genre_fresh_rating_map[genre] = rt_movie_genre_temp[rt_movie_genre_temp[genre]==True].dropna().mean()['overall_tomato_rating']\n",
    "\n",
    "# genre_fresh_rating_map = {k: v for k, v in sorted(genre_fresh_rating_map.items(), key=lambda item: item[1], reverse=True)}"
   ]
  },
  {
   "cell_type": "code",
   "execution_count": 21,
   "metadata": {},
   "outputs": [],
   "source": [
    "# Get top 10 most released genres\n",
    "rt_movie_genre_temp = rt_movie_genre_df[rt_movie_genre_df['year']>year_cutoff].drop(\n",
    "    columns = ['rating','genre list','year','overall_tomato_rating','top_critic_tomato_rating',\n",
    "               'id','genre','dvd_date','runtime_in_min'])\n",
    "top_15_genres = list(rt_movie_genre_temp.sum().sort_values(ascending=False)[:15].index)"
   ]
  },
  {
   "cell_type": "code",
   "execution_count": 22,
   "metadata": {},
   "outputs": [
    {
     "data": {
      "text/plain": [
       "Drama                          74\n",
       "Comedy                         39\n",
       "Mystery and Suspense           24\n",
       "Action and Adventure           18\n",
       "Romance                        16\n",
       "Science Fiction and Fantasy    12\n",
       "Art House and International    11\n",
       "Horror                          8\n",
       "Kids and Family                 7\n",
       "Animation                       5\n",
       "Musical and Performing Arts     4\n",
       "Western                         3\n",
       "Special Interest                2\n",
       "Documentary                     2\n",
       "Faith and Spirituality          1\n",
       "dtype: int64"
      ]
     },
     "execution_count": 22,
     "metadata": {},
     "output_type": "execute_result"
    }
   ],
   "source": [
    "rt_movie_genre_temp.sum().sort_values(ascending=False)[:15]"
   ]
  },
  {
   "cell_type": "code",
   "execution_count": 23,
   "metadata": {},
   "outputs": [],
   "source": [
    "viz_data =[]\n",
    "for genre in top_15_genres:\n",
    "    grouped_df = rt_movie_genre_df[rt_movie_genre_df['year']>year_cutoff].groupby(genre).mean()\n",
    "    viz_data.append([genre,grouped_df['overall_tomato_rating'][1],grouped_df['top_critic_tomato_rating'][1]]) \n",
    "viz_data.sort(key = lambda x: x[1],reverse = True)"
   ]
  },
  {
   "cell_type": "code",
   "execution_count": 24,
   "metadata": {},
   "outputs": [
    {
     "data": {
      "image/png": "[encoded data removed]",
      "text/plain": [
       "<Figure size 1440x720 with 1 Axes>"
      ]
     },
     "metadata": {
      "needs_background": "light"
     },
     "output_type": "display_data"
    }
   ],
   "source": [
    "# Visualization\n",
    "viz_labels = [v[0] for v in viz_data]\n",
    "viz_all_ratings = [v[1] for v in viz_data]\n",
    "viz_top_ratings = [v[2] for v in viz_data]\n",
    "\n",
    "x = np.arange(len(viz_labels))\n",
    "w = 0.6\n",
    "\n",
    "fig, ax = plt.subplots(figsize=(20,10))\n",
    "\n",
    "\n",
    "ax.grid()\n",
    "ax.bar(x-w/2, viz_all_ratings, w)\n",
    "ax.bar(x+w/4, viz_top_ratings, w/2)     \n",
    "ax.set_xticks(x)  \n",
    "ax.set_xticklabels(labels=viz_labels,rotation = 45,horizontalalignment = 'right')\n",
    "ax.set_yticks(np.arange(0, 1, step=0.05))\n",
    "ax.set_title(f'Critical Reception of various genres (post {year_cutoff}) per Rotten Tomato')\n",
    "ax.set_xlabel('Genre')\n",
    "ax.set_ylabel('Avg % Fresh')\n",
    "ax.legend(['Overall Tomator Rating', 'Top Critic Tomato Rating']);"
   ]
  },
  {
   "cell_type": "markdown",
   "metadata": {},
   "source": [
    "."
   ]
  },
  {
   "cell_type": "markdown",
   "metadata": {},
   "source": [
    "."
   ]
  },
  {
   "cell_type": "markdown",
   "metadata": {},
   "source": [
    "."
   ]
  },
  {
   "cell_type": "markdown",
   "metadata": {},
   "source": [
    "# Understanding the IMDb Dataset"
   ]
  },
  {
   "cell_type": "markdown",
   "metadata": {},
   "source": [
    "First, we'll need to set up our notebook to be able to process this data."
   ]
  },
  {
   "cell_type": "code",
   "execution_count": 25,
   "metadata": {},
   "outputs": [],
   "source": [
    "# Import necessary libraries and packages\n",
    "import pandas as pd\n",
    "import numpy as np\n",
    "import sqlite3\n",
    "import zipfile\n",
    "import matplotlib.pyplot as plt\n",
    "\n",
    "%matplotlib inline"
   ]
  },
  {
   "cell_type": "code",
   "execution_count": 26,
   "metadata": {},
   "outputs": [],
   "source": [
    "# Extract IMDb SQL .db file\n",
    "with zipfile.ZipFile('./data/im.db.zip') as zipObj:\n",
    "    # Extract all contents of .zip file into current directory\n",
    "    zipObj.extractall(path='../../data/')\n",
    "    \n",
    "# Create connection to IMDb DB\n",
    "con = sqlite3.connect('../../data/im.db')"
   ]
  },
  {
   "cell_type": "markdown",
   "metadata": {},
   "source": [
    "Let's take a look at what this dataset actually *contains*, i.e. the names of the tables"
   ]
  },
  {
   "cell_type": "code",
   "execution_count": 27,
   "metadata": {},
   "outputs": [
    {
     "data": {
      "text/html": [
       "<div>\n",
       "<style scoped>\n",
       "    .dataframe tbody tr th:only-of-type {\n",
       "        vertical-align: middle;\n",
       "    }\n",
       "\n",
       "    .dataframe tbody tr th {\n",
       "        vertical-align: top;\n",
       "    }\n",
       "\n",
       "    .dataframe thead th {\n",
       "        text-align: right;\n",
       "    }\n",
       "</style>\n",
       "<table border=\"1\" class=\"dataframe\">\n",
       "  <thead>\n",
       "    <tr style=\"text-align: right;\">\n",
       "      <th></th>\n",
       "      <th>type</th>\n",
       "      <th>name</th>\n",
       "      <th>tbl_name</th>\n",
       "      <th>rootpage</th>\n",
       "      <th>sql</th>\n",
       "    </tr>\n",
       "  </thead>\n",
       "  <tbody>\n",
       "    <tr>\n",
       "      <th>0</th>\n",
       "      <td>table</td>\n",
       "      <td>movie_basics</td>\n",
       "      <td>movie_basics</td>\n",
       "      <td>2</td>\n",
       "      <td>CREATE TABLE \"movie_basics\" (\\n\"movie_id\" TEXT...</td>\n",
       "    </tr>\n",
       "    <tr>\n",
       "      <th>1</th>\n",
       "      <td>table</td>\n",
       "      <td>directors</td>\n",
       "      <td>directors</td>\n",
       "      <td>3</td>\n",
       "      <td>CREATE TABLE \"directors\" (\\n\"movie_id\" TEXT,\\n...</td>\n",
       "    </tr>\n",
       "    <tr>\n",
       "      <th>2</th>\n",
       "      <td>table</td>\n",
       "      <td>known_for</td>\n",
       "      <td>known_for</td>\n",
       "      <td>4</td>\n",
       "      <td>CREATE TABLE \"known_for\" (\\n\"person_id\" TEXT,\\...</td>\n",
       "    </tr>\n",
       "    <tr>\n",
       "      <th>3</th>\n",
       "      <td>table</td>\n",
       "      <td>movie_akas</td>\n",
       "      <td>movie_akas</td>\n",
       "      <td>5</td>\n",
       "      <td>CREATE TABLE \"movie_akas\" (\\n\"movie_id\" TEXT,\\...</td>\n",
       "    </tr>\n",
       "    <tr>\n",
       "      <th>4</th>\n",
       "      <td>table</td>\n",
       "      <td>movie_ratings</td>\n",
       "      <td>movie_ratings</td>\n",
       "      <td>6</td>\n",
       "      <td>CREATE TABLE \"movie_ratings\" (\\n\"movie_id\" TEX...</td>\n",
       "    </tr>\n",
       "    <tr>\n",
       "      <th>5</th>\n",
       "      <td>table</td>\n",
       "      <td>persons</td>\n",
       "      <td>persons</td>\n",
       "      <td>7</td>\n",
       "      <td>CREATE TABLE \"persons\" (\\n\"person_id\" TEXT,\\n ...</td>\n",
       "    </tr>\n",
       "    <tr>\n",
       "      <th>6</th>\n",
       "      <td>table</td>\n",
       "      <td>principals</td>\n",
       "      <td>principals</td>\n",
       "      <td>8</td>\n",
       "      <td>CREATE TABLE \"principals\" (\\n\"movie_id\" TEXT,\\...</td>\n",
       "    </tr>\n",
       "    <tr>\n",
       "      <th>7</th>\n",
       "      <td>table</td>\n",
       "      <td>writers</td>\n",
       "      <td>writers</td>\n",
       "      <td>9</td>\n",
       "      <td>CREATE TABLE \"writers\" (\\n\"movie_id\" TEXT,\\n  ...</td>\n",
       "    </tr>\n",
       "  </tbody>\n",
       "</table>\n",
       "</div>"
      ],
      "text/plain": [
       "    type           name       tbl_name  rootpage  \\\n",
       "0  table   movie_basics   movie_basics         2   \n",
       "1  table      directors      directors         3   \n",
       "2  table      known_for      known_for         4   \n",
       "3  table     movie_akas     movie_akas         5   \n",
       "4  table  movie_ratings  movie_ratings         6   \n",
       "5  table        persons        persons         7   \n",
       "6  table     principals     principals         8   \n",
       "7  table        writers        writers         9   \n",
       "\n",
       "                                                 sql  \n",
       "0  CREATE TABLE \"movie_basics\" (\\n\"movie_id\" TEXT...  \n",
       "1  CREATE TABLE \"directors\" (\\n\"movie_id\" TEXT,\\n...  \n",
       "2  CREATE TABLE \"known_for\" (\\n\"person_id\" TEXT,\\...  \n",
       "3  CREATE TABLE \"movie_akas\" (\\n\"movie_id\" TEXT,\\...  \n",
       "4  CREATE TABLE \"movie_ratings\" (\\n\"movie_id\" TEX...  \n",
       "5  CREATE TABLE \"persons\" (\\n\"person_id\" TEXT,\\n ...  \n",
       "6  CREATE TABLE \"principals\" (\\n\"movie_id\" TEXT,\\...  \n",
       "7  CREATE TABLE \"writers\" (\\n\"movie_id\" TEXT,\\n  ...  "
      ]
     },
     "execution_count": 27,
     "metadata": {},
     "output_type": "execute_result"
    }
   ],
   "source": [
    "pd.read_sql(\"\"\"\n",
    "\n",
    "SELECT *\n",
    "FROM sqlite_master\n",
    "\n",
    "\"\"\",con)"
   ]
  },
  {
   "cell_type": "markdown",
   "metadata": {},
   "source": [
    "For starters, let's take a look at the `movie_basics` and `movie_ratings` tables."
   ]
  },
  {
   "cell_type": "code",
   "execution_count": 28,
   "metadata": {},
   "outputs": [
    {
     "name": "stdout",
     "output_type": "stream",
     "text": [
      "<class 'pandas.core.frame.DataFrame'>\n",
      "RangeIndex: 146144 entries, 0 to 146143\n",
      "Data columns (total 6 columns):\n",
      " #   Column           Non-Null Count   Dtype  \n",
      "---  ------           --------------   -----  \n",
      " 0   movie_id         146144 non-null  object \n",
      " 1   primary_title    146144 non-null  object \n",
      " 2   original_title   146123 non-null  object \n",
      " 3   start_year       146144 non-null  int64  \n",
      " 4   runtime_minutes  114405 non-null  float64\n",
      " 5   genres           140736 non-null  object \n",
      "dtypes: float64(1), int64(1), object(4)\n",
      "memory usage: 6.7+ MB\n"
     ]
    }
   ],
   "source": [
    "basics_query = \"\"\"SELECT * FROM movie_basics\"\"\"\n",
    "\n",
    "pd.read_sql(basics_query,con).info()"
   ]
  },
  {
   "cell_type": "markdown",
   "metadata": {},
   "source": [
    "146,144 entries - that's a **lot** of movies!\n",
    "\n",
    "We have a few columns with null values: ```original_title```, ```runtime_minutes```, and ```genres```. We'll have to figure out how to deal with those in due time, but first, let's get a closer look at what's actually contained in the table."
   ]
  },
  {
   "cell_type": "code",
   "execution_count": 29,
   "metadata": {},
   "outputs": [
    {
     "data": {
      "text/html": [
       "<div>\n",
       "<style scoped>\n",
       "    .dataframe tbody tr th:only-of-type {\n",
       "        vertical-align: middle;\n",
       "    }\n",
       "\n",
       "    .dataframe tbody tr th {\n",
       "        vertical-align: top;\n",
       "    }\n",
       "\n",
       "    .dataframe thead th {\n",
       "        text-align: right;\n",
       "    }\n",
       "</style>\n",
       "<table border=\"1\" class=\"dataframe\">\n",
       "  <thead>\n",
       "    <tr style=\"text-align: right;\">\n",
       "      <th></th>\n",
       "      <th>movie_id</th>\n",
       "      <th>primary_title</th>\n",
       "      <th>original_title</th>\n",
       "      <th>start_year</th>\n",
       "      <th>runtime_minutes</th>\n",
       "      <th>genres</th>\n",
       "    </tr>\n",
       "  </thead>\n",
       "  <tbody>\n",
       "    <tr>\n",
       "      <th>0</th>\n",
       "      <td>tt0063540</td>\n",
       "      <td>Sunghursh</td>\n",
       "      <td>Sunghursh</td>\n",
       "      <td>2013</td>\n",
       "      <td>175.0</td>\n",
       "      <td>Action,Crime,Drama</td>\n",
       "    </tr>\n",
       "    <tr>\n",
       "      <th>1</th>\n",
       "      <td>tt0066787</td>\n",
       "      <td>One Day Before the Rainy Season</td>\n",
       "      <td>Ashad Ka Ek Din</td>\n",
       "      <td>2019</td>\n",
       "      <td>114.0</td>\n",
       "      <td>Biography,Drama</td>\n",
       "    </tr>\n",
       "    <tr>\n",
       "      <th>2</th>\n",
       "      <td>tt0069049</td>\n",
       "      <td>The Other Side of the Wind</td>\n",
       "      <td>The Other Side of the Wind</td>\n",
       "      <td>2018</td>\n",
       "      <td>122.0</td>\n",
       "      <td>Drama</td>\n",
       "    </tr>\n",
       "    <tr>\n",
       "      <th>3</th>\n",
       "      <td>tt0069204</td>\n",
       "      <td>Sabse Bada Sukh</td>\n",
       "      <td>Sabse Bada Sukh</td>\n",
       "      <td>2018</td>\n",
       "      <td>NaN</td>\n",
       "      <td>Comedy,Drama</td>\n",
       "    </tr>\n",
       "    <tr>\n",
       "      <th>4</th>\n",
       "      <td>tt0100275</td>\n",
       "      <td>The Wandering Soap Opera</td>\n",
       "      <td>La Telenovela Errante</td>\n",
       "      <td>2017</td>\n",
       "      <td>80.0</td>\n",
       "      <td>Comedy,Drama,Fantasy</td>\n",
       "    </tr>\n",
       "    <tr>\n",
       "      <th>5</th>\n",
       "      <td>tt0111414</td>\n",
       "      <td>A Thin Life</td>\n",
       "      <td>A Thin Life</td>\n",
       "      <td>2018</td>\n",
       "      <td>75.0</td>\n",
       "      <td>Comedy</td>\n",
       "    </tr>\n",
       "    <tr>\n",
       "      <th>6</th>\n",
       "      <td>tt0112502</td>\n",
       "      <td>Bigfoot</td>\n",
       "      <td>Bigfoot</td>\n",
       "      <td>2017</td>\n",
       "      <td>NaN</td>\n",
       "      <td>Horror,Thriller</td>\n",
       "    </tr>\n",
       "    <tr>\n",
       "      <th>7</th>\n",
       "      <td>tt0137204</td>\n",
       "      <td>Joe Finds Grace</td>\n",
       "      <td>Joe Finds Grace</td>\n",
       "      <td>2017</td>\n",
       "      <td>83.0</td>\n",
       "      <td>Adventure,Animation,Comedy</td>\n",
       "    </tr>\n",
       "    <tr>\n",
       "      <th>8</th>\n",
       "      <td>tt0139613</td>\n",
       "      <td>O Silêncio</td>\n",
       "      <td>O Silêncio</td>\n",
       "      <td>2012</td>\n",
       "      <td>NaN</td>\n",
       "      <td>Documentary,History</td>\n",
       "    </tr>\n",
       "    <tr>\n",
       "      <th>9</th>\n",
       "      <td>tt0144449</td>\n",
       "      <td>Nema aviona za Zagreb</td>\n",
       "      <td>Nema aviona za Zagreb</td>\n",
       "      <td>2012</td>\n",
       "      <td>82.0</td>\n",
       "      <td>Biography</td>\n",
       "    </tr>\n",
       "  </tbody>\n",
       "</table>\n",
       "</div>"
      ],
      "text/plain": [
       "    movie_id                    primary_title              original_title  \\\n",
       "0  tt0063540                        Sunghursh                   Sunghursh   \n",
       "1  tt0066787  One Day Before the Rainy Season             Ashad Ka Ek Din   \n",
       "2  tt0069049       The Other Side of the Wind  The Other Side of the Wind   \n",
       "3  tt0069204                  Sabse Bada Sukh             Sabse Bada Sukh   \n",
       "4  tt0100275         The Wandering Soap Opera       La Telenovela Errante   \n",
       "5  tt0111414                      A Thin Life                 A Thin Life   \n",
       "6  tt0112502                          Bigfoot                     Bigfoot   \n",
       "7  tt0137204                  Joe Finds Grace             Joe Finds Grace   \n",
       "8  tt0139613                       O Silêncio                  O Silêncio   \n",
       "9  tt0144449            Nema aviona za Zagreb       Nema aviona za Zagreb   \n",
       "\n",
       "   start_year  runtime_minutes                      genres  \n",
       "0        2013            175.0          Action,Crime,Drama  \n",
       "1        2019            114.0             Biography,Drama  \n",
       "2        2018            122.0                       Drama  \n",
       "3        2018              NaN                Comedy,Drama  \n",
       "4        2017             80.0        Comedy,Drama,Fantasy  \n",
       "5        2018             75.0                      Comedy  \n",
       "6        2017              NaN             Horror,Thriller  \n",
       "7        2017             83.0  Adventure,Animation,Comedy  \n",
       "8        2012              NaN         Documentary,History  \n",
       "9        2012             82.0                   Biography  "
      ]
     },
     "execution_count": 29,
     "metadata": {},
     "output_type": "execute_result"
    }
   ],
   "source": [
    "pd.read_sql(basics_query,con).head(10)"
   ]
  },
  {
   "cell_type": "markdown",
   "metadata": {},
   "source": [
    "Since most of the movies in the dataset have the same `primary_title` and `original_title`, and because `primary_title` is often an English-translated title, we can probably drop `original_title` when we join these tables.\n",
    "\n",
    "We also have a primary key: `movie_id`.\n",
    "\n",
    "Okay, what about the table `movie_ratings`?"
   ]
  },
  {
   "cell_type": "code",
   "execution_count": 30,
   "metadata": {},
   "outputs": [
    {
     "data": {
      "text/html": [
       "<div>\n",
       "<style scoped>\n",
       "    .dataframe tbody tr th:only-of-type {\n",
       "        vertical-align: middle;\n",
       "    }\n",
       "\n",
       "    .dataframe tbody tr th {\n",
       "        vertical-align: top;\n",
       "    }\n",
       "\n",
       "    .dataframe thead th {\n",
       "        text-align: right;\n",
       "    }\n",
       "</style>\n",
       "<table border=\"1\" class=\"dataframe\">\n",
       "  <thead>\n",
       "    <tr style=\"text-align: right;\">\n",
       "      <th></th>\n",
       "      <th>movie_id</th>\n",
       "      <th>averagerating</th>\n",
       "      <th>numvotes</th>\n",
       "    </tr>\n",
       "  </thead>\n",
       "  <tbody>\n",
       "    <tr>\n",
       "      <th>0</th>\n",
       "      <td>tt10356526</td>\n",
       "      <td>8.3</td>\n",
       "      <td>31</td>\n",
       "    </tr>\n",
       "    <tr>\n",
       "      <th>1</th>\n",
       "      <td>tt10384606</td>\n",
       "      <td>8.9</td>\n",
       "      <td>559</td>\n",
       "    </tr>\n",
       "    <tr>\n",
       "      <th>2</th>\n",
       "      <td>tt1042974</td>\n",
       "      <td>6.4</td>\n",
       "      <td>20</td>\n",
       "    </tr>\n",
       "    <tr>\n",
       "      <th>3</th>\n",
       "      <td>tt1043726</td>\n",
       "      <td>4.2</td>\n",
       "      <td>50352</td>\n",
       "    </tr>\n",
       "    <tr>\n",
       "      <th>4</th>\n",
       "      <td>tt1060240</td>\n",
       "      <td>6.5</td>\n",
       "      <td>21</td>\n",
       "    </tr>\n",
       "    <tr>\n",
       "      <th>5</th>\n",
       "      <td>tt1069246</td>\n",
       "      <td>6.2</td>\n",
       "      <td>326</td>\n",
       "    </tr>\n",
       "    <tr>\n",
       "      <th>6</th>\n",
       "      <td>tt1094666</td>\n",
       "      <td>7.0</td>\n",
       "      <td>1613</td>\n",
       "    </tr>\n",
       "    <tr>\n",
       "      <th>7</th>\n",
       "      <td>tt1130982</td>\n",
       "      <td>6.4</td>\n",
       "      <td>571</td>\n",
       "    </tr>\n",
       "    <tr>\n",
       "      <th>8</th>\n",
       "      <td>tt1156528</td>\n",
       "      <td>7.2</td>\n",
       "      <td>265</td>\n",
       "    </tr>\n",
       "    <tr>\n",
       "      <th>9</th>\n",
       "      <td>tt1161457</td>\n",
       "      <td>4.2</td>\n",
       "      <td>148</td>\n",
       "    </tr>\n",
       "  </tbody>\n",
       "</table>\n",
       "</div>"
      ],
      "text/plain": [
       "     movie_id  averagerating  numvotes\n",
       "0  tt10356526            8.3        31\n",
       "1  tt10384606            8.9       559\n",
       "2   tt1042974            6.4        20\n",
       "3   tt1043726            4.2     50352\n",
       "4   tt1060240            6.5        21\n",
       "5   tt1069246            6.2       326\n",
       "6   tt1094666            7.0      1613\n",
       "7   tt1130982            6.4       571\n",
       "8   tt1156528            7.2       265\n",
       "9   tt1161457            4.2       148"
      ]
     },
     "execution_count": 30,
     "metadata": {},
     "output_type": "execute_result"
    }
   ],
   "source": [
    "ratings_query = \"\"\"SELECT * FROM movie_ratings\"\"\"\n",
    "\n",
    "pd.read_sql(ratings_query,con).head(10)"
   ]
  },
  {
   "cell_type": "markdown",
   "metadata": {},
   "source": [
    "That table is easy enough to read, but it only gives us **alphanumeric values** to identify what movie is associated with a given row's `averagerating` and `numvotes`. We will address that when we join the tables.\n",
    "\n",
    "Let's take a more bird's-eye view of the `movie_ratings` table using `.info()`."
   ]
  },
  {
   "cell_type": "code",
   "execution_count": 31,
   "metadata": {},
   "outputs": [
    {
     "name": "stdout",
     "output_type": "stream",
     "text": [
      "<class 'pandas.core.frame.DataFrame'>\n",
      "RangeIndex: 73856 entries, 0 to 73855\n",
      "Data columns (total 3 columns):\n",
      " #   Column         Non-Null Count  Dtype  \n",
      "---  ------         --------------  -----  \n",
      " 0   movie_id       73856 non-null  object \n",
      " 1   averagerating  73856 non-null  float64\n",
      " 2   numvotes       73856 non-null  int64  \n",
      "dtypes: float64(1), int64(1), object(1)\n",
      "memory usage: 1.7+ MB\n"
     ]
    }
   ],
   "source": [
    "pd.read_sql(ratings_query,con).info()"
   ]
  },
  {
   "cell_type": "markdown",
   "metadata": {},
   "source": [
    "No null values in any of the three columns! But `movie_ratings`, with 73,856 rows, has only *half* as many entries as `movie_basics` - that means there are a lot of entries in `movie_basics` without an associated rating.\n",
    "\n",
    "The two tables have `movie_id` in common, so we'll join them on that column.\n",
    "\n",
    "Which column should we investigate first in order to get a sense of what movies (and what kinds of movies) are popular: `averagerating` or `numvotes`?\n",
    "\n",
    "The values in the column `averagerating` provide us an idea of what *scores* IMDb users have assigned a movie (i.e. users' *evaluations* of a movie's quality), but `numvotes` tells us *how many* IMDb users have rated the movie, which likely gives us a better idea of a movie's **reach**. Let's order our data by `numvotes` to start."
   ]
  },
  {
   "cell_type": "code",
   "execution_count": 32,
   "metadata": {},
   "outputs": [],
   "source": [
    "# Creating new query: Joining movie_basics and\n",
    "# movie_ratings, ordering by total # of ratings\n",
    "\n",
    "votes_query = \"\"\"\n",
    "    SELECT\n",
    "        -- Importing columns from movie_basics\n",
    "        mb.primary_title AS \"Title\",\n",
    "        mb.start_year AS \"Release Year\",\n",
    "        -- Importing columns from movie_ratings\n",
    "        mr.averagerating AS \"Avg. Rating\",\n",
    "        mr.numvotes AS \"# of Ratings\"\n",
    "    FROM\n",
    "        movie_basics AS mb\n",
    "        JOIN movie_ratings AS mr\n",
    "            ON mb.movie_id = mr.movie_id\n",
    "    WHERE\n",
    "        -- Looking at movies only from 2010-2019 (most recent\n",
    "        -- year in dataset) for last ten years' of data\n",
    "        mb.start_year >= 2010\n",
    "    ORDER BY\n",
    "        mr.numvotes DESC\n",
    "\"\"\"\n",
    "\n",
    "# Creating new dataframe based on votes_query\n",
    "sample_df = pd.read_sql(votes_query,con)"
   ]
  },
  {
   "cell_type": "code",
   "execution_count": 33,
   "metadata": {},
   "outputs": [
    {
     "data": {
      "image/png": "[encoded data removed]",
      "text/plain": [
       "<Figure size 720x432 with 1 Axes>"
      ]
     },
     "metadata": {
      "needs_background": "light"
     },
     "output_type": "display_data"
    }
   ],
   "source": [
    "# Assigning the values from '# of Ratings' column to\n",
    "# new variable ratings_counts\n",
    "ratings_counts = sample_df['# of Ratings']\n",
    "\n",
    "# Plotting ratings_counts as a boxplot\n",
    "fig, ax = plt.subplots(figsize=(10,6))\n",
    "\n",
    "plt.tick_params(\n",
    "    axis='y',\n",
    "    which='both',\n",
    "    left=False,\n",
    "    labelleft=False)\n",
    "\n",
    "ax.boxplot(ratings_counts, vert=False)\n",
    "ax.set_title(\"Count of User Ratings for Movies on IMDb\")\n",
    "ax.set_xlabel(\"# of Ratings (in millions)\");"
   ]
  },
  {
   "cell_type": "markdown",
   "metadata": {},
   "source": [
    "That is a very skewed boxplot - it's hard to even make any sense of it. Let's look at the descriptive statistics for the `# of Ratings` column."
   ]
  },
  {
   "cell_type": "code",
   "execution_count": 34,
   "metadata": {},
   "outputs": [
    {
     "data": {
      "text/plain": [
       "count      73856.000000\n",
       "mean        3523.662167\n",
       "std        30294.022971\n",
       "min            5.000000\n",
       "25%           14.000000\n",
       "50%           49.000000\n",
       "75%          282.000000\n",
       "max      1841066.000000\n",
       "Name: # of Ratings, dtype: object"
      ]
     },
     "execution_count": 34,
     "metadata": {},
     "output_type": "execute_result"
    }
   ],
   "source": [
    "ratings_counts.describe().apply(lambda x: format(x, 'f'))"
   ]
  },
  {
   "cell_type": "markdown",
   "metadata": {},
   "source": [
    "(The function to convert the output of `ratings_counts.describe()` from scientific notation to the above notation was provided by [Ash Upadhyay](https://stackoverflow.com/posts/47207283/revisions).)\n",
    "\n",
    "Wow... not only is our ```mean``` well above the ```50%``` value (the median), but it's **more than ten times larger** than the ```75%``` value! The most popular movie on the site is represented by `max` and has 1,841,066 ratings. \n",
    "\n",
    "From a business perspective, it probably doesn't make a lot of sense to home in on movies with low numbers of user ratings. In the SQL query below, we order by `numvotes`/`# of Ratings` once again, but we limit our output to 500. This yields a dataframe with information about the 500 movies with the greatest number of user ratings - not only is it more manageable than working with thousands of records, we're also only working movies that are verifiably **popular** with IMDb users."
   ]
  },
  {
   "cell_type": "code",
   "execution_count": 35,
   "metadata": {},
   "outputs": [
    {
     "name": "stdout",
     "output_type": "stream",
     "text": [
      "<class 'pandas.core.frame.DataFrame'>\n",
      "RangeIndex: 500 entries, 0 to 499\n",
      "Data columns (total 6 columns):\n",
      " #   Column        Non-Null Count  Dtype  \n",
      "---  ------        --------------  -----  \n",
      " 0   Title         500 non-null    object \n",
      " 1   Release Year  500 non-null    int64  \n",
      " 2   genres        500 non-null    object \n",
      " 3   Runtime       500 non-null    float64\n",
      " 4   Avg. Rating   500 non-null    float64\n",
      " 5   # of Ratings  500 non-null    int64  \n",
      "dtypes: float64(2), int64(2), object(2)\n",
      "memory usage: 23.6+ KB\n",
      "None\n"
     ]
    }
   ],
   "source": [
    "imdb_df_sample = pd.read_sql(\"\"\"\n",
    "    SELECT\n",
    "        -- Importing columns from movie_basics\n",
    "        mb.primary_title AS \"Title\",\n",
    "        mb.start_year AS \"Release Year\",\n",
    "        mb.genres AS \"genres\",\n",
    "        mb.runtime_minutes AS \"Runtime\",\n",
    "        -- Importing columns from movie_ratings\n",
    "        mr.averagerating AS \"Avg. Rating\",\n",
    "        mr.numvotes AS \"# of Ratings\"\n",
    "    FROM\n",
    "        movie_basics AS mb\n",
    "        JOIN movie_ratings AS mr\n",
    "            ON mb.movie_id = mr.movie_id\n",
    "    WHERE\n",
    "        -- Looking at movies only with more than 100,000\n",
    "        -- user ratings\n",
    "        mr.numvotes >= 100000 AND\n",
    "        -- Looking at movies only from 2010-2019 (most recent\n",
    "        -- year in dataset)\n",
    "        mb.start_year >= 2010\n",
    "    ORDER BY\n",
    "        mr.numvotes DESC\n",
    "    LIMIT 500\n",
    "\"\"\",con)\n",
    "\n",
    "print(imdb_df_sample.info())"
   ]
  },
  {
   "cell_type": "markdown",
   "metadata": {},
   "source": [
    "Okay, so we've got a sample of 500 movies, each of which has been rated *at least* 100,000 times by IMDb users (though we cannot guarantee these are all unique users.) This sample represents the 500 movies on the site with the greatest number of user ratings."
   ]
  },
  {
   "cell_type": "code",
   "execution_count": 36,
   "metadata": {},
   "outputs": [
    {
     "data": {
      "text/html": [
       "<div>\n",
       "<style scoped>\n",
       "    .dataframe tbody tr th:only-of-type {\n",
       "        vertical-align: middle;\n",
       "    }\n",
       "\n",
       "    .dataframe tbody tr th {\n",
       "        vertical-align: top;\n",
       "    }\n",
       "\n",
       "    .dataframe thead th {\n",
       "        text-align: right;\n",
       "    }\n",
       "</style>\n",
       "<table border=\"1\" class=\"dataframe\">\n",
       "  <thead>\n",
       "    <tr style=\"text-align: right;\">\n",
       "      <th></th>\n",
       "      <th>Title</th>\n",
       "      <th>Release Year</th>\n",
       "      <th>genres</th>\n",
       "      <th>Runtime</th>\n",
       "      <th>Avg. Rating</th>\n",
       "      <th># of Ratings</th>\n",
       "    </tr>\n",
       "  </thead>\n",
       "  <tbody>\n",
       "    <tr>\n",
       "      <th>0</th>\n",
       "      <td>Inception</td>\n",
       "      <td>2010</td>\n",
       "      <td>[Action, Adventure, Sci-Fi]</td>\n",
       "      <td>148.0</td>\n",
       "      <td>8.8</td>\n",
       "      <td>1841066</td>\n",
       "    </tr>\n",
       "    <tr>\n",
       "      <th>1</th>\n",
       "      <td>The Dark Knight Rises</td>\n",
       "      <td>2012</td>\n",
       "      <td>[Action, Thriller]</td>\n",
       "      <td>164.0</td>\n",
       "      <td>8.4</td>\n",
       "      <td>1387769</td>\n",
       "    </tr>\n",
       "    <tr>\n",
       "      <th>2</th>\n",
       "      <td>Interstellar</td>\n",
       "      <td>2014</td>\n",
       "      <td>[Adventure, Drama, Sci-Fi]</td>\n",
       "      <td>169.0</td>\n",
       "      <td>8.6</td>\n",
       "      <td>1299334</td>\n",
       "    </tr>\n",
       "    <tr>\n",
       "      <th>3</th>\n",
       "      <td>Django Unchained</td>\n",
       "      <td>2012</td>\n",
       "      <td>[Drama, Western]</td>\n",
       "      <td>165.0</td>\n",
       "      <td>8.4</td>\n",
       "      <td>1211405</td>\n",
       "    </tr>\n",
       "    <tr>\n",
       "      <th>4</th>\n",
       "      <td>The Avengers</td>\n",
       "      <td>2012</td>\n",
       "      <td>[Action, Adventure, Sci-Fi]</td>\n",
       "      <td>143.0</td>\n",
       "      <td>8.1</td>\n",
       "      <td>1183655</td>\n",
       "    </tr>\n",
       "    <tr>\n",
       "      <th>5</th>\n",
       "      <td>The Wolf of Wall Street</td>\n",
       "      <td>2013</td>\n",
       "      <td>[Biography, Crime, Drama]</td>\n",
       "      <td>180.0</td>\n",
       "      <td>8.2</td>\n",
       "      <td>1035358</td>\n",
       "    </tr>\n",
       "    <tr>\n",
       "      <th>6</th>\n",
       "      <td>Shutter Island</td>\n",
       "      <td>2010</td>\n",
       "      <td>[Mystery, Thriller]</td>\n",
       "      <td>138.0</td>\n",
       "      <td>8.1</td>\n",
       "      <td>1005960</td>\n",
       "    </tr>\n",
       "    <tr>\n",
       "      <th>7</th>\n",
       "      <td>Guardians of the Galaxy</td>\n",
       "      <td>2014</td>\n",
       "      <td>[Action, Adventure, Comedy]</td>\n",
       "      <td>121.0</td>\n",
       "      <td>8.1</td>\n",
       "      <td>948394</td>\n",
       "    </tr>\n",
       "    <tr>\n",
       "      <th>8</th>\n",
       "      <td>Deadpool</td>\n",
       "      <td>2016</td>\n",
       "      <td>[Action, Adventure, Comedy]</td>\n",
       "      <td>108.0</td>\n",
       "      <td>8.0</td>\n",
       "      <td>820847</td>\n",
       "    </tr>\n",
       "    <tr>\n",
       "      <th>9</th>\n",
       "      <td>The Hunger Games</td>\n",
       "      <td>2012</td>\n",
       "      <td>[Action, Adventure, Sci-Fi]</td>\n",
       "      <td>142.0</td>\n",
       "      <td>7.2</td>\n",
       "      <td>795227</td>\n",
       "    </tr>\n",
       "  </tbody>\n",
       "</table>\n",
       "</div>"
      ],
      "text/plain": [
       "                     Title  Release Year                       genres  \\\n",
       "0                Inception          2010  [Action, Adventure, Sci-Fi]   \n",
       "1    The Dark Knight Rises          2012           [Action, Thriller]   \n",
       "2             Interstellar          2014   [Adventure, Drama, Sci-Fi]   \n",
       "3         Django Unchained          2012             [Drama, Western]   \n",
       "4             The Avengers          2012  [Action, Adventure, Sci-Fi]   \n",
       "5  The Wolf of Wall Street          2013    [Biography, Crime, Drama]   \n",
       "6           Shutter Island          2010          [Mystery, Thriller]   \n",
       "7  Guardians of the Galaxy          2014  [Action, Adventure, Comedy]   \n",
       "8                 Deadpool          2016  [Action, Adventure, Comedy]   \n",
       "9         The Hunger Games          2012  [Action, Adventure, Sci-Fi]   \n",
       "\n",
       "   Runtime  Avg. Rating  # of Ratings  \n",
       "0    148.0          8.8       1841066  \n",
       "1    164.0          8.4       1387769  \n",
       "2    169.0          8.6       1299334  \n",
       "3    165.0          8.4       1211405  \n",
       "4    143.0          8.1       1183655  \n",
       "5    180.0          8.2       1035358  \n",
       "6    138.0          8.1       1005960  \n",
       "7    121.0          8.1        948394  \n",
       "8    108.0          8.0        820847  \n",
       "9    142.0          7.2        795227  "
      ]
     },
     "execution_count": 36,
     "metadata": {},
     "output_type": "execute_result"
    }
   ],
   "source": [
    "# Database column 'genres' gives us multiple genres separated\n",
    "# by commas -- using split() to create a LIST of genres\n",
    "imdb_df_sample['genres'] = imdb_df_sample['genres'].str.split(',')\n",
    "\n",
    "# Let's look at the 10 movies with the highest # of user ratings\n",
    "imdb_df_sample.head(10)"
   ]
  },
  {
   "cell_type": "markdown",
   "metadata": {},
   "source": [
    "It looks like we have a pretty wide range of runtimes, and several of the movies with the highest average ratings on the site clock in at **over 2.5 hours!** Given the lack of correlation between a movie's runtime and its performance with critics we observed in the RottenTomatoes data, we can safely drop ```runtime_minutes``` / ```Runtime``` and focus on the other columns instead."
   ]
  },
  {
   "cell_type": "code",
   "execution_count": 37,
   "metadata": {},
   "outputs": [],
   "source": [
    "imdb_df_sample.drop(columns=['Runtime'], inplace=True)"
   ]
  },
  {
   "cell_type": "markdown",
   "metadata": {},
   "source": [
    "Let's get a closer look at the `genres` column so that we can figure out what genres occur most frequently in this set of movies with 100,000+ user ratings."
   ]
  },
  {
   "cell_type": "code",
   "execution_count": 38,
   "metadata": {},
   "outputs": [
    {
     "data": {
      "text/plain": [
       "0      [Action, Adventure, Sci-Fi]\n",
       "1               [Action, Thriller]\n",
       "2       [Adventure, Drama, Sci-Fi]\n",
       "3                 [Drama, Western]\n",
       "4      [Action, Adventure, Sci-Fi]\n",
       "                  ...             \n",
       "495               [Drama, Romance]\n",
       "496          [Drama, Mystery, War]\n",
       "497              [Crime, Thriller]\n",
       "498                [Comedy, Drama]\n",
       "499     [Drama, Mystery, Thriller]\n",
       "Name: genres, Length: 500, dtype: object"
      ]
     },
     "execution_count": 38,
     "metadata": {},
     "output_type": "execute_result"
    }
   ],
   "source": [
    "imdb_df_sample['genres']"
   ]
  },
  {
   "cell_type": "markdown",
   "metadata": {},
   "source": [
    "Looks like the ```genres``` column has a *list* of genres for each entry. We're going to need to split those lists up in order to get accurate value counts for each genre. (Credit for this function goes to [Max Hilsdorf](https://towardsdatascience.com/dealing-with-list-values-in-pandas-dataframes-a177e534f173).)"
   ]
  },
  {
   "cell_type": "code",
   "execution_count": 39,
   "metadata": {},
   "outputs": [],
   "source": [
    "def to_1D(series):\n",
    "    return pd.Series([x for _list in series for x in _list])\n",
    "\n",
    "# Top ten most frequently occurring genres\n",
    "top_genres = to_1D(imdb_df_sample['genres']).value_counts().head(10)"
   ]
  },
  {
   "cell_type": "code",
   "execution_count": 40,
   "metadata": {},
   "outputs": [
    {
     "data": {
      "image/png": "[encoded data removed]",
      "text/plain": [
       "<Figure size 792x432 with 1 Axes>"
      ]
     },
     "metadata": {
      "needs_background": "light"
     },
     "output_type": "display_data"
    }
   ],
   "source": [
    "# Plotting top ten genres\n",
    "genres_fig, ax = plt.subplots(figsize = (11, 6))\n",
    "\n",
    "ax.invert_yaxis()\n",
    "ax.barh(y=top_genres.index,\n",
    "       width=top_genres,\n",
    "       color='purple',)\n",
    "ax.set_title(\"\"\"Popular Genres w/ IMDb Users, 2010-2019\n",
    "(Movies with >100,000 User Ratings)\"\"\")\n",
    "ax.set_xlabel(\"# of Movies with 100,000 or more Votes\")\n",
    "ax.set_ylabel(\"Genre\");"
   ]
  },
  {
   "cell_type": "markdown",
   "metadata": {},
   "source": [
    "Interesting. It looks like `Action` is the most popular genre, with nearly **half** of the 500 most-frequently-rated movies containing `Action` in their list of genres!\n",
    "\n",
    "`Drama` and `Adventure` sit in the second and third place slots, respectively, with `Comedy` in fourth place; this lends credence to the interpretation that `Drama` films reach a wider swath of moviegoers, though `Comedy` remains very popular. `Thriller` movies round out the top five.\n",
    "\n",
    "If we subset our data so that we're only looking at the most recent five years' worth of data, do these trends change at all? Let's find out."
   ]
  },
  {
   "cell_type": "code",
   "execution_count": 41,
   "metadata": {},
   "outputs": [
    {
     "data": {
      "image/png": "[encoded data removed]",
      "text/plain": [
       "<Figure size 792x864 with 2 Axes>"
      ]
     },
     "metadata": {
      "needs_background": "light"
     },
     "output_type": "display_data"
    }
   ],
   "source": [
    "# Obtaining a dataframe of only movies released 2015-2019\n",
    "late_decade_df = imdb_df_sample[imdb_df_sample['Release Year'] >= 2015]\n",
    "\n",
    "# Creating another list of top ten genres\n",
    "genres2 = to_1D(late_decade_df['genres']).value_counts().head(10)\n",
    "\n",
    "# Creating a second graph\n",
    "genres_fig2, ax = plt.subplots(2, figsize = (11, 12))\n",
    "\n",
    "ax[0].invert_yaxis()\n",
    "ax[0].barh(y=genres2.index,\n",
    "       width=genres2,\n",
    "       color='orange')\n",
    "ax[0].set_title(\"\"\"Popular Genres w/ IMDb Users, 2015-2019 only \n",
    "(Movies with >100,000 User Ratings)\"\"\")\n",
    "ax[0].set_xlabel(\"# of Movies with 100,000 or more Votes\")\n",
    "ax[0].set_ylabel(\"Genre\")\n",
    "\n",
    "ax[1].invert_yaxis()\n",
    "ax[1].barh(y=top_genres.index,\n",
    "       width=top_genres,\n",
    "       color='purple',)\n",
    "ax[1].set_title(\"\"\"Popular Genres w/ IMDb Users, 2010-2019\n",
    "(Movies with >100,000 User Ratings)\"\"\")\n",
    "ax[1].set_xlabel(\"# of Movies with 100,000 or more Votes\")\n",
    "ax[1].set_ylabel(\"Genre\")\n",
    "genres_fig2.tight_layout(pad=3.0);"
   ]
  },
  {
   "cell_type": "markdown",
   "metadata": {},
   "source": [
    "These graphs are pretty comparable, both in their shapes and in their distributions of genres. We can observe an uptick in the popularity of `Sci-Fi` in the latter half of the 2010s, slightly eclipsing the popularity of `Thriller` movies (`Thriller` drops to 8<sup>th</sup> place, below `Crime` and `Fantasy`). The differences between the graphs are not profound or significant, but we can definitely comment on the increased profile of `Sci-Fi` films in the last five years' of data."
   ]
  },
  {
   "cell_type": "markdown",
   "metadata": {},
   "source": [
    "."
   ]
  },
  {
   "cell_type": "markdown",
   "metadata": {},
   "source": [
    "."
   ]
  },
  {
   "cell_type": "markdown",
   "metadata": {},
   "source": [
    "."
   ]
  },
  {
   "cell_type": "markdown",
   "metadata": {},
   "source": [
    "# Exploring Microsofts IPs within the Gaming Industry"
   ]
  },
  {
   "cell_type": "markdown",
   "metadata": {},
   "source": [
    "Grabbed single chart from Wiki listing Microsoft Acquisitions"
   ]
  },
  {
   "cell_type": "code",
   "execution_count": 42,
   "metadata": {},
   "outputs": [],
   "source": [
    "r = requests.get('https://en.wikipedia.org/wiki/List_of_mergers_and_acquisitions_by_Microsoft')\n",
    "soup = BeautifulSoup(r.text)\n",
    "table = soup.find('table', {'class': \"wikitable sortable\"})"
   ]
  },
  {
   "cell_type": "code",
   "execution_count": 43,
   "metadata": {},
   "outputs": [
    {
     "data": {
      "text/plain": [
       "271"
      ]
     },
     "execution_count": 43,
     "metadata": {},
     "output_type": "execute_result"
    }
   ],
   "source": [
    "len(table.find_all('tr')) \n",
    "#Checking to see if the length of the table matches the table on Wiki"
   ]
  },
  {
   "cell_type": "code",
   "execution_count": 44,
   "metadata": {},
   "outputs": [
    {
     "data": {
      "text/html": [
       "<div>\n",
       "<style scoped>\n",
       "    .dataframe tbody tr th:only-of-type {\n",
       "        vertical-align: middle;\n",
       "    }\n",
       "\n",
       "    .dataframe tbody tr th {\n",
       "        vertical-align: top;\n",
       "    }\n",
       "\n",
       "    .dataframe thead th {\n",
       "        text-align: right;\n",
       "    }\n",
       "</style>\n",
       "<table border=\"1\" class=\"dataframe\">\n",
       "  <thead>\n",
       "    <tr style=\"text-align: right;\">\n",
       "      <th></th>\n",
       "      <th>Date</th>\n",
       "      <th>Company</th>\n",
       "      <th>Business</th>\n",
       "      <th>Country</th>\n",
       "      <th>Value (  USD  )</th>\n",
       "      <th>References</th>\n",
       "    </tr>\n",
       "  </thead>\n",
       "  <tbody>\n",
       "    <tr>\n",
       "      <th>0</th>\n",
       "      <td>July 30, 1987</td>\n",
       "      <td>Forethought, Inc.</td>\n",
       "      <td>Computer software</td>\n",
       "      <td>United States</td>\n",
       "      <td>14000000</td>\n",
       "      <td>[25]</td>\n",
       "    </tr>\n",
       "    <tr>\n",
       "      <th>1</th>\n",
       "      <td>March 31, 1991</td>\n",
       "      <td>Consumers Software</td>\n",
       "      <td>Software</td>\n",
       "      <td>Canada</td>\n",
       "      <td>—</td>\n",
       "      <td>[26]</td>\n",
       "    </tr>\n",
       "    <tr>\n",
       "      <th>2</th>\n",
       "      <td>June 29, 1992</td>\n",
       "      <td>Fox Software</td>\n",
       "      <td>PC database software</td>\n",
       "      <td>United States</td>\n",
       "      <td>—</td>\n",
       "      <td>[27]</td>\n",
       "    </tr>\n",
       "    <tr>\n",
       "      <th>3</th>\n",
       "      <td>February 28, 1994</td>\n",
       "      <td>Softimage</td>\n",
       "      <td>Wholesale 3-D visualization software</td>\n",
       "      <td>Canada</td>\n",
       "      <td>130000000</td>\n",
       "      <td>[28]</td>\n",
       "    </tr>\n",
       "    <tr>\n",
       "      <th>4</th>\n",
       "      <td>September 27, 1994</td>\n",
       "      <td>Altamira Software</td>\n",
       "      <td>Software</td>\n",
       "      <td>United States</td>\n",
       "      <td>—</td>\n",
       "      <td>[29]</td>\n",
       "    </tr>\n",
       "  </tbody>\n",
       "</table>\n",
       "</div>"
      ],
      "text/plain": [
       "                 Date             Company  \\\n",
       "0       July 30, 1987   Forethought, Inc.   \n",
       "1      March 31, 1991  Consumers Software   \n",
       "2       June 29, 1992        Fox Software   \n",
       "3   February 28, 1994           Softimage   \n",
       "4  September 27, 1994   Altamira Software   \n",
       "\n",
       "                               Business        Country Value (  USD  )  \\\n",
       "0                     Computer software  United States        14000000   \n",
       "1                              Software         Canada               —   \n",
       "2                  PC database software  United States               —   \n",
       "3  Wholesale 3-D visualization software         Canada       130000000   \n",
       "4                              Software  United States               —   \n",
       "\n",
       "  References  \n",
       "0       [25]  \n",
       "1       [26]  \n",
       "2       [27]  \n",
       "3       [28]  \n",
       "4       [29]  "
      ]
     },
     "execution_count": 44,
     "metadata": {},
     "output_type": "execute_result"
    }
   ],
   "source": [
    "Microsoft_Acquisitions_df = pd.read_html(table.prettify())[0]\n",
    "Microsoft_Acquisitions_df.head()"
   ]
  },
  {
   "cell_type": "code",
   "execution_count": 45,
   "metadata": {},
   "outputs": [
    {
     "name": "stdout",
     "output_type": "stream",
     "text": [
      "<class 'pandas.core.frame.DataFrame'>\n",
      "RangeIndex: 270 entries, 0 to 269\n",
      "Data columns (total 6 columns):\n",
      " #   Column           Non-Null Count  Dtype \n",
      "---  ------           --------------  ----- \n",
      " 0   Date             270 non-null    object\n",
      " 1   Company          270 non-null    object\n",
      " 2   Business         270 non-null    object\n",
      " 3   Country          270 non-null    object\n",
      " 4   Value (  USD  )  256 non-null    object\n",
      " 5   References       268 non-null    object\n",
      "dtypes: object(6)\n",
      "memory usage: 12.8+ KB\n"
     ]
    }
   ],
   "source": [
    "Microsoft_Acquisitions_df.info()"
   ]
  },
  {
   "cell_type": "code",
   "execution_count": 46,
   "metadata": {},
   "outputs": [
    {
     "data": {
      "text/plain": [
       "Software                           37\n",
       "Video games                        19\n",
       "Internet software                   8\n",
       "Internet service provider           4\n",
       "Computer software                   3\n",
       "                                   ..\n",
       "Open source tool                    1\n",
       "Online Spanish portal               1\n",
       "Rootkit security software           1\n",
       "Esports                             1\n",
       "Certificate management software     1\n",
       "Name: Business, Length: 193, dtype: int64"
      ]
     },
     "execution_count": 46,
     "metadata": {},
     "output_type": "execute_result"
    }
   ],
   "source": [
    "Microsoft_Acquisitions_df['Business'].value_counts() \n",
    "#~10% of of acquisitions by Microsoft according to this chart were in the videa gaming sector"
   ]
  },
  {
   "cell_type": "code",
   "execution_count": 47,
   "metadata": {},
   "outputs": [],
   "source": [
    "Microsoft_Video_Games_df = Microsoft_Acquisitions_df[Microsoft_Acquisitions_df['Business'] == \"Video games\"]\n",
    "#Filtered only businesses that were video games from the Microsoft acquisitions table"
   ]
  },
  {
   "cell_type": "markdown",
   "metadata": {},
   "source": [
    "Remove key words that may reduce output downstream to make sure most desired data is acquired in cases where inconsistant inputs were entered in Chart.\n",
    "Made `Microsoft_Owned_Studios` cantains a list of the keywords to search through data base for similarities."
   ]
  },
  {
   "cell_type": "code",
   "execution_count": 48,
   "metadata": {},
   "outputs": [],
   "source": [
    "Microsoft_Owned_Studios = list(Microsoft_Video_Games_df['Company']\n",
    ".str.replace(\" Games\", \"\")\n",
    ".str.replace(\" Entertainment\", \"\")\n",
    ".str.replace(\" Media\", \"\")\n",
    ".str.replace(\" Studios\", \"\")\n",
    ".str.replace(\" Productions\", \"\")\n",
    ".str.replace(\" Blizzard\", \"\"))+[\"Bethesda\"]+[\"Microsoft\"]"
   ]
  },
  {
   "cell_type": "code",
   "execution_count": 49,
   "metadata": {},
   "outputs": [
    {
     "data": {
      "text/plain": [
       "['FASA Interactive',\n",
       " 'Access Software',\n",
       " 'Bungie',\n",
       " 'Digital Anvil',\n",
       " 'Ensemble',\n",
       " 'Rare',\n",
       " 'Lionhead',\n",
       " 'Twisted Pixel',\n",
       " 'Press Play',\n",
       " 'Mojang',\n",
       " 'Ninja Theory',\n",
       " 'Undead Labs',\n",
       " 'Compulsion',\n",
       " 'Playground',\n",
       " 'inXile',\n",
       " 'Obsidian',\n",
       " 'Double Fine',\n",
       " 'ZeniMax',\n",
       " 'Activision',\n",
       " 'Bethesda',\n",
       " 'Microsoft']"
      ]
     },
     "execution_count": 49,
     "metadata": {},
     "output_type": "execute_result"
    }
   ],
   "source": [
    "Microsoft_Owned_Studios #checked to make sure the above code worked"
   ]
  },
  {
   "cell_type": "markdown",
   "metadata": {},
   "source": [
    "Found and downloaded a csv file from Kaggle pertaining to video game data frame created by [RYANCOX](https://www.kaggle.com/coffeepot/videogame-sales/data)"
   ]
  },
  {
   "cell_type": "markdown",
   "metadata": {},
   "source": [
    "Additional information was gathered on one of Microsoft gaming division, [Bethesda](https://en.wikipedia.org/wiki/Xbox_Game_Studios)"
   ]
  },
  {
   "cell_type": "code",
   "execution_count": 50,
   "metadata": {},
   "outputs": [
    {
     "name": "stdout",
     "output_type": "stream",
     "text": [
      "<class 'pandas.core.frame.DataFrame'>\n",
      "RangeIndex: 16719 entries, 0 to 16718\n",
      "Data columns (total 16 columns):\n",
      " #   Column           Non-Null Count  Dtype  \n",
      "---  ------           --------------  -----  \n",
      " 0   Name             16717 non-null  object \n",
      " 1   Platform         16719 non-null  object \n",
      " 2   Year_of_Release  16450 non-null  float64\n",
      " 3   Genre            16717 non-null  object \n",
      " 4   Publisher        16665 non-null  object \n",
      " 5   NA_Sales         16719 non-null  float64\n",
      " 6   EU_Sales         16719 non-null  float64\n",
      " 7   JP_Sales         16719 non-null  float64\n",
      " 8   Other_Sales      16719 non-null  float64\n",
      " 9   Global_Sales     16719 non-null  float64\n",
      " 10  Critic_Score     8137 non-null   float64\n",
      " 11  Critic_Count     8137 non-null   float64\n",
      " 12  User_Score       10015 non-null  object \n",
      " 13  User_Count       7590 non-null   float64\n",
      " 14  Developer        10096 non-null  object \n",
      " 15  Rating           9950 non-null   object \n",
      "dtypes: float64(9), object(7)\n",
      "memory usage: 2.0+ MB\n"
     ]
    }
   ],
   "source": [
    "video_game_df = pd.read_csv('./data/Video_Games_Sales_as_at_22_Dec_2016.csv.zip')\n",
    "video_game_df.info() #looking for miss data in Sales Column and the make up the data"
   ]
  },
  {
   "cell_type": "code",
   "execution_count": 51,
   "metadata": {},
   "outputs": [
    {
     "data": {
      "text/html": [
       "<div>\n",
       "<style scoped>\n",
       "    .dataframe tbody tr th:only-of-type {\n",
       "        vertical-align: middle;\n",
       "    }\n",
       "\n",
       "    .dataframe tbody tr th {\n",
       "        vertical-align: top;\n",
       "    }\n",
       "\n",
       "    .dataframe thead th {\n",
       "        text-align: right;\n",
       "    }\n",
       "</style>\n",
       "<table border=\"1\" class=\"dataframe\">\n",
       "  <thead>\n",
       "    <tr style=\"text-align: right;\">\n",
       "      <th></th>\n",
       "      <th>Year_of_Release</th>\n",
       "      <th>NA_Sales</th>\n",
       "      <th>EU_Sales</th>\n",
       "      <th>JP_Sales</th>\n",
       "      <th>Other_Sales</th>\n",
       "      <th>Global_Sales</th>\n",
       "      <th>Critic_Score</th>\n",
       "      <th>Critic_Count</th>\n",
       "      <th>User_Count</th>\n",
       "    </tr>\n",
       "  </thead>\n",
       "  <tbody>\n",
       "    <tr>\n",
       "      <th>count</th>\n",
       "      <td>976.000000</td>\n",
       "      <td>985.000000</td>\n",
       "      <td>985.000000</td>\n",
       "      <td>985.000000</td>\n",
       "      <td>985.000000</td>\n",
       "      <td>985.000000</td>\n",
       "      <td>569.000000</td>\n",
       "      <td>569.000000</td>\n",
       "      <td>573.000000</td>\n",
       "    </tr>\n",
       "    <tr>\n",
       "      <th>mean</th>\n",
       "      <td>2007.315574</td>\n",
       "      <td>0.439178</td>\n",
       "      <td>0.219188</td>\n",
       "      <td>0.006812</td>\n",
       "      <td>0.076964</td>\n",
       "      <td>0.742294</td>\n",
       "      <td>69.667838</td>\n",
       "      <td>27.029877</td>\n",
       "      <td>211.874346</td>\n",
       "    </tr>\n",
       "    <tr>\n",
       "      <th>std</th>\n",
       "      <td>5.845428</td>\n",
       "      <td>0.899353</td>\n",
       "      <td>0.589623</td>\n",
       "      <td>0.042517</td>\n",
       "      <td>0.208207</td>\n",
       "      <td>1.628710</td>\n",
       "      <td>13.842564</td>\n",
       "      <td>20.201385</td>\n",
       "      <td>809.452931</td>\n",
       "    </tr>\n",
       "    <tr>\n",
       "      <th>min</th>\n",
       "      <td>1980.000000</td>\n",
       "      <td>0.000000</td>\n",
       "      <td>0.000000</td>\n",
       "      <td>0.000000</td>\n",
       "      <td>0.000000</td>\n",
       "      <td>0.010000</td>\n",
       "      <td>26.000000</td>\n",
       "      <td>3.000000</td>\n",
       "      <td>4.000000</td>\n",
       "    </tr>\n",
       "    <tr>\n",
       "      <th>25%</th>\n",
       "      <td>2005.000000</td>\n",
       "      <td>0.090000</td>\n",
       "      <td>0.010000</td>\n",
       "      <td>0.000000</td>\n",
       "      <td>0.010000</td>\n",
       "      <td>0.120000</td>\n",
       "      <td>60.000000</td>\n",
       "      <td>11.000000</td>\n",
       "      <td>9.000000</td>\n",
       "    </tr>\n",
       "    <tr>\n",
       "      <th>50%</th>\n",
       "      <td>2008.000000</td>\n",
       "      <td>0.190000</td>\n",
       "      <td>0.040000</td>\n",
       "      <td>0.000000</td>\n",
       "      <td>0.020000</td>\n",
       "      <td>0.280000</td>\n",
       "      <td>72.000000</td>\n",
       "      <td>21.000000</td>\n",
       "      <td>19.000000</td>\n",
       "    </tr>\n",
       "    <tr>\n",
       "      <th>75%</th>\n",
       "      <td>2011.000000</td>\n",
       "      <td>0.420000</td>\n",
       "      <td>0.170000</td>\n",
       "      <td>0.000000</td>\n",
       "      <td>0.050000</td>\n",
       "      <td>0.630000</td>\n",
       "      <td>80.000000</td>\n",
       "      <td>41.000000</td>\n",
       "      <td>61.000000</td>\n",
       "    </tr>\n",
       "    <tr>\n",
       "      <th>max</th>\n",
       "      <td>2016.000000</td>\n",
       "      <td>9.700000</td>\n",
       "      <td>6.210000</td>\n",
       "      <td>0.650000</td>\n",
       "      <td>2.420000</td>\n",
       "      <td>14.730000</td>\n",
       "      <td>98.000000</td>\n",
       "      <td>100.000000</td>\n",
       "      <td>9629.000000</td>\n",
       "    </tr>\n",
       "  </tbody>\n",
       "</table>\n",
       "</div>"
      ],
      "text/plain": [
       "       Year_of_Release    NA_Sales    EU_Sales    JP_Sales  Other_Sales  \\\n",
       "count       976.000000  985.000000  985.000000  985.000000   985.000000   \n",
       "mean       2007.315574    0.439178    0.219188    0.006812     0.076964   \n",
       "std           5.845428    0.899353    0.589623    0.042517     0.208207   \n",
       "min        1980.000000    0.000000    0.000000    0.000000     0.000000   \n",
       "25%        2005.000000    0.090000    0.010000    0.000000     0.010000   \n",
       "50%        2008.000000    0.190000    0.040000    0.000000     0.020000   \n",
       "75%        2011.000000    0.420000    0.170000    0.000000     0.050000   \n",
       "max        2016.000000    9.700000    6.210000    0.650000     2.420000   \n",
       "\n",
       "       Global_Sales  Critic_Score  Critic_Count   User_Count  \n",
       "count    985.000000    569.000000    569.000000   573.000000  \n",
       "mean       0.742294     69.667838     27.029877   211.874346  \n",
       "std        1.628710     13.842564     20.201385   809.452931  \n",
       "min        0.010000     26.000000      3.000000     4.000000  \n",
       "25%        0.120000     60.000000     11.000000     9.000000  \n",
       "50%        0.280000     72.000000     21.000000    19.000000  \n",
       "75%        0.630000     80.000000     41.000000    61.000000  \n",
       "max       14.730000     98.000000    100.000000  9629.000000  "
      ]
     },
     "execution_count": 51,
     "metadata": {},
     "output_type": "execute_result"
    }
   ],
   "source": [
    "# Isolating Microsoft Game Studios, Activision)\n",
    "# Did Ind. first to test and see individual publishers stats \n",
    "Activision_df = video_game_df.loc[(video_game_df['Publisher'] == \"Activision\")]\n",
    "Activision_df.describe()"
   ]
  },
  {
   "cell_type": "markdown",
   "metadata": {},
   "source": [
    "Cleaning up `video_game_df` removing missing data, filtering to containg only microsoft owned publishers (`Microsoft_Owned_Studios`), and adding visuals."
   ]
  },
  {
   "cell_type": "code",
   "execution_count": 52,
   "metadata": {},
   "outputs": [],
   "source": [
    "video_no_NaN = video_game_df.dropna(subset= ['Publisher']) #Dropped missing values"
   ]
  },
  {
   "cell_type": "code",
   "execution_count": 53,
   "metadata": {},
   "outputs": [
    {
     "data": {
      "text/plain": [
       "'FASA Interactive|Access Software|Bungie|Digital Anvil|Ensemble|Rare|Lionhead|Twisted Pixel|Press Play|Mojang|Ninja Theory|Undead Labs|Compulsion|Playground|inXile|Obsidian|Double Fine|ZeniMax|Activision|Bethesda|Microsoft'"
      ]
     },
     "execution_count": 53,
     "metadata": {},
     "output_type": "execute_result"
    }
   ],
   "source": [
    "('|'.join(Microsoft_Owned_Studios)) #Testing one of the filter taht will go in a .str.contains()"
   ]
  },
  {
   "cell_type": "markdown",
   "metadata": {},
   "source": [
    "`Total_Microsoft_Df` is a df that has been filtered to contain only the publishers wanted.  Output for below cell shows the publishers that are in `Total_Microsoft_Df`"
   ]
  },
  {
   "cell_type": "code",
   "execution_count": 54,
   "metadata": {},
   "outputs": [
    {
     "data": {
      "text/plain": [
       "Activision                985\n",
       "Microsoft Game Studios    191\n",
       "Bethesda Softworks         76\n",
       "Activision Value           29\n",
       "Mojang                      5\n",
       "inXile Entertainment        1\n",
       "Activision Blizzard         1\n",
       "Name: Publisher, dtype: int64"
      ]
     },
     "execution_count": 54,
     "metadata": {},
     "output_type": "execute_result"
    }
   ],
   "source": [
    "Total_Microsoft_Df=video_no_NaN.loc[video_no_NaN['Publisher'].str.contains('|'.join(Microsoft_Owned_Studios))]\n",
    "Total_Microsoft_Df['Publisher'].value_counts()"
   ]
  },
  {
   "cell_type": "markdown",
   "metadata": {},
   "source": [
    "Created data frames for `Top_20_GS`, `Top_20_NAS`, `Top_20_EUS`, and `TOP_20_JPS`."
   ]
  },
  {
   "cell_type": "code",
   "execution_count": 55,
   "metadata": {},
   "outputs": [
    {
     "data": {
      "text/html": [
       "<div>\n",
       "<style scoped>\n",
       "    .dataframe tbody tr th:only-of-type {\n",
       "        vertical-align: middle;\n",
       "    }\n",
       "\n",
       "    .dataframe tbody tr th {\n",
       "        vertical-align: top;\n",
       "    }\n",
       "\n",
       "    .dataframe thead th {\n",
       "        text-align: right;\n",
       "    }\n",
       "</style>\n",
       "<table border=\"1\" class=\"dataframe\">\n",
       "  <thead>\n",
       "    <tr style=\"text-align: right;\">\n",
       "      <th></th>\n",
       "      <th>Name</th>\n",
       "      <th>Year_of_Release</th>\n",
       "      <th>NA_Sales</th>\n",
       "      <th>EU_Sales</th>\n",
       "      <th>JP_Sales</th>\n",
       "      <th>Other_Sales</th>\n",
       "      <th>Global_Sales</th>\n",
       "      <th>Critic_Score</th>\n",
       "      <th>Critic_Count</th>\n",
       "      <th>User_Count</th>\n",
       "    </tr>\n",
       "  </thead>\n",
       "  <tbody>\n",
       "    <tr>\n",
       "      <th>0</th>\n",
       "      <td>Call of Duty: Black Ops</td>\n",
       "      <td>8040.0</td>\n",
       "      <td>17.57</td>\n",
       "      <td>9.35</td>\n",
       "      <td>0.59</td>\n",
       "      <td>3.31</td>\n",
       "      <td>30.82</td>\n",
       "      <td>410.0</td>\n",
       "      <td>214.0</td>\n",
       "      <td>4340.0</td>\n",
       "    </tr>\n",
       "    <tr>\n",
       "      <th>1</th>\n",
       "      <td>Call of Duty: Modern Warfare 3</td>\n",
       "      <td>8044.0</td>\n",
       "      <td>15.54</td>\n",
       "      <td>11.15</td>\n",
       "      <td>0.62</td>\n",
       "      <td>3.29</td>\n",
       "      <td>30.59</td>\n",
       "      <td>324.0</td>\n",
       "      <td>162.0</td>\n",
       "      <td>20053.0</td>\n",
       "    </tr>\n",
       "    <tr>\n",
       "      <th>2</th>\n",
       "      <td>Call of Duty: Black Ops II</td>\n",
       "      <td>8048.0</td>\n",
       "      <td>14.08</td>\n",
       "      <td>10.84</td>\n",
       "      <td>0.72</td>\n",
       "      <td>3.76</td>\n",
       "      <td>29.40</td>\n",
       "      <td>321.0</td>\n",
       "      <td>136.0</td>\n",
       "      <td>5041.0</td>\n",
       "    </tr>\n",
       "    <tr>\n",
       "      <th>3</th>\n",
       "      <td>Call of Duty: Ghosts</td>\n",
       "      <td>12078.0</td>\n",
       "      <td>14.94</td>\n",
       "      <td>8.89</td>\n",
       "      <td>0.48</td>\n",
       "      <td>3.08</td>\n",
       "      <td>27.40</td>\n",
       "      <td>369.0</td>\n",
       "      <td>101.0</td>\n",
       "      <td>5684.0</td>\n",
       "    </tr>\n",
       "    <tr>\n",
       "      <th>4</th>\n",
       "      <td>Call of Duty: Black Ops 3</td>\n",
       "      <td>10075.0</td>\n",
       "      <td>12.25</td>\n",
       "      <td>9.49</td>\n",
       "      <td>0.44</td>\n",
       "      <td>3.49</td>\n",
       "      <td>25.68</td>\n",
       "      <td>0.0</td>\n",
       "      <td>0.0</td>\n",
       "      <td>0.0</td>\n",
       "    </tr>\n",
       "    <tr>\n",
       "      <th>5</th>\n",
       "      <td>Call of Duty: Modern Warfare 2</td>\n",
       "      <td>6027.0</td>\n",
       "      <td>13.52</td>\n",
       "      <td>8.02</td>\n",
       "      <td>0.46</td>\n",
       "      <td>2.97</td>\n",
       "      <td>24.95</td>\n",
       "      <td>274.0</td>\n",
       "      <td>207.0</td>\n",
       "      <td>11201.0</td>\n",
       "    </tr>\n",
       "    <tr>\n",
       "      <th>6</th>\n",
       "      <td>Call of Duty: Advanced Warfare</td>\n",
       "      <td>10070.0</td>\n",
       "      <td>10.51</td>\n",
       "      <td>8.30</td>\n",
       "      <td>0.34</td>\n",
       "      <td>2.82</td>\n",
       "      <td>21.99</td>\n",
       "      <td>242.0</td>\n",
       "      <td>110.0</td>\n",
       "      <td>3905.0</td>\n",
       "    </tr>\n",
       "    <tr>\n",
       "      <th>7</th>\n",
       "      <td>Kinect Adventures!</td>\n",
       "      <td>2010.0</td>\n",
       "      <td>15.00</td>\n",
       "      <td>4.89</td>\n",
       "      <td>0.24</td>\n",
       "      <td>1.69</td>\n",
       "      <td>21.81</td>\n",
       "      <td>61.0</td>\n",
       "      <td>45.0</td>\n",
       "      <td>106.0</td>\n",
       "    </tr>\n",
       "    <tr>\n",
       "      <th>8</th>\n",
       "      <td>The Elder Scrolls V: Skyrim</td>\n",
       "      <td>10065.0</td>\n",
       "      <td>9.65</td>\n",
       "      <td>8.37</td>\n",
       "      <td>0.39</td>\n",
       "      <td>2.73</td>\n",
       "      <td>21.15</td>\n",
       "      <td>282.0</td>\n",
       "      <td>137.0</td>\n",
       "      <td>15189.0</td>\n",
       "    </tr>\n",
       "    <tr>\n",
       "      <th>9</th>\n",
       "      <td>Call of Duty 4: Modern Warfare</td>\n",
       "      <td>8028.0</td>\n",
       "      <td>9.99</td>\n",
       "      <td>5.75</td>\n",
       "      <td>0.42</td>\n",
       "      <td>2.04</td>\n",
       "      <td>18.19</td>\n",
       "      <td>355.0</td>\n",
       "      <td>176.0</td>\n",
       "      <td>4709.0</td>\n",
       "    </tr>\n",
       "    <tr>\n",
       "      <th>10</th>\n",
       "      <td>Guitar Hero III: Legends of Rock</td>\n",
       "      <td>8028.0</td>\n",
       "      <td>11.12</td>\n",
       "      <td>2.56</td>\n",
       "      <td>0.04</td>\n",
       "      <td>2.63</td>\n",
       "      <td>16.35</td>\n",
       "      <td>336.0</td>\n",
       "      <td>174.0</td>\n",
       "      <td>350.0</td>\n",
       "    </tr>\n",
       "    <tr>\n",
       "      <th>11</th>\n",
       "      <td>Call of Duty: World at War</td>\n",
       "      <td>10040.0</td>\n",
       "      <td>9.29</td>\n",
       "      <td>4.68</td>\n",
       "      <td>0.00</td>\n",
       "      <td>1.81</td>\n",
       "      <td>15.78</td>\n",
       "      <td>410.0</td>\n",
       "      <td>196.0</td>\n",
       "      <td>1808.0</td>\n",
       "    </tr>\n",
       "    <tr>\n",
       "      <th>12</th>\n",
       "      <td>Fallout 4</td>\n",
       "      <td>6045.0</td>\n",
       "      <td>5.55</td>\n",
       "      <td>5.26</td>\n",
       "      <td>0.25</td>\n",
       "      <td>1.61</td>\n",
       "      <td>12.67</td>\n",
       "      <td>259.0</td>\n",
       "      <td>135.0</td>\n",
       "      <td>13489.0</td>\n",
       "    </tr>\n",
       "    <tr>\n",
       "      <th>13</th>\n",
       "      <td>Minecraft</td>\n",
       "      <td>6043.0</td>\n",
       "      <td>7.59</td>\n",
       "      <td>3.72</td>\n",
       "      <td>0.20</td>\n",
       "      <td>1.10</td>\n",
       "      <td>12.62</td>\n",
       "      <td>0.0</td>\n",
       "      <td>0.0</td>\n",
       "      <td>0.0</td>\n",
       "    </tr>\n",
       "    <tr>\n",
       "      <th>14</th>\n",
       "      <td>Destiny</td>\n",
       "      <td>8056.0</td>\n",
       "      <td>6.62</td>\n",
       "      <td>3.98</td>\n",
       "      <td>0.28</td>\n",
       "      <td>1.66</td>\n",
       "      <td>12.55</td>\n",
       "      <td>151.0</td>\n",
       "      <td>106.0</td>\n",
       "      <td>8064.0</td>\n",
       "    </tr>\n",
       "    <tr>\n",
       "      <th>15</th>\n",
       "      <td>Halo 3</td>\n",
       "      <td>2007.0</td>\n",
       "      <td>7.97</td>\n",
       "      <td>2.81</td>\n",
       "      <td>0.13</td>\n",
       "      <td>1.21</td>\n",
       "      <td>12.12</td>\n",
       "      <td>94.0</td>\n",
       "      <td>86.0</td>\n",
       "      <td>4100.0</td>\n",
       "    </tr>\n",
       "    <tr>\n",
       "      <th>16</th>\n",
       "      <td>Diablo III</td>\n",
       "      <td>10066.0</td>\n",
       "      <td>4.93</td>\n",
       "      <td>4.52</td>\n",
       "      <td>0.21</td>\n",
       "      <td>1.29</td>\n",
       "      <td>10.94</td>\n",
       "      <td>261.0</td>\n",
       "      <td>171.0</td>\n",
       "      <td>10570.0</td>\n",
       "    </tr>\n",
       "    <tr>\n",
       "      <th>17</th>\n",
       "      <td>Guitar Hero: World Tour</td>\n",
       "      <td>8032.0</td>\n",
       "      <td>6.20</td>\n",
       "      <td>2.17</td>\n",
       "      <td>0.00</td>\n",
       "      <td>1.63</td>\n",
       "      <td>10.00</td>\n",
       "      <td>255.0</td>\n",
       "      <td>128.0</td>\n",
       "      <td>335.0</td>\n",
       "    </tr>\n",
       "    <tr>\n",
       "      <th>18</th>\n",
       "      <td>Halo: Reach</td>\n",
       "      <td>2010.0</td>\n",
       "      <td>7.04</td>\n",
       "      <td>1.95</td>\n",
       "      <td>0.08</td>\n",
       "      <td>0.79</td>\n",
       "      <td>9.86</td>\n",
       "      <td>91.0</td>\n",
       "      <td>99.0</td>\n",
       "      <td>2045.0</td>\n",
       "    </tr>\n",
       "    <tr>\n",
       "      <th>19</th>\n",
       "      <td>Fallout 3</td>\n",
       "      <td>6024.0</td>\n",
       "      <td>5.57</td>\n",
       "      <td>3.00</td>\n",
       "      <td>0.16</td>\n",
       "      <td>1.12</td>\n",
       "      <td>9.85</td>\n",
       "      <td>274.0</td>\n",
       "      <td>189.0</td>\n",
       "      <td>6015.0</td>\n",
       "    </tr>\n",
       "  </tbody>\n",
       "</table>\n",
       "</div>"
      ],
      "text/plain": [
       "                                Name  Year_of_Release  NA_Sales  EU_Sales  \\\n",
       "0            Call of Duty: Black Ops           8040.0     17.57      9.35   \n",
       "1     Call of Duty: Modern Warfare 3           8044.0     15.54     11.15   \n",
       "2         Call of Duty: Black Ops II           8048.0     14.08     10.84   \n",
       "3               Call of Duty: Ghosts          12078.0     14.94      8.89   \n",
       "4          Call of Duty: Black Ops 3          10075.0     12.25      9.49   \n",
       "5     Call of Duty: Modern Warfare 2           6027.0     13.52      8.02   \n",
       "6     Call of Duty: Advanced Warfare          10070.0     10.51      8.30   \n",
       "7                 Kinect Adventures!           2010.0     15.00      4.89   \n",
       "8        The Elder Scrolls V: Skyrim          10065.0      9.65      8.37   \n",
       "9     Call of Duty 4: Modern Warfare           8028.0      9.99      5.75   \n",
       "10  Guitar Hero III: Legends of Rock           8028.0     11.12      2.56   \n",
       "11        Call of Duty: World at War          10040.0      9.29      4.68   \n",
       "12                         Fallout 4           6045.0      5.55      5.26   \n",
       "13                         Minecraft           6043.0      7.59      3.72   \n",
       "14                           Destiny           8056.0      6.62      3.98   \n",
       "15                            Halo 3           2007.0      7.97      2.81   \n",
       "16                        Diablo III          10066.0      4.93      4.52   \n",
       "17           Guitar Hero: World Tour           8032.0      6.20      2.17   \n",
       "18                       Halo: Reach           2010.0      7.04      1.95   \n",
       "19                         Fallout 3           6024.0      5.57      3.00   \n",
       "\n",
       "    JP_Sales  Other_Sales  Global_Sales  Critic_Score  Critic_Count  \\\n",
       "0       0.59         3.31         30.82         410.0         214.0   \n",
       "1       0.62         3.29         30.59         324.0         162.0   \n",
       "2       0.72         3.76         29.40         321.0         136.0   \n",
       "3       0.48         3.08         27.40         369.0         101.0   \n",
       "4       0.44         3.49         25.68           0.0           0.0   \n",
       "5       0.46         2.97         24.95         274.0         207.0   \n",
       "6       0.34         2.82         21.99         242.0         110.0   \n",
       "7       0.24         1.69         21.81          61.0          45.0   \n",
       "8       0.39         2.73         21.15         282.0         137.0   \n",
       "9       0.42         2.04         18.19         355.0         176.0   \n",
       "10      0.04         2.63         16.35         336.0         174.0   \n",
       "11      0.00         1.81         15.78         410.0         196.0   \n",
       "12      0.25         1.61         12.67         259.0         135.0   \n",
       "13      0.20         1.10         12.62           0.0           0.0   \n",
       "14      0.28         1.66         12.55         151.0         106.0   \n",
       "15      0.13         1.21         12.12          94.0          86.0   \n",
       "16      0.21         1.29         10.94         261.0         171.0   \n",
       "17      0.00         1.63         10.00         255.0         128.0   \n",
       "18      0.08         0.79          9.86          91.0          99.0   \n",
       "19      0.16         1.12          9.85         274.0         189.0   \n",
       "\n",
       "    User_Count  \n",
       "0       4340.0  \n",
       "1      20053.0  \n",
       "2       5041.0  \n",
       "3       5684.0  \n",
       "4          0.0  \n",
       "5      11201.0  \n",
       "6       3905.0  \n",
       "7        106.0  \n",
       "8      15189.0  \n",
       "9       4709.0  \n",
       "10       350.0  \n",
       "11      1808.0  \n",
       "12     13489.0  \n",
       "13         0.0  \n",
       "14      8064.0  \n",
       "15      4100.0  \n",
       "16     10570.0  \n",
       "17       335.0  \n",
       "18      2045.0  \n",
       "19      6015.0  "
      ]
     },
     "execution_count": 55,
     "metadata": {},
     "output_type": "execute_result"
    }
   ],
   "source": [
    "Top_20_GS = Total_Microsoft_Df.groupby(\"Name\").sum().sort_values(by= 'Global_Sales', ascending = False).head(20).reset_index()\n",
    "Top_20_GS #Testing code.  \n",
    "#Noticed that the games platforms were spearating the sales so grouped by name so the individual games contain all of the values\n",
    "#per game"
   ]
  },
  {
   "cell_type": "code",
   "execution_count": 56,
   "metadata": {},
   "outputs": [],
   "source": [
    "Top_20_NAS = Total_Microsoft_Df.groupby(\"Name\").sum().sort_values(by= 'NA_Sales', ascending = False).head(20).reset_index()\n",
    "Top_20_EUS = Total_Microsoft_Df.groupby(\"Name\").sum().sort_values(by= 'EU_Sales', ascending = False).head(20).reset_index()\n",
    "Top_20_JPS = Total_Microsoft_Df.groupby(\"Name\").sum().sort_values(by= 'JP_Sales', ascending = False).head(20).reset_index()"
   ]
  },
  {
   "cell_type": "markdown",
   "metadata": {},
   "source": [
    "**Global Sales Vizualizations**"
   ]
  },
  {
   "cell_type": "code",
   "execution_count": 57,
   "metadata": {},
   "outputs": [
    {
     "data": {
      "image/png": "[encoded data removed]",
      "text/plain": [
       "<Figure size 1080x720 with 1 Axes>"
      ]
     },
     "metadata": {
      "needs_background": "light"
     },
     "output_type": "display_data"
    }
   ],
   "source": [
    "fig, ax = plt.subplots(figsize = (15,10))\n",
    "\n",
    "ax.invert_yaxis()\n",
    "\n",
    "ax.barh(y=Top_20_GS['Name'],\n",
    "       width=Top_20_GS['Global_Sales'],\n",
    "       color='purple')\n",
    "ax.set_title(\"\"\"Top 20 Global Sales as in 2016 by IP currently owned by Microsoft\"\"\")\n",
    "ax.set_xlabel(\"Sales in millions of units\")\n",
    "ax.set_ylabel(\"Game Name\");"
   ]
  },
  {
   "cell_type": "markdown",
   "metadata": {},
   "source": [
    "**NA Sales Vizualizations**"
   ]
  },
  {
   "cell_type": "code",
   "execution_count": 58,
   "metadata": {},
   "outputs": [
    {
     "data": {
      "image/png": "[encoded data removed]",
      "text/plain": [
       "<Figure size 1080x720 with 1 Axes>"
      ]
     },
     "metadata": {
      "needs_background": "light"
     },
     "output_type": "display_data"
    }
   ],
   "source": [
    "fig, ax = plt.subplots(figsize = (15,10))\n",
    "\n",
    "ax.invert_yaxis()\n",
    "\n",
    "ax.barh(y=Top_20_NAS['Name'],\n",
    "       width=Top_20_NAS['NA_Sales'],\n",
    "       color='purple')\n",
    "ax.set_title(\"\"\"Top 20 NA Sales as in 2016 by IP currently owned by Microsoft\"\"\")\n",
    "ax.set_xlabel(\"Sales in millions of units\")\n",
    "ax.set_ylabel(\"Game Name\");"
   ]
  },
  {
   "cell_type": "markdown",
   "metadata": {},
   "source": [
    "**EU Sales Vizualizations**"
   ]
  },
  {
   "cell_type": "code",
   "execution_count": 59,
   "metadata": {},
   "outputs": [
    {
     "data": {
      "image/png": "[encoded data removed]",
      "text/plain": [
       "<Figure size 1080x720 with 1 Axes>"
      ]
     },
     "metadata": {
      "needs_background": "light"
     },
     "output_type": "display_data"
    }
   ],
   "source": [
    "fig, ax = plt.subplots(figsize = (15,10))\n",
    "\n",
    "ax.invert_yaxis()\n",
    "\n",
    "ax.barh(y=Top_20_EUS['Name'],\n",
    "       width=Top_20_EUS['EU_Sales'],\n",
    "       color='purple')\n",
    "ax.set_title(\"\"\"Top 20 EU Sales as in 2016 by IP currently owned by Microsoft\"\"\")\n",
    "ax.set_xlabel(\"Sales in millions of units\")\n",
    "ax.set_ylabel(\"Game Name\");"
   ]
  },
  {
   "cell_type": "markdown",
   "metadata": {},
   "source": [
    "**JP Sales Vizualizations**"
   ]
  },
  {
   "cell_type": "code",
   "execution_count": 60,
   "metadata": {},
   "outputs": [
    {
     "data": {
      "image/png": "[encoded data removed]",
      "text/plain": [
       "<Figure size 1080x720 with 1 Axes>"
      ]
     },
     "metadata": {
      "needs_background": "light"
     },
     "output_type": "display_data"
    }
   ],
   "source": [
    "fig, ax = plt.subplots(figsize = (15,10))\n",
    "\n",
    "ax.invert_yaxis()\n",
    "\n",
    "ax.barh(y=Top_20_JPS['Name'],\n",
    "       width=Top_20_JPS['JP_Sales'],\n",
    "       color='purple')\n",
    "ax.set_title(\"\"\"Top 20 JP Sales as in 2016 by IP currently owned by Microsoft\"\"\")\n",
    "ax.set_xlabel(\"Sales in millions of units\")\n",
    "ax.set_ylabel(\"Game Name\");"
   ]
  },
  {
   "cell_type": "code",
   "execution_count": null,
   "metadata": {},
   "outputs": [],
   "source": []
  }
 ],
 "metadata": {
  "kernelspec": {
   "display_name": "Python (learn-env)",
   "language": "python",
   "name": "learn-env"
  },
  "language_info": {
   "codemirror_mode": {
    "name": "ipython",
    "version": 3
   },
   "file_extension": ".py",
   "mimetype": "text/x-python",
   "name": "python",
   "nbconvert_exporter": "python",
   "pygments_lexer": "ipython3",
   "version": "3.8.5"
  }
 },
 "nbformat": 4,
 "nbformat_minor": 4
}
