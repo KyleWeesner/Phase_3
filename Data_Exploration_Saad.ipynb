{
 "cells": [
  {
   "cell_type": "code",
   "execution_count": 1,
   "metadata": {
    "ExecuteTime": {
     "end_time": "2022-03-07T15:02:00.957743Z",
     "start_time": "2022-03-07T15:01:59.963766Z"
    }
   },
   "outputs": [],
   "source": [
    "import pandas as pd\n",
    "import numpy as np\n",
    "import matplotlib.pyplot as plt\n",
    "import zipfile \n",
    "import sqlite3\n",
    "%matplotlib inline"
   ]
  },
  {
   "cell_type": "code",
   "execution_count": 2,
   "metadata": {
    "ExecuteTime": {
     "end_time": "2022-03-07T15:02:01.037762Z",
     "start_time": "2022-03-07T15:02:00.958744Z"
    }
   },
   "outputs": [
    {
     "name": "stdout",
     "output_type": "stream",
     "text": [
      "<_io.TextIOWrapper name='data/rt.movie_info.tsv.gz' mode='r' encoding='cp1252'>\n",
      "<_io.TextIOWrapper name='data/rt.reviews.tsv.gz' mode='r' encoding='cp1252'>\n",
      "<_io.TextIOWrapper name='data/im.db.zip' mode='r' encoding='cp1252'>\n",
      "<_io.TextIOWrapper name='data/tmdb.movies.csv.gz' mode='r' encoding='cp1252'>\n",
      "<_io.TextIOWrapper name='data/tn.movie_budgets.csv.gz' mode='r' encoding='cp1252'>\n"
     ]
    }
   ],
   "source": [
    "with open('data/rt.movie_info.tsv.gz') as f:\n",
    "    print(f)\n",
    "with open('data/rt.reviews.tsv.gz') as f:\n",
    "    print(f)\n",
    "with open('data/im.db.zip') as f:\n",
    "    print(f)\n",
    "with open('data/tmdb.movies.csv.gz') as f:\n",
    "    print(f)\n",
    "with open('data/tn.movie_budgets.csv.gz') as f:\n",
    "    print(f)"
   ]
  },
  {
   "cell_type": "code",
   "execution_count": 3,
   "metadata": {
    "ExecuteTime": {
     "end_time": "2022-03-07T15:02:01.084773Z",
     "start_time": "2022-03-07T15:02:01.039762Z"
    },
    "scrolled": true
   },
   "outputs": [
    {
     "name": "stdout",
     "output_type": "stream",
     "text": [
      "<class 'pandas.core.frame.DataFrame'>\n",
      "RangeIndex: 1560 entries, 0 to 1559\n",
      "Data columns (total 13 columns):\n",
      " #   Column        Non-Null Count  Dtype \n",
      "---  ------        --------------  ----- \n",
      " 0   id            1560 non-null   int64 \n",
      " 1   synopsis      1498 non-null   object\n",
      " 2   rating        1557 non-null   object\n",
      " 3   genre         1552 non-null   object\n",
      " 4   director      1361 non-null   object\n",
      " 5   writer        1111 non-null   object\n",
      " 6   theater_date  1201 non-null   object\n",
      " 7   dvd_date      1201 non-null   object\n",
      " 8   currency      340 non-null    object\n",
      " 9   box_office    340 non-null    object\n",
      " 10  runtime       1530 non-null   object\n",
      " 11  studio        494 non-null    object\n",
      " 12  genre list    1552 non-null   object\n",
      "dtypes: int64(1), object(12)\n",
      "memory usage: 158.6+ KB\n"
     ]
    }
   ],
   "source": [
    "#Load movie info from Rotten Tomatoes\n",
    "rt_movie_df = pd.read_csv('data/rt.movie_info.tsv.gz',delimiter = '\\t')\n",
    "\n",
    "#Create list of genres for each record\n",
    "rt_movie_df['genre list'] = rt_movie_df['genre'].str.split('|')\n",
    "\n",
    "rt_movie_df.info()"
   ]
  },
  {
   "cell_type": "markdown",
   "metadata": {},
   "source": [
    "'currency' and 'box_office' columns are about 4/5 empty. Dropping these columns. Other datasets are complete and this data can be gathered from there instead"
   ]
  },
  {
   "cell_type": "code",
   "execution_count": 4,
   "metadata": {
    "ExecuteTime": {
     "end_time": "2022-03-07T15:02:01.100776Z",
     "start_time": "2022-03-07T15:02:01.085773Z"
    }
   },
   "outputs": [],
   "source": [
    "rt_movie_df.drop(['currency','box_office'], axis =1,inplace=True)"
   ]
  },
  {
   "cell_type": "code",
   "execution_count": 5,
   "metadata": {
    "ExecuteTime": {
     "end_time": "2022-03-07T15:02:01.116779Z",
     "start_time": "2022-03-07T15:02:01.101776Z"
    }
   },
   "outputs": [
    {
     "name": "stdout",
     "output_type": "stream",
     "text": [
      "<class 'pandas.core.frame.DataFrame'>\n",
      "RangeIndex: 1560 entries, 0 to 1559\n",
      "Data columns (total 11 columns):\n",
      " #   Column        Non-Null Count  Dtype \n",
      "---  ------        --------------  ----- \n",
      " 0   id            1560 non-null   int64 \n",
      " 1   synopsis      1498 non-null   object\n",
      " 2   rating        1557 non-null   object\n",
      " 3   genre         1552 non-null   object\n",
      " 4   director      1361 non-null   object\n",
      " 5   writer        1111 non-null   object\n",
      " 6   theater_date  1201 non-null   object\n",
      " 7   dvd_date      1201 non-null   object\n",
      " 8   runtime       1530 non-null   object\n",
      " 9   studio        494 non-null    object\n",
      " 10  genre list    1552 non-null   object\n",
      "dtypes: int64(1), object(10)\n",
      "memory usage: 134.2+ KB\n"
     ]
    }
   ],
   "source": [
    "rt_movie_df.info()"
   ]
  },
  {
   "cell_type": "code",
   "execution_count": 6,
   "metadata": {
    "ExecuteTime": {
     "end_time": "2022-03-07T15:02:01.324826Z",
     "start_time": "2022-03-07T15:02:01.117779Z"
    }
   },
   "outputs": [
    {
     "name": "stdout",
     "output_type": "stream",
     "text": [
      "<class 'pandas.core.frame.DataFrame'>\n",
      "RangeIndex: 54432 entries, 0 to 54431\n",
      "Data columns (total 8 columns):\n",
      " #   Column      Non-Null Count  Dtype \n",
      "---  ------      --------------  ----- \n",
      " 0   id          54432 non-null  int64 \n",
      " 1   review      48869 non-null  object\n",
      " 2   rating      40915 non-null  object\n",
      " 3   fresh       54432 non-null  object\n",
      " 4   critic      51710 non-null  object\n",
      " 5   top_critic  54432 non-null  int64 \n",
      " 6   publisher   54123 non-null  object\n",
      " 7   date        54432 non-null  object\n",
      "dtypes: int64(2), object(6)\n",
      "memory usage: 3.3+ MB\n"
     ]
    }
   ],
   "source": [
    "#Load review info from Rotten Tomatoes\n",
    "rt_review_df = pd.read_csv('data/rt.reviews.tsv.gz',delimiter='\\t',encoding = 'unicode_escape')\n",
    "rt_review_df.info()"
   ]
  },
  {
   "cell_type": "code",
   "execution_count": 7,
   "metadata": {
    "ExecuteTime": {
     "end_time": "2022-03-07T15:02:02.122007Z",
     "start_time": "2022-03-07T15:02:01.325827Z"
    }
   },
   "outputs": [],
   "source": [
    "#Extract imdb sql DB\n",
    "with zipfile.ZipFile('data/im.db.zip', 'r') as zipObj:\n",
    "   # Extract all the contents of zip file in current directory\n",
    "   zipObj.extractall(path='data/')"
   ]
  },
  {
   "cell_type": "code",
   "execution_count": 8,
   "metadata": {
    "ExecuteTime": {
     "end_time": "2022-03-07T15:02:02.281043Z",
     "start_time": "2022-03-07T15:02:02.124007Z"
    }
   },
   "outputs": [
    {
     "data": {
      "text/html": [
       "<div>\n",
       "<style scoped>\n",
       "    .dataframe tbody tr th:only-of-type {\n",
       "        vertical-align: middle;\n",
       "    }\n",
       "\n",
       "    .dataframe tbody tr th {\n",
       "        vertical-align: top;\n",
       "    }\n",
       "\n",
       "    .dataframe thead th {\n",
       "        text-align: right;\n",
       "    }\n",
       "</style>\n",
       "<table border=\"1\" class=\"dataframe\">\n",
       "  <thead>\n",
       "    <tr style=\"text-align: right;\">\n",
       "      <th></th>\n",
       "      <th>type</th>\n",
       "      <th>name</th>\n",
       "      <th>tbl_name</th>\n",
       "      <th>rootpage</th>\n",
       "      <th>sql</th>\n",
       "    </tr>\n",
       "  </thead>\n",
       "  <tbody>\n",
       "    <tr>\n",
       "      <th>0</th>\n",
       "      <td>table</td>\n",
       "      <td>movie_basics</td>\n",
       "      <td>movie_basics</td>\n",
       "      <td>2</td>\n",
       "      <td>CREATE TABLE \"movie_basics\" (\\n\"movie_id\" TEXT...</td>\n",
       "    </tr>\n",
       "    <tr>\n",
       "      <th>1</th>\n",
       "      <td>table</td>\n",
       "      <td>directors</td>\n",
       "      <td>directors</td>\n",
       "      <td>3</td>\n",
       "      <td>CREATE TABLE \"directors\" (\\n\"movie_id\" TEXT,\\n...</td>\n",
       "    </tr>\n",
       "    <tr>\n",
       "      <th>2</th>\n",
       "      <td>table</td>\n",
       "      <td>known_for</td>\n",
       "      <td>known_for</td>\n",
       "      <td>4</td>\n",
       "      <td>CREATE TABLE \"known_for\" (\\n\"person_id\" TEXT,\\...</td>\n",
       "    </tr>\n",
       "    <tr>\n",
       "      <th>3</th>\n",
       "      <td>table</td>\n",
       "      <td>movie_akas</td>\n",
       "      <td>movie_akas</td>\n",
       "      <td>5</td>\n",
       "      <td>CREATE TABLE \"movie_akas\" (\\n\"movie_id\" TEXT,\\...</td>\n",
       "    </tr>\n",
       "    <tr>\n",
       "      <th>4</th>\n",
       "      <td>table</td>\n",
       "      <td>movie_ratings</td>\n",
       "      <td>movie_ratings</td>\n",
       "      <td>6</td>\n",
       "      <td>CREATE TABLE \"movie_ratings\" (\\n\"movie_id\" TEX...</td>\n",
       "    </tr>\n",
       "    <tr>\n",
       "      <th>5</th>\n",
       "      <td>table</td>\n",
       "      <td>persons</td>\n",
       "      <td>persons</td>\n",
       "      <td>7</td>\n",
       "      <td>CREATE TABLE \"persons\" (\\n\"person_id\" TEXT,\\n ...</td>\n",
       "    </tr>\n",
       "    <tr>\n",
       "      <th>6</th>\n",
       "      <td>table</td>\n",
       "      <td>principals</td>\n",
       "      <td>principals</td>\n",
       "      <td>8</td>\n",
       "      <td>CREATE TABLE \"principals\" (\\n\"movie_id\" TEXT,\\...</td>\n",
       "    </tr>\n",
       "    <tr>\n",
       "      <th>7</th>\n",
       "      <td>table</td>\n",
       "      <td>writers</td>\n",
       "      <td>writers</td>\n",
       "      <td>9</td>\n",
       "      <td>CREATE TABLE \"writers\" (\\n\"movie_id\" TEXT,\\n  ...</td>\n",
       "    </tr>\n",
       "  </tbody>\n",
       "</table>\n",
       "</div>"
      ],
      "text/plain": [
       "    type           name       tbl_name  rootpage  \\\n",
       "0  table   movie_basics   movie_basics         2   \n",
       "1  table      directors      directors         3   \n",
       "2  table      known_for      known_for         4   \n",
       "3  table     movie_akas     movie_akas         5   \n",
       "4  table  movie_ratings  movie_ratings         6   \n",
       "5  table        persons        persons         7   \n",
       "6  table     principals     principals         8   \n",
       "7  table        writers        writers         9   \n",
       "\n",
       "                                                 sql  \n",
       "0  CREATE TABLE \"movie_basics\" (\\n\"movie_id\" TEXT...  \n",
       "1  CREATE TABLE \"directors\" (\\n\"movie_id\" TEXT,\\n...  \n",
       "2  CREATE TABLE \"known_for\" (\\n\"person_id\" TEXT,\\...  \n",
       "3  CREATE TABLE \"movie_akas\" (\\n\"movie_id\" TEXT,\\...  \n",
       "4  CREATE TABLE \"movie_ratings\" (\\n\"movie_id\" TEX...  \n",
       "5  CREATE TABLE \"persons\" (\\n\"person_id\" TEXT,\\n ...  \n",
       "6  CREATE TABLE \"principals\" (\\n\"movie_id\" TEXT,\\...  \n",
       "7  CREATE TABLE \"writers\" (\\n\"movie_id\" TEXT,\\n  ...  "
      ]
     },
     "execution_count": 8,
     "metadata": {},
     "output_type": "execute_result"
    }
   ],
   "source": [
    "#Connect to IMDB DB and get schema\n",
    "con = sqlite3.connect('data/im.db')\n",
    "pd.read_sql(\"\"\"\n",
    "\n",
    "SELECT *\n",
    "FROM sqlite_master\n",
    "\n",
    "\"\"\",con)"
   ]
  },
  {
   "cell_type": "code",
   "execution_count": 9,
   "metadata": {
    "ExecuteTime": {
     "end_time": "2022-03-07T15:02:02.359191Z",
     "start_time": "2022-03-07T15:02:02.283043Z"
    }
   },
   "outputs": [
    {
     "name": "stdout",
     "output_type": "stream",
     "text": [
      "<class 'pandas.core.frame.DataFrame'>\n",
      "RangeIndex: 26517 entries, 0 to 26516\n",
      "Data columns (total 10 columns):\n",
      " #   Column             Non-Null Count  Dtype  \n",
      "---  ------             --------------  -----  \n",
      " 0   Unnamed: 0         26517 non-null  int64  \n",
      " 1   genre_ids          26517 non-null  object \n",
      " 2   id                 26517 non-null  int64  \n",
      " 3   original_language  26517 non-null  object \n",
      " 4   original_title     26517 non-null  object \n",
      " 5   popularity         26517 non-null  float64\n",
      " 6   release_date       26517 non-null  object \n",
      " 7   title              26517 non-null  object \n",
      " 8   vote_average       26517 non-null  float64\n",
      " 9   vote_count         26517 non-null  int64  \n",
      "dtypes: float64(2), int64(3), object(5)\n",
      "memory usage: 2.0+ MB\n"
     ]
    }
   ],
   "source": [
    "#Load 'The Movie DB' dataset\n",
    "tmdb_df = pd.read_csv('./data/tmdb.movies.csv.gz')\n",
    "tmdb_df.info()"
   ]
  },
  {
   "cell_type": "code",
   "execution_count": 10,
   "metadata": {
    "ExecuteTime": {
     "end_time": "2022-03-07T15:02:02.391067Z",
     "start_time": "2022-03-07T15:02:02.361060Z"
    },
    "scrolled": true
   },
   "outputs": [
    {
     "name": "stdout",
     "output_type": "stream",
     "text": [
      "<class 'pandas.core.frame.DataFrame'>\n",
      "RangeIndex: 5782 entries, 0 to 5781\n",
      "Data columns (total 6 columns):\n",
      " #   Column             Non-Null Count  Dtype \n",
      "---  ------             --------------  ----- \n",
      " 0   id                 5782 non-null   int64 \n",
      " 1   release_date       5782 non-null   object\n",
      " 2   movie              5782 non-null   object\n",
      " 3   production_budget  5782 non-null   object\n",
      " 4   domestic_gross     5782 non-null   object\n",
      " 5   worldwide_gross    5782 non-null   object\n",
      "dtypes: int64(1), object(5)\n",
      "memory usage: 271.2+ KB\n"
     ]
    }
   ],
   "source": [
    "#Load 'The Numbers' dataset\n",
    "tn_df = pd.read_csv('./data/tn.movie_budgets.csv.gz')\n",
    "tn_df.info()"
   ]
  },
  {
   "cell_type": "markdown",
   "metadata": {},
   "source": [
    "# Creating a master revenue dataset"
   ]
  },
  {
   "cell_type": "markdown",
   "metadata": {},
   "source": [
    "### Working with dataset from 'The-Numbers.com'\n",
    " The dataset has no null values and includes columns for production_budget, domestic_gross and worldwide_gross however, they are all strings. First lets confirm that all numbers are dealing in the same currency ('$')\n"
   ]
  },
  {
   "cell_type": "code",
   "execution_count": 11,
   "metadata": {
    "ExecuteTime": {
     "end_time": "2022-03-07T15:02:02.407070Z",
     "start_time": "2022-03-07T15:02:02.393067Z"
    },
    "scrolled": true
   },
   "outputs": [
    {
     "name": "stdout",
     "output_type": "stream",
     "text": [
      "<class 'pandas.core.frame.DataFrame'>\n",
      "RangeIndex: 5782 entries, 0 to 5781\n",
      "Data columns (total 6 columns):\n",
      " #   Column             Non-Null Count  Dtype \n",
      "---  ------             --------------  ----- \n",
      " 0   id                 5782 non-null   int64 \n",
      " 1   release_date       5782 non-null   object\n",
      " 2   movie              5782 non-null   object\n",
      " 3   production_budget  5782 non-null   object\n",
      " 4   domestic_gross     5782 non-null   object\n",
      " 5   worldwide_gross    5782 non-null   object\n",
      "dtypes: int64(1), object(5)\n",
      "memory usage: 271.2+ KB\n"
     ]
    }
   ],
   "source": [
    "tn_df.info()"
   ]
  },
  {
   "cell_type": "code",
   "execution_count": 12,
   "metadata": {
    "ExecuteTime": {
     "end_time": "2022-03-07T15:02:02.439078Z",
     "start_time": "2022-03-07T15:02:02.409071Z"
    },
    "scrolled": true
   },
   "outputs": [
    {
     "name": "stdout",
     "output_type": "stream",
     "text": [
      "Is the production budget in dollars for all records?:  True\n",
      "Is the domestic gross in dollars for all records?:  True\n",
      "Is the worldwide gross in dollars for all records?:  True\n"
     ]
    }
   ],
   "source": [
    "print(\"Is the production budget in dollars for all records?: \",tn_df['worldwide_gross'].str.startswith('$').sum() == len(tn_df))\n",
    "print(\"Is the domestic gross in dollars for all records?: \",tn_df['domestic_gross'].str.startswith('$').sum() == len(tn_df))\n",
    "print(\"Is the worldwide gross in dollars for all records?: \",tn_df['worldwide_gross'].str.startswith('$').sum() == len(tn_df))"
   ]
  },
  {
   "cell_type": "markdown",
   "metadata": {},
   "source": [
    "It looks all the business related data is in dollars. We can safely convert all the numbers without having to do any currency conversions. To ensure we don't lose track, a currency column is created to include the \"$\" symbol and all numbers are then proceeded to be converted to floats"
   ]
  },
  {
   "cell_type": "code",
   "execution_count": 13,
   "metadata": {
    "ExecuteTime": {
     "end_time": "2022-03-07T15:02:02.471085Z",
     "start_time": "2022-03-07T15:02:02.441079Z"
    }
   },
   "outputs": [],
   "source": [
    "#Converting production buget, domestic gross, worldwide gross to numbers, Add currency unit column as a reminder \n",
    "#numbers are in $\n",
    "tn_df['currency'] = '$'\n",
    "tn_df['production_budget'] = tn_df['production_budget'].str.replace(',','').str.replace('$','').astype(int)\n",
    "tn_df['domestic_gross'] = tn_df['domestic_gross'].str.replace(',','').str.replace('$','').astype(int)\n",
    "tn_df['worldwide_gross'] = tn_df['worldwide_gross'].str.replace(',','').str.replace('$','').astype('int64')"
   ]
  },
  {
   "cell_type": "markdown",
   "metadata": {},
   "source": [
    "Using these we can generate overall profit a movie has made and also generate a hit/flop column for each movie\n",
    "\n",
    " Note: Worldwide gross constitutes domestic gross"
   ]
  },
  {
   "cell_type": "code",
   "execution_count": 14,
   "metadata": {
    "ExecuteTime": {
     "end_time": "2022-03-07T15:02:02.487088Z",
     "start_time": "2022-03-07T15:02:02.473085Z"
    }
   },
   "outputs": [],
   "source": [
    "#Adding net revenue column and a foreign gross column\n",
    "tn_df['foreign_gross'] = tn_df['worldwide_gross'] - tn_df['domestic_gross']\n",
    "tn_df['net_revenue'] = tn_df['worldwide_gross'] - tn_df['production_budget']"
   ]
  },
  {
   "cell_type": "markdown",
   "metadata": {},
   "source": [
    "Converting release_date to date time"
   ]
  },
  {
   "cell_type": "code",
   "execution_count": 15,
   "metadata": {
    "ExecuteTime": {
     "end_time": "2022-03-07T15:02:02.980239Z",
     "start_time": "2022-03-07T15:02:02.488089Z"
    }
   },
   "outputs": [],
   "source": [
    "tn_df['release_date'] = pd.to_datetime(tn_df['release_date'])\n",
    "tn_df['release_year'] = tn_df['release_date'].dt.year\n",
    "tn_df['release_month'] = tn_df['release_date'].dt.month\n",
    "tn_df['release_day'] = tn_df['release_date'].dt.day"
   ]
  },
  {
   "cell_type": "markdown",
   "metadata": {},
   "source": [
    "Creating a key on which joins and merges will be made. This will be a string comprising the movie title and the release year."
   ]
  },
  {
   "cell_type": "code",
   "execution_count": 16,
   "metadata": {
    "ExecuteTime": {
     "end_time": "2022-03-07T15:02:02.995203Z",
     "start_time": "2022-03-07T15:02:02.982200Z"
    }
   },
   "outputs": [],
   "source": [
    "tn_df['merge_key'] = tn_df['movie'] + \" (\"+ tn_df['release_date'].dt.year.astype(str)+\")\""
   ]
  },
  {
   "cell_type": "markdown",
   "metadata": {},
   "source": [
    "Limiting data to post 2010. This will help us to value recent trends "
   ]
  },
  {
   "cell_type": "code",
   "execution_count": 17,
   "metadata": {
    "ExecuteTime": {
     "end_time": "2022-03-07T15:02:03.010558Z",
     "start_time": "2022-03-07T15:02:02.996204Z"
    }
   },
   "outputs": [],
   "source": [
    "last_10yrs_df = tn_df[tn_df['release_year']>2010]"
   ]
  },
  {
   "cell_type": "code",
   "execution_count": 18,
   "metadata": {
    "ExecuteTime": {
     "end_time": "2022-03-07T15:02:03.294113Z",
     "start_time": "2022-03-07T15:02:03.011559Z"
    },
    "scrolled": true
   },
   "outputs": [
    {
     "data": {
      "image/png": "[encoded data removed]",
      "text/plain": [
       "<Figure size 1080x360 with 2 Axes>"
      ]
     },
     "metadata": {
      "needs_background": "light"
     },
     "output_type": "display_data"
    }
   ],
   "source": [
    "fig,ax = plt.subplots(1,2,figsize = (15,5))\n",
    "\n",
    "ax[0].scatter(x = last_10yrs_df['production_budget'], y = last_10yrs_df['worldwide_gross'])\n",
    "ax[0].set_xlabel('Production Budget')\n",
    "ax[0].set_ylabel('Worldwide Gross')\n",
    "ax[0].set_title('Gross vs Production Budget post 2010');\n",
    "\n",
    "ax[1].scatter(x = last_10yrs_df['production_budget'], y = last_10yrs_df['net_revenue'])\n",
    "ax[1].set_xlabel('Production Budget')\n",
    "ax[1].set_ylabel('Profit')\n",
    "ax[1].set_title('Net vs Production Budget post 2010');"
   ]
  },
  {
   "cell_type": "code",
   "execution_count": 19,
   "metadata": {
    "ExecuteTime": {
     "end_time": "2022-03-07T15:02:07.674785Z",
     "start_time": "2022-03-07T15:02:03.295113Z"
    }
   },
   "outputs": [
    {
     "data": {
      "image/png": "[encoded data removed]",
      "text/plain": [
       "<Figure size 1080x360 with 2 Axes>"
      ]
     },
     "metadata": {
      "needs_background": "light"
     },
     "output_type": "display_data"
    }
   ],
   "source": [
    "fig,ax = plt.subplots(1,2,figsize = (15,5))\n",
    "\n",
    "ax[0].bar(x = last_10yrs_df['release_month'], height = last_10yrs_df['worldwide_gross'])\n",
    "ax[0].set_xlabel('Month of Release')\n",
    "ax[0].set_ylabel('Worldwide Gross')\n",
    "ax[0].set_title('Gross Performance by month of Release post 2010');\n",
    "\n",
    "ax[1].bar(x = last_10yrs_df['release_month'], height = last_10yrs_df['net_revenue'])\n",
    "ax[1].set_xlabel('Month of Release')\n",
    "ax[1].set_ylabel('Net Revenue')\n",
    "ax[1].set_title('Net Performance by month of Release post 2010');"
   ]
  },
  {
   "cell_type": "code",
   "execution_count": 20,
   "metadata": {
    "ExecuteTime": {
     "end_time": "2022-03-07T15:02:07.689789Z",
     "start_time": "2022-03-07T15:02:07.676786Z"
    },
    "scrolled": true
   },
   "outputs": [
    {
     "name": "stdout",
     "output_type": "stream",
     "text": [
      "<class 'pandas.core.frame.DataFrame'>\n",
      "RangeIndex: 5782 entries, 0 to 5781\n",
      "Data columns (total 13 columns):\n",
      " #   Column             Non-Null Count  Dtype         \n",
      "---  ------             --------------  -----         \n",
      " 0   id                 5782 non-null   int64         \n",
      " 1   release_date       5782 non-null   datetime64[ns]\n",
      " 2   movie              5782 non-null   object        \n",
      " 3   production_budget  5782 non-null   int32         \n",
      " 4   domestic_gross     5782 non-null   int32         \n",
      " 5   worldwide_gross    5782 non-null   int64         \n",
      " 6   currency           5782 non-null   object        \n",
      " 7   foreign_gross      5782 non-null   int64         \n",
      " 8   net_revenue        5782 non-null   int64         \n",
      " 9   release_year       5782 non-null   int64         \n",
      " 10  release_month      5782 non-null   int64         \n",
      " 11  release_day        5782 non-null   int64         \n",
      " 12  merge_key          5782 non-null   object        \n",
      "dtypes: datetime64[ns](1), int32(2), int64(7), object(3)\n",
      "memory usage: 542.2+ KB\n"
     ]
    }
   ],
   "source": [
    "tn_df.info()"
   ]
  },
  {
   "cell_type": "markdown",
   "metadata": {},
   "source": [
    "### Working with the BoxOfficeMojo dataset\n",
    "Loading the boxofficemojo.com dataset"
   ]
  },
  {
   "cell_type": "code",
   "execution_count": 21,
   "metadata": {
    "ExecuteTime": {
     "end_time": "2022-03-07T15:02:07.720796Z",
     "start_time": "2022-03-07T15:02:07.690790Z"
    }
   },
   "outputs": [
    {
     "name": "stdout",
     "output_type": "stream",
     "text": [
      "<class 'pandas.core.frame.DataFrame'>\n",
      "RangeIndex: 3387 entries, 0 to 3386\n",
      "Data columns (total 5 columns):\n",
      " #   Column          Non-Null Count  Dtype  \n",
      "---  ------          --------------  -----  \n",
      " 0   title           3387 non-null   object \n",
      " 1   studio          3382 non-null   object \n",
      " 2   domestic_gross  3359 non-null   float64\n",
      " 3   foreign_gross   2037 non-null   object \n",
      " 4   year            3387 non-null   int64  \n",
      "dtypes: float64(1), int64(1), object(3)\n",
      "memory usage: 132.4+ KB\n"
     ]
    }
   ],
   "source": [
    "box_office_df = pd.read_csv('./data/bom.movie_gross.csv.gz')\n",
    "box_office_df.info()"
   ]
  },
  {
   "cell_type": "markdown",
   "metadata": {},
   "source": [
    "There are a few empty values in the studio column. Filling these with 'Unknown'."
   ]
  },
  {
   "cell_type": "code",
   "execution_count": 22,
   "metadata": {
    "ExecuteTime": {
     "end_time": "2022-03-07T15:02:07.736800Z",
     "start_time": "2022-03-07T15:02:07.721797Z"
    }
   },
   "outputs": [],
   "source": [
    "box_office_df['studio'] = box_office_df['studio'].fillna('Unknown') "
   ]
  },
  {
   "cell_type": "markdown",
   "metadata": {},
   "source": [
    "Note there are a few empty values in the domestic and foreign gross columns. We'll have to employ slightly different approaches to these datas. \n",
    "\n",
    "Create new columns to prevent writing over data.\n",
    "na values in domestic gross will be replaced with 0\n",
    "na values in foreign gross will be replaced with 0 as well. Note however that numbers in foreign sometimes include a ','. Specifically 5 records hold such values. "
   ]
  },
  {
   "cell_type": "code",
   "execution_count": 23,
   "metadata": {
    "ExecuteTime": {
     "end_time": "2022-03-07T15:02:07.752803Z",
     "start_time": "2022-03-07T15:02:07.738800Z"
    },
    "scrolled": true
   },
   "outputs": [
    {
     "data": {
      "text/html": [
       "<div>\n",
       "<style scoped>\n",
       "    .dataframe tbody tr th:only-of-type {\n",
       "        vertical-align: middle;\n",
       "    }\n",
       "\n",
       "    .dataframe tbody tr th {\n",
       "        vertical-align: top;\n",
       "    }\n",
       "\n",
       "    .dataframe thead th {\n",
       "        text-align: right;\n",
       "    }\n",
       "</style>\n",
       "<table border=\"1\" class=\"dataframe\">\n",
       "  <thead>\n",
       "    <tr style=\"text-align: right;\">\n",
       "      <th></th>\n",
       "      <th>title</th>\n",
       "      <th>studio</th>\n",
       "      <th>domestic_gross</th>\n",
       "      <th>foreign_gross</th>\n",
       "      <th>year</th>\n",
       "    </tr>\n",
       "  </thead>\n",
       "  <tbody>\n",
       "    <tr>\n",
       "      <th>1872</th>\n",
       "      <td>Star Wars: The Force Awakens</td>\n",
       "      <td>BV</td>\n",
       "      <td>936700000.0</td>\n",
       "      <td>1,131.6</td>\n",
       "      <td>2015</td>\n",
       "    </tr>\n",
       "    <tr>\n",
       "      <th>1873</th>\n",
       "      <td>Jurassic World</td>\n",
       "      <td>Uni.</td>\n",
       "      <td>652300000.0</td>\n",
       "      <td>1,019.4</td>\n",
       "      <td>2015</td>\n",
       "    </tr>\n",
       "    <tr>\n",
       "      <th>1874</th>\n",
       "      <td>Furious 7</td>\n",
       "      <td>Uni.</td>\n",
       "      <td>353000000.0</td>\n",
       "      <td>1,163.0</td>\n",
       "      <td>2015</td>\n",
       "    </tr>\n",
       "    <tr>\n",
       "      <th>2760</th>\n",
       "      <td>The Fate of the Furious</td>\n",
       "      <td>Uni.</td>\n",
       "      <td>226000000.0</td>\n",
       "      <td>1,010.0</td>\n",
       "      <td>2017</td>\n",
       "    </tr>\n",
       "    <tr>\n",
       "      <th>3079</th>\n",
       "      <td>Avengers: Infinity War</td>\n",
       "      <td>BV</td>\n",
       "      <td>678800000.0</td>\n",
       "      <td>1,369.5</td>\n",
       "      <td>2018</td>\n",
       "    </tr>\n",
       "  </tbody>\n",
       "</table>\n",
       "</div>"
      ],
      "text/plain": [
       "                             title studio  domestic_gross foreign_gross  year\n",
       "1872  Star Wars: The Force Awakens     BV     936700000.0       1,131.6  2015\n",
       "1873                Jurassic World   Uni.     652300000.0       1,019.4  2015\n",
       "1874                     Furious 7   Uni.     353000000.0       1,163.0  2015\n",
       "2760       The Fate of the Furious   Uni.     226000000.0       1,010.0  2017\n",
       "3079        Avengers: Infinity War     BV     678800000.0       1,369.5  2018"
      ]
     },
     "execution_count": 23,
     "metadata": {},
     "output_type": "execute_result"
    }
   ],
   "source": [
    "box_office_df[box_office_df['foreign_gross'].fillna('0').str.contains(',')]"
   ]
  },
  {
   "cell_type": "markdown",
   "metadata": {
    "ExecuteTime": {
     "end_time": "2022-03-07T03:09:22.264368Z",
     "start_time": "2022-03-07T03:09:22.257374Z"
    }
   },
   "source": [
    "These values will need to be multiplied by 10^6 to match with the rest of the revenue data"
   ]
  },
  {
   "cell_type": "code",
   "execution_count": 24,
   "metadata": {
    "ExecuteTime": {
     "end_time": "2022-03-07T15:02:07.768807Z",
     "start_time": "2022-03-07T15:02:07.753804Z"
    }
   },
   "outputs": [],
   "source": [
    "box_office_df['domestic_gross'] = box_office_df['domestic_gross'].fillna(0) \n",
    "box_office_df['foreign_gross'] = box_office_df['foreign_gross'].fillna('0')\n",
    "box_office_df['foreign_gross'] = box_office_df['foreign_gross'].map(lambda x: \n",
    "                                                                            float(x) if ',' not in x\n",
    "                                                                            else float(x.replace(',',''))*1000000).astype(int)"
   ]
  },
  {
   "cell_type": "code",
   "execution_count": 25,
   "metadata": {
    "ExecuteTime": {
     "end_time": "2022-03-07T15:02:07.784810Z",
     "start_time": "2022-03-07T15:02:07.770807Z"
    }
   },
   "outputs": [
    {
     "data": {
      "text/plain": [
       "0"
      ]
     },
     "execution_count": 25,
     "metadata": {},
     "output_type": "execute_result"
    }
   ],
   "source": [
    "len(box_office_df[box_office_df['domestic_gross'].isna() & box_office_df['foreign_gross'].isna()])"
   ]
  },
  {
   "cell_type": "code",
   "execution_count": 26,
   "metadata": {
    "ExecuteTime": {
     "end_time": "2022-03-07T15:02:07.800818Z",
     "start_time": "2022-03-07T15:02:07.785811Z"
    }
   },
   "outputs": [],
   "source": [
    "box_office_df.rename(columns={'domestic_gross':'domestic_gross_bom','foreign_gross':'foreign_gross_bom',},inplace=True)"
   ]
  },
  {
   "cell_type": "markdown",
   "metadata": {},
   "source": [
    "Creating a key on which joins and merges will be made. This will be a string comprising the movie title and the release year."
   ]
  },
  {
   "cell_type": "code",
   "execution_count": 27,
   "metadata": {
    "ExecuteTime": {
     "end_time": "2022-03-07T15:02:07.816822Z",
     "start_time": "2022-03-07T15:02:07.801819Z"
    }
   },
   "outputs": [],
   "source": [
    "box_office_df['merge_key'] = box_office_df['title'] + \" (\"+ box_office_df['year'].astype(str)+\")\""
   ]
  },
  {
   "cell_type": "code",
   "execution_count": 28,
   "metadata": {
    "ExecuteTime": {
     "end_time": "2022-03-07T15:02:07.832826Z",
     "start_time": "2022-03-07T15:02:07.817822Z"
    },
    "scrolled": false
   },
   "outputs": [
    {
     "name": "stdout",
     "output_type": "stream",
     "text": [
      "<class 'pandas.core.frame.DataFrame'>\n",
      "RangeIndex: 3387 entries, 0 to 3386\n",
      "Data columns (total 6 columns):\n",
      " #   Column              Non-Null Count  Dtype  \n",
      "---  ------              --------------  -----  \n",
      " 0   title               3387 non-null   object \n",
      " 1   studio              3387 non-null   object \n",
      " 2   domestic_gross_bom  3387 non-null   float64\n",
      " 3   foreign_gross_bom   3387 non-null   int32  \n",
      " 4   year                3387 non-null   int64  \n",
      " 5   merge_key           3387 non-null   object \n",
      "dtypes: float64(1), int32(1), int64(1), object(3)\n",
      "memory usage: 145.7+ KB\n"
     ]
    }
   ],
   "source": [
    "box_office_df.info()"
   ]
  },
  {
   "cell_type": "markdown",
   "metadata": {},
   "source": [
    "## Making a master DF for revenue\n",
    "### Merging datasets from the-numbers.com and boxofficemojo.com"
   ]
  },
  {
   "cell_type": "code",
   "execution_count": 29,
   "metadata": {
    "ExecuteTime": {
     "end_time": "2022-03-07T15:02:07.848829Z",
     "start_time": "2022-03-07T15:02:07.834826Z"
    },
    "scrolled": true
   },
   "outputs": [],
   "source": [
    "tn_df.rename(columns={'production_budget':'budget_thenum','domestic_gross':'domestic_gross_thenum',\n",
    "                      'worldwide_gross':'worldwide_gross_thenum',\n",
    "                     'foreign_gross':'foreign_gross_thenum','net_revenue':'net_revenue_thenum'},inplace=True)"
   ]
  },
  {
   "cell_type": "code",
   "execution_count": 30,
   "metadata": {
    "ExecuteTime": {
     "end_time": "2022-03-07T15:02:07.864156Z",
     "start_time": "2022-03-07T15:02:07.849829Z"
    }
   },
   "outputs": [],
   "source": [
    "final = tn_df.merge(box_office_df, how='inner', left_on = 'merge_key',right_on = 'merge_key',suffixes = ('_thenum', '_bom'))"
   ]
  },
  {
   "cell_type": "code",
   "execution_count": 31,
   "metadata": {
    "ExecuteTime": {
     "end_time": "2022-03-07T15:02:07.880160Z",
     "start_time": "2022-03-07T15:02:07.865158Z"
    }
   },
   "outputs": [
    {
     "name": "stdout",
     "output_type": "stream",
     "text": [
      "<class 'pandas.core.frame.DataFrame'>\n",
      "Int64Index: 1215 entries, 0 to 1214\n",
      "Data columns (total 18 columns):\n",
      " #   Column                  Non-Null Count  Dtype         \n",
      "---  ------                  --------------  -----         \n",
      " 0   id                      1215 non-null   int64         \n",
      " 1   release_date            1215 non-null   datetime64[ns]\n",
      " 2   movie                   1215 non-null   object        \n",
      " 3   budget_thenum           1215 non-null   int32         \n",
      " 4   domestic_gross_thenum   1215 non-null   int32         \n",
      " 5   worldwide_gross_thenum  1215 non-null   int64         \n",
      " 6   currency                1215 non-null   object        \n",
      " 7   foreign_gross_thenum    1215 non-null   int64         \n",
      " 8   net_revenue_thenum      1215 non-null   int64         \n",
      " 9   release_year            1215 non-null   int64         \n",
      " 10  release_month           1215 non-null   int64         \n",
      " 11  release_day             1215 non-null   int64         \n",
      " 12  merge_key               1215 non-null   object        \n",
      " 13  title                   1215 non-null   object        \n",
      " 14  studio                  1215 non-null   object        \n",
      " 15  domestic_gross_bom      1215 non-null   float64       \n",
      " 16  foreign_gross_bom       1215 non-null   int32         \n",
      " 17  year                    1215 non-null   int64         \n",
      "dtypes: datetime64[ns](1), float64(1), int32(3), int64(8), object(5)\n",
      "memory usage: 166.1+ KB\n"
     ]
    }
   ],
   "source": [
    "final.info()"
   ]
  },
  {
   "cell_type": "code",
   "execution_count": 33,
   "metadata": {
    "ExecuteTime": {
     "end_time": "2022-03-07T15:02:21.420072Z",
     "start_time": "2022-03-07T15:02:21.404068Z"
    }
   },
   "outputs": [
    {
     "data": {
      "text/plain": [
       "2010"
      ]
     },
     "execution_count": 33,
     "metadata": {},
     "output_type": "execute_result"
    }
   ],
   "source": [
    "final['year'].min()"
   ]
  },
  {
   "cell_type": "code",
   "execution_count": 32,
   "metadata": {
    "ExecuteTime": {
     "end_time": "2022-03-07T15:02:07.896164Z",
     "start_time": "2022-03-07T15:02:07.881161Z"
    }
   },
   "outputs": [
    {
     "data": {
      "text/html": [
       "<div>\n",
       "<style scoped>\n",
       "    .dataframe tbody tr th:only-of-type {\n",
       "        vertical-align: middle;\n",
       "    }\n",
       "\n",
       "    .dataframe tbody tr th {\n",
       "        vertical-align: top;\n",
       "    }\n",
       "\n",
       "    .dataframe thead th {\n",
       "        text-align: right;\n",
       "    }\n",
       "</style>\n",
       "<table border=\"1\" class=\"dataframe\">\n",
       "  <thead>\n",
       "    <tr style=\"text-align: right;\">\n",
       "      <th></th>\n",
       "      <th>movie</th>\n",
       "      <th>domestic_gross_thenum</th>\n",
       "      <th>domestic_gross_bom</th>\n",
       "      <th>foreign_gross_thenum</th>\n",
       "      <th>foreign_gross_bom</th>\n",
       "      <th>worldwide_gross_thenum</th>\n",
       "    </tr>\n",
       "  </thead>\n",
       "  <tbody>\n",
       "    <tr>\n",
       "      <th>763</th>\n",
       "      <td>Wolves</td>\n",
       "      <td>0</td>\n",
       "      <td>12100.0</td>\n",
       "      <td>94953</td>\n",
       "      <td>0</td>\n",
       "      <td>94953</td>\n",
       "    </tr>\n",
       "    <tr>\n",
       "      <th>822</th>\n",
       "      <td>Khumba</td>\n",
       "      <td>0</td>\n",
       "      <td>1000.0</td>\n",
       "      <td>20898221</td>\n",
       "      <td>27200000</td>\n",
       "      <td>20898221</td>\n",
       "    </tr>\n",
       "    <tr>\n",
       "      <th>1085</th>\n",
       "      <td>Anna</td>\n",
       "      <td>0</td>\n",
       "      <td>4300.0</td>\n",
       "      <td>1200000</td>\n",
       "      <td>0</td>\n",
       "      <td>1200000</td>\n",
       "    </tr>\n",
       "    <tr>\n",
       "      <th>1202</th>\n",
       "      <td>They Will Have to Kill Us First</td>\n",
       "      <td>0</td>\n",
       "      <td>7500.0</td>\n",
       "      <td>7943</td>\n",
       "      <td>0</td>\n",
       "      <td>7943</td>\n",
       "    </tr>\n",
       "  </tbody>\n",
       "</table>\n",
       "</div>"
      ],
      "text/plain": [
       "                                movie  domestic_gross_thenum  \\\n",
       "763                            Wolves                      0   \n",
       "822                            Khumba                      0   \n",
       "1085                             Anna                      0   \n",
       "1202  They Will Have to Kill Us First                      0   \n",
       "\n",
       "      domestic_gross_bom  foreign_gross_thenum  foreign_gross_bom  \\\n",
       "763              12100.0                 94953                  0   \n",
       "822               1000.0              20898221           27200000   \n",
       "1085              4300.0               1200000                  0   \n",
       "1202              7500.0                  7943                  0   \n",
       "\n",
       "      worldwide_gross_thenum  \n",
       "763                    94953  \n",
       "822                 20898221  \n",
       "1085                 1200000  \n",
       "1202                    7943  "
      ]
     },
     "execution_count": 32,
     "metadata": {},
     "output_type": "execute_result"
    }
   ],
   "source": [
    "final[(final['domestic_gross_thenum']==0) & (final['domestic_gross_bom']!=0)][['movie','domestic_gross_thenum','domestic_gross_bom',\n",
    "                                                                              'foreign_gross_thenum','foreign_gross_bom',\n",
    "                                                                              'worldwide_gross_thenum']]"
   ]
  },
  {
   "cell_type": "code",
   "execution_count": null,
   "metadata": {},
   "outputs": [],
   "source": []
  }
 ],
 "metadata": {
  "kernelspec": {
   "display_name": "Python (learn-env)",
   "language": "python",
   "name": "learn-env"
  },
  "language_info": {
   "codemirror_mode": {
    "name": "ipython",
    "version": 3
   },
   "file_extension": ".py",
   "mimetype": "text/x-python",
   "name": "python",
   "nbconvert_exporter": "python",
   "pygments_lexer": "ipython3",
   "version": "3.8.5"
  }
 },
 "nbformat": 4,
 "nbformat_minor": 4
}
